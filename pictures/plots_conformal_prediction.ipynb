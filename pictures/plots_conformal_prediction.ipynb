{
 "cells": [
  {
   "cell_type": "code",
   "execution_count": 1,
   "metadata": {},
   "outputs": [
    {
     "name": "stderr",
     "output_type": "stream",
     "text": [
      "C:\\Users\\Korbi\\AppData\\Local\\Temp\\ipykernel_12340\\4216375363.py:5: TqdmExperimentalWarning: Using `tqdm.autonotebook.tqdm` in notebook mode. Use `tqdm.tqdm` instead to force console mode (e.g. in jupyter console)\n",
      "  from tqdm.autonotebook import tqdm\n"
     ]
    }
   ],
   "source": [
    "import _base_path\n",
    "import pickle\n",
    "import torch\n",
    "import numpy as np\n",
    "import pandas as pd\n",
    "from tqdm.autonotebook import tqdm \n",
    "from transformers import AutoTokenizer\n",
    "\n",
    "import matplotlib\n",
    "if 'init_done' in globals():\n",
    "    matplotlib.use(\"pgf\")\n",
    "    matplotlib.rcParams.update({\n",
    "        \"pgf.texsystem\": \"pdflatex\",\n",
    "        'font.family': 'serif',\n",
    "        'text.usetex': True,\n",
    "        'pgf.rcfonts': False,\n",
    "    })\n",
    "import matplotlib.pyplot as plt\n",
    "\n",
    "from resources.evaluator import EvaluatorConformalSimple, EvaluatorMaxK\n",
    "from resources.models import DummyModel\n",
    "from resources.data_io import load_mappings, load_data\n",
    "\n",
    "from TrainerClassic import TrainerClassic\n",
    "from TrainerTransformer import TrainerTransformer\n",
    "\n",
    "init_done = True"
   ]
  },
  {
   "cell_type": "code",
   "execution_count": 2,
   "metadata": {},
   "outputs": [],
   "source": [
    "DATA     = 'incidents'\n",
    "TEXTS    = 'title'\n",
    "LABEL    = 'product'\n",
    "\n",
    "K        = list(np.arange(1901) + 1)\n",
    "EPSILON  = list(np.power(2, np.arange(0, 6, .2)) / 100.)"
   ]
  },
  {
   "cell_type": "code",
   "execution_count": 3,
   "metadata": {},
   "outputs": [
    {
     "data": {
      "text/plain": [
       "array(['adobo seasoning', 'after dinner mints', 'alcoholic beverages',\n",
       "       ...,\n",
       "       'yoghurt-like soya-based products containing bacteria cultures',\n",
       "       'yogurt raisins', 'zomi and palm oil'], dtype='<U70')"
      ]
     },
     "execution_count": 3,
     "metadata": {},
     "output_type": "execute_result"
    }
   ],
   "source": [
    "mappings = load_mappings(f\"../data/{DATA}/splits/\", LABEL)\n",
    "mappings"
   ]
  },
  {
   "cell_type": "markdown",
   "metadata": {},
   "source": [
    "# Predict sets:"
   ]
  },
  {
   "cell_type": "code",
   "execution_count": 4,
   "metadata": {},
   "outputs": [],
   "source": [
    "def predict(load_base_classifier):\n",
    "    ps_max_k = [pd.DataFrame() for _ in range(5)]\n",
    "    ps_conf  = [pd.DataFrame() for _ in range(5)]\n",
    " \n",
    "    for i in range(5):\n",
    "        # load evaluators\n",
    "        evaluator_base, tokenizer = load_base_classifier(i)\n",
    "        evaluator_maxk = EvaluatorMaxK(evaluator_base)\n",
    "        evaluator_conf = EvaluatorConformalSimple(evaluator_base)\n",
    "\n",
    "        # load data:\n",
    "        _, data_calib, data_test = load_data(\n",
    "            f\"../data/{DATA}/splits/\",\n",
    "            TEXTS,\n",
    "            LABEL,\n",
    "            i,\n",
    "            tokenizer,\n",
    "            add_texts=True\n",
    "        )\n",
    "\n",
    "        # predict class probabilities:\n",
    "        probs = evaluator_base.predict(data_test)\n",
    "\n",
    "        ps_max_k[i]['texts']  = evaluator_base.last_texts\n",
    "        ps_max_k[i]['labels'] = list(probs['labels'])\n",
    "        \n",
    "        ps_conf[i]['texts']  = evaluator_base.last_texts\n",
    "        ps_conf[i]['labels'] = list(probs['labels'])\n",
    "\n",
    "        # calibrate conformal prediction:\n",
    "        evaluator_conf.calibrate(data_calib)\n",
    "\n",
    "        # predict sets:\n",
    "        for epsilon in EPSILON:\n",
    "            ps_conf[i][f'{epsilon:.2f}'] = evaluator_conf.predict(epsilon, y_pred=probs['predictions'])['predictions']\n",
    "\n",
    "        # predict max-k sets:\n",
    "        for k in K:\n",
    "            ps_max_k[i][f'{k:d}'] = evaluator_maxk.predict(k, y_pred=probs['predictions'])['predictions']\n",
    "\n",
    "    return ps_max_k, ps_conf"
   ]
  },
  {
   "cell_type": "code",
   "execution_count": 5,
   "metadata": {},
   "outputs": [],
   "source": [
    "def evaluate(ps, keys):\n",
    "    sl, sa = {}, {}\n",
    "\n",
    "    for key in keys:\n",
    "        sl[key] = [len(y_pred) for df in ps for y_pred in df[key].values]\n",
    "        sa[key] = [np.mean([np.argmax(y_true) in y_pred['i'] for y_true, y_pred in df[['labels', key]].values]) for df in ps]\n",
    "\n",
    "    return sl, sa"
   ]
  },
  {
   "cell_type": "markdown",
   "metadata": {},
   "source": [
    "## Best traditional classifier:"
   ]
  },
  {
   "cell_type": "code",
   "execution_count": null,
   "metadata": {},
   "outputs": [],
   "source": [
    "ps_classic_max_k, ps_classic_conf = predict(\n",
    "    lambda i: TrainerClassic.load(f'../models/bow-svm/bow-svm-{LABEL}-{i:d}/', 'sum', 2)\n",
    ")"
   ]
  },
  {
   "cell_type": "code",
   "execution_count": null,
   "metadata": {},
   "outputs": [],
   "source": [
    "ps_deep_max_k, ps_deep_conf = predict(\n",
    "    lambda i: (\n",
    "        TrainerTransformer.load(\n",
    "            dir=f'../models/roberta-base/roberta-base-{LABEL}-{i:d}/f1/',\n",
    "            batch_size=16,\n",
    "            expand_fcn=lambda labels, predictions: (\n",
    "                labels.type(torch.float),\n",
    "                predictions['logits']\n",
    "            ),\n",
    "            loss_fcn=torch.nn.CrossEntropyLoss(\n",
    "                #weight=None,\n",
    "                reduction='mean'\n",
    "            ),\n",
    "            num_labels=len(mappings),\n",
    "            normalize_fcn='sum'\n",
    "        ),\n",
    "        AutoTokenizer.from_pretrained('roberta-base')\n",
    "    )\n",
    ")"
   ]
  },
  {
   "cell_type": "markdown",
   "metadata": {},
   "source": [
    "# Best traditional classifier:"
   ]
  },
  {
   "cell_type": "markdown",
   "metadata": {},
   "source": [
    "## max-$k$ prediction:"
   ]
  },
  {
   "cell_type": "code",
   "execution_count": null,
   "metadata": {},
   "outputs": [],
   "source": [
    "# evaluate set length and accuracy:\n",
    "sl_classic_max_k, sa_classic_max_k = evaluate(ps_classic_max_k, [f'{k:d}' for k in K])"
   ]
  },
  {
   "cell_type": "code",
   "execution_count": null,
   "metadata": {},
   "outputs": [
    {
     "name": "stdout",
     "output_type": "stream",
     "text": [
      "Set length: $5.00 \\pm 0.00$\n",
      "    -> max: $5.00$\n",
      "    -> min: $5.00$\n",
      "\n",
      "Set accuracy: $0.90 \\pm 0.01$\n",
      "      -> max: $0.91$\n",
      "      -> min: $0.90$\n"
     ]
    }
   ],
   "source": [
    "# print best:\n",
    "k = '5'\n",
    "print(f'Set length: ${np.mean(sl_classic_max_k[k]):.2f} \\\\pm {np.std(sl_classic_max_k[k]):.2f}$')\n",
    "print(f'    -> max: ${np.max(sl_classic_max_k[k]):.2f}$')\n",
    "print(f'    -> min: ${np.min(sl_classic_max_k[k]):.2f}$')\n",
    "print()\n",
    "print(f'Set accuracy: ${np.mean(sa_classic_max_k[k]):.2f} \\\\pm {np.std(sa_classic_max_k[k]):.2f}$')\n",
    "print(f'      -> max: ${np.max(sa_classic_max_k[k]):.2f}$')\n",
    "print(f'      -> min: ${np.min(sa_classic_max_k[k]):.2f}$')"
   ]
  },
  {
   "cell_type": "markdown",
   "metadata": {},
   "source": [
    "## Conformal prediction:"
   ]
  },
  {
   "cell_type": "code",
   "execution_count": null,
   "metadata": {},
   "outputs": [],
   "source": [
    "# evaluate set length and accuracy:\n",
    "sl_classic_conf, sa_classic_conf = evaluate(ps_classic_conf, [f'{epsilon:.2f}' for epsilon in EPSILON])"
   ]
  },
  {
   "cell_type": "code",
   "execution_count": null,
   "metadata": {},
   "outputs": [
    {
     "name": "stdout",
     "output_type": "stream",
     "text": [
      "Set length: $16.26 \\pm 4.63$\n",
      "    -> max: $28.00$\n",
      "    -> min: $2.00$\n",
      "\n",
      "Set accuracy: $0.99 \\pm 0.01$\n",
      "      -> max: $1.00$\n",
      "      -> min: $0.98$\n"
     ]
    }
   ],
   "source": [
    "# print best:\n",
    "epsilon = '0.01'\n",
    "print(f'Set length: ${np.mean(sl_classic_conf[epsilon]):.2f} \\\\pm {np.std(sl_classic_conf[epsilon]):.2f}$')\n",
    "print(f'    -> max: ${np.max(sl_classic_conf[epsilon]):.2f}$')\n",
    "print(f'    -> min: ${np.min(sl_classic_conf[epsilon]):.2f}$')\n",
    "print()\n",
    "print(f'Set accuracy: ${np.mean(sa_classic_conf[epsilon]):.2f} \\\\pm {np.std(sa_classic_conf[epsilon]):.2f}$')\n",
    "print(f'      -> max: ${np.max(sa_classic_conf[epsilon]):.2f}$')\n",
    "print(f'      -> min: ${np.min(sa_classic_conf[epsilon]):.2f}$')"
   ]
  },
  {
   "cell_type": "markdown",
   "metadata": {},
   "source": [
    "# Best transformer:"
   ]
  },
  {
   "cell_type": "markdown",
   "metadata": {},
   "source": [
    "## max-$k$ prediction:"
   ]
  },
  {
   "cell_type": "code",
   "execution_count": null,
   "metadata": {},
   "outputs": [],
   "source": [
    "# evaluate set length and accuracy:\n",
    "sl_deep_max_k, sa_deep_max_k = evaluate(ps_deep_max_k, [f'{k:d}' for k in K])"
   ]
  },
  {
   "cell_type": "code",
   "execution_count": null,
   "metadata": {},
   "outputs": [
    {
     "name": "stdout",
     "output_type": "stream",
     "text": [
      "Set length: $5.00 \\pm 0.00$\n",
      "    -> max: $5.00$\n",
      "    -> min: $5.00$\n",
      "\n",
      "Set accuracy: $0.91 \\pm 0.00$\n",
      "      -> max: $0.91$\n",
      "      -> min: $0.90$\n"
     ]
    }
   ],
   "source": [
    "# print best:\n",
    "k = '5'\n",
    "print(f'Set length: ${np.mean(sl_deep_max_k[k]):.2f} \\\\pm {np.std(sl_deep_max_k[k]):.2f}$')\n",
    "print(f'    -> max: ${np.max(sl_deep_max_k[k]):.2f}$')\n",
    "print(f'    -> min: ${np.min(sl_deep_max_k[k]):.2f}$')\n",
    "print()\n",
    "print(f'Set accuracy: ${np.mean(sa_deep_max_k[k]):.2f} \\\\pm {np.std(sa_deep_max_k[k]):.2f}$')\n",
    "print(f'      -> max: ${np.max(sa_deep_max_k[k]):.2f}$')\n",
    "print(f'      -> min: ${np.min(sa_deep_max_k[k]):.2f}$')"
   ]
  },
  {
   "cell_type": "markdown",
   "metadata": {},
   "source": [
    "## Conformal prediction:"
   ]
  },
  {
   "cell_type": "code",
   "execution_count": null,
   "metadata": {},
   "outputs": [],
   "source": [
    "# evaluate set length and accuracy:\n",
    "sl_deep_conf, sa_deep_conf = evaluate(ps_deep_conf, [f'{epsilon:.2f}' for epsilon in EPSILON])"
   ]
  },
  {
   "cell_type": "code",
   "execution_count": null,
   "metadata": {},
   "outputs": [
    {
     "name": "stdout",
     "output_type": "stream",
     "text": [
      "Set length: $21.73 \\pm 4.34$\n",
      "    -> max: $29.00$\n",
      "    -> min: $9.00$\n",
      "\n",
      "Set accuracy: $0.99 \\pm 0.00$\n",
      "      -> max: $0.99$\n",
      "      -> min: $0.99$\n"
     ]
    }
   ],
   "source": [
    "# print best:\n",
    "epsilon = '0.01'\n",
    "print(f'Set length: ${np.mean(sl_deep_conf[epsilon]):.2f} \\\\pm {np.std(sl_deep_conf[epsilon]):.2f}$')\n",
    "print(f'    -> max: ${np.max(sl_deep_conf[epsilon]):.2f}$')\n",
    "print(f'    -> min: ${np.min(sl_deep_conf[epsilon]):.2f}$')\n",
    "print()\n",
    "print(f'Set accuracy: ${np.mean(sa_deep_conf[epsilon]):.2f} \\\\pm {np.std(sa_deep_conf[epsilon]):.2f}$')\n",
    "print(f'      -> max: ${np.max(sa_deep_conf[epsilon]):.2f}$')\n",
    "print(f'      -> min: ${np.min(sa_deep_conf[epsilon]):.2f}$')"
   ]
  },
  {
   "cell_type": "markdown",
   "metadata": {},
   "source": [
    "# Plots:"
   ]
  },
  {
   "cell_type": "code",
   "execution_count": null,
   "metadata": {},
   "outputs": [],
   "source": [
    "def boxplot(**kwargs):\n",
    "    data   = []\n",
    "    labels = []\n",
    "    for param in kwargs:\n",
    "        for value in kwargs[param]:\n",
    "            data.append(kwargs[param][value])\n",
    "            labels.append(f'${param}={value}$')\n",
    "\n",
    "    plt.boxplot(np.transpose(np.array(data)), labels=labels)"
   ]
  },
  {
   "cell_type": "code",
   "execution_count": null,
   "metadata": {},
   "outputs": [
    {
     "data": {
      "image/png": "[encoded data removed]",
      "text/plain": [
       "<Figure size 640x480 with 1 Axes>"
      ]
     },
     "metadata": {},
     "output_type": "display_data"
    }
   ],
   "source": [
    "boxplot(k=sl_classic_max_k, e=sl_classic_conf)"
   ]
  },
  {
   "cell_type": "code",
   "execution_count": null,
   "metadata": {},
   "outputs": [
    {
     "data": {
      "image/png": "[encoded data removed]",
      "text/plain": [
       "<Figure size 640x480 with 1 Axes>"
      ]
     },
     "metadata": {},
     "output_type": "display_data"
    }
   ],
   "source": [
    "boxplot(k=sa_classic_max_k, e=sa_classic_conf)"
   ]
  },
  {
   "cell_type": "code",
   "execution_count": null,
   "metadata": {},
   "outputs": [
    {
     "name": "stderr",
     "output_type": "stream",
     "text": [
      "C:\\Users\\Korbi\\AppData\\Local\\Temp\\ipykernel_13680\\2779057370.py:87: UserWarning: Matplotlib is currently using pgf, which is a non-GUI backend, so cannot show the figure.\n",
      "  plt.show()\n"
     ]
    }
   ],
   "source": [
    "fig, ax = plt.subplots(1, 1, figsize=(3, 3))\n",
    "\n",
    "clf_classic = 'BOW-SVM'\n",
    "clf_deep = 'RoBERTa'\n",
    "left = (LABEL == 'hazard_category')\n",
    "\n",
    "# plot curve for conformal with best traditional cf:\n",
    "data_x_classic_conf = []\n",
    "data_y_classic_conf = []\n",
    "try:\n",
    "    for epsilon in sl_classic_conf:\n",
    "        data_x_classic_conf.append(np.mean(sl_classic_conf[epsilon]))\n",
    "        data_y_classic_conf.append(np.mean(sa_classic_conf[epsilon]))\n",
    "    ax.plot(data_x_classic_conf, data_y_classic_conf, label=f'{clf_classic} + conformal')\n",
    "except NameError: pass\n",
    "\n",
    "# plot curve for max-k with best traditional cf:\n",
    "data_x_classic_max_k = []\n",
    "data_y_classic_max_k = []\n",
    "try:\n",
    "    for k in sl_classic_max_k:\n",
    "        data_x_classic_max_k.append(np.mean(sl_classic_max_k[k]))\n",
    "        data_y_classic_max_k.append(np.mean(sa_classic_max_k[k]))\n",
    "    ax.plot(data_x_classic_max_k, data_y_classic_max_k, label=f'{clf_classic} + max-$k$')\n",
    "except NameError: pass\n",
    "\n",
    "# plot curve for conformal with best transformer cf:\n",
    "data_x_deep_conf = []\n",
    "data_y_deep_conf = []\n",
    "try:\n",
    "    for epsilon in sl_deep_conf:\n",
    "        data_x_deep_conf.append(np.mean(sl_deep_conf[epsilon]))\n",
    "        data_y_deep_conf.append(np.mean(sa_deep_conf[epsilon]))\n",
    "    ax.plot(data_x_deep_conf, data_y_deep_conf, label=f'{clf_deep} + conformal')\n",
    "except NameError: pass\n",
    "\n",
    "# plot curve for max-k with best transformer cf:\n",
    "data_x_deep_max_k = []\n",
    "data_y_deep_max_k = []\n",
    "try:\n",
    "    for k in sl_deep_max_k:\n",
    "        data_x_deep_max_k.append(np.mean(sl_deep_max_k[k]))\n",
    "        data_y_deep_max_k.append(np.mean(sa_deep_max_k[k]))\n",
    "    ax.plot(data_x_deep_max_k, data_y_deep_max_k, label=f'{clf_deep} + max-$k$')\n",
    "except NameError: pass\n",
    "\n",
    "# plot extreme values:\n",
    "x_max = max([max(data_x_classic_max_k), max(data_x_classic_conf)])\n",
    "ax.plot([1., 1., x_max], [.5, 1., 1.], 'r--')\n",
    "ax.plot(1., 1., 'or--', label='optimum')\n",
    "\n",
    "# plot base performance:\n",
    "try:\n",
    "    y_min_classic = np.mean(sa_classic_max_k['1'])\n",
    "    ax.plot([1., x_max], [y_min_classic, y_min_classic], 'g--')\n",
    "    ax.plot(1, y_min_classic, 'og--', label=clf_classic)\n",
    "except NameError: pass\n",
    "\n",
    "try:\n",
    "    y_min_deep = np.mean(sa_deep_max_k['1'])\n",
    "    ax.plot([1., x_max], [y_min_deep, y_min_deep], 'b--')\n",
    "    ax.plot(1, y_min_deep, 'ob--', label=clf_deep)\n",
    "except NameError: pass\n",
    "\n",
    "margin = (x_max-1.) * 0.02\n",
    "ax.set_xlim(1 - margin, x_max + margin)\n",
    "\n",
    "margin = 0.5 * 0.02\n",
    "ax.set_ylim(0.5 - margin, 1 + margin)\n",
    "\n",
    "for y in [.5, .6, .7, .8 , .9, 1.]:\n",
    "    ax.axhline(y, linewidth=.5, color='grey', zorder=0)\n",
    "\n",
    "ax.set_title(f'\\\\texttt\\u007B{LABEL}\\u007D')\n",
    "ax.set_xlabel('Average Set Length')\n",
    "if left:\n",
    "    ax.set_yticks([.5, .6, .7, .8 , .9, 1.])\n",
    "    ax.set_ylabel('Average Set Accuracy')\n",
    "    ax.legend(fontsize=8)\n",
    "\n",
    "else:\n",
    "    ax.set_yticks([])\n",
    "    ax.set_ylabel('')\n",
    "\n",
    "plt.subplots_adjust(bottom=0.15, left=0.2, right=.95, top=.9)\n",
    "plt.savefig(f'plots/conformal_performance_{LABEL}.pdf')\n",
    "plt.show()"
   ]
  }
 ],
 "metadata": {
  "kernelspec": {
   "display_name": "Python 3",
   "language": "python",
   "name": "python3"
  },
  "language_info": {
   "codemirror_mode": {
    "name": "ipython",
    "version": 3
   },
   "file_extension": ".py",
   "mimetype": "text/x-python",
   "name": "python",
   "nbconvert_exporter": "python",
   "pygments_lexer": "ipython3",
   "version": "3.11.6"
  },
  "orig_nbformat": 4
 },
 "nbformat": 4,
 "nbformat_minor": 2
}
