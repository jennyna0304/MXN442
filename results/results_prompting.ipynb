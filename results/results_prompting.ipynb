{
 "cells": [
  {
   "cell_type": "code",
   "execution_count": 1,
   "metadata": {},
   "outputs": [
    {
     "name": "stdout",
     "output_type": "stream",
     "text": [
      "Setting base bath to \"c:\\Users\\Korbi\\Documents\\Uni\\PhD\\23-10_ConformalPrompting\\code\"\n"
     ]
    }
   ],
   "source": [
    "import _base_path\n",
    "import json\n",
    "import numpy as np\n",
    "import pandas as pd\n",
    "import matplotlib.pyplot as plt\n",
    "from resources.data_io import load_mappings\n",
    "from resources.metrics import ConfusionMatrix\n",
    "\n",
    "from sklearn.metrics import precision_score, recall_score, f1_score, accuracy_score\n",
    "from typing import Union, Iterable"
   ]
  },
  {
   "cell_type": "code",
   "execution_count": 2,
   "metadata": {},
   "outputs": [],
   "source": [
    "DATA      = 'incidents'\n",
    "LABEL     = 'product_category'\n",
    "MODEL     = 'palm'\n",
    "SHOTS     = 2\n",
    "CV_SPLITS = [0]#, 1, 2, 3, 4]"
   ]
  },
  {
   "cell_type": "markdown",
   "metadata": {},
   "source": [
    "# Load Class-Mappings:"
   ]
  },
  {
   "cell_type": "code",
   "execution_count": 3,
   "metadata": {},
   "outputs": [
    {
     "data": {
      "text/plain": [
       "array(['alcoholic beverages', 'bivalve molluscs and products therefor',\n",
       "       'cephalopods and products thereof', 'cereals and bakery products',\n",
       "       'cocoa and cocoa preparations, coffee and tea', 'confectionery',\n",
       "       'crustaceans and products thereof',\n",
       "       'dietetic foods, food supplements, fortified foods',\n",
       "       'eggs and egg products', 'fats and oils', 'feed additives',\n",
       "       'feed materials', 'fish and fish products',\n",
       "       'food additives and flavourings', 'food contact materials',\n",
       "       'fruits and vegetables', 'herbs and spices',\n",
       "       'honey and royal jelly', 'ices and desserts',\n",
       "       'meat and meat products (other than poultry)',\n",
       "       'milk and milk products', 'non-alcoholic beverages',\n",
       "       'nuts, nut products and seeds', 'other food product / mixed',\n",
       "       'pet feed', 'poultry meat and poultry meat products',\n",
       "       'prepared dishes and snacks',\n",
       "       'soups, broths, sauces and condiments', 'sugars and syrups'],\n",
       "      dtype='<U49')"
      ]
     },
     "execution_count": 3,
     "metadata": {},
     "output_type": "execute_result"
    }
   ],
   "source": [
    "class_map = load_mappings(f'../data/{DATA}/splits/', LABEL)\n",
    "class_map"
   ]
  },
  {
   "cell_type": "code",
   "execution_count": 4,
   "metadata": {},
   "outputs": [],
   "source": [
    "with open('../data/incidents/support_zones.json', 'r') as file:\n",
    "    high_support, low_support = json.load(file)[LABEL]"
   ]
  },
  {
   "cell_type": "code",
   "execution_count": 5,
   "metadata": {},
   "outputs": [
    {
     "data": {
      "text/plain": [
       "['meat and meat products (other than poultry)',\n",
       " 'cereals and bakery products',\n",
       " 'fruits and vegetables']"
      ]
     },
     "execution_count": 5,
     "metadata": {},
     "output_type": "execute_result"
    }
   ],
   "source": [
    "high_support"
   ]
  },
  {
   "cell_type": "code",
   "execution_count": 6,
   "metadata": {},
   "outputs": [
    {
     "data": {
      "text/plain": [
       "['cocoa and cocoa preparations, coffee and tea',\n",
       " 'ices and desserts',\n",
       " 'fish and fish products',\n",
       " 'confectionery',\n",
       " 'herbs and spices',\n",
       " 'dietetic foods, food supplements, fortified foods',\n",
       " 'non-alcoholic beverages',\n",
       " 'alcoholic beverages',\n",
       " 'other food product / mixed',\n",
       " 'eggs and egg products',\n",
       " 'crustaceans and products thereof',\n",
       " 'bivalve molluscs and products therefor',\n",
       " 'fats and oils',\n",
       " 'food contact materials',\n",
       " 'pet feed',\n",
       " 'food additives and flavourings',\n",
       " 'honey and royal jelly',\n",
       " 'feed materials',\n",
       " 'sugars and syrups',\n",
       " 'cephalopods and products thereof',\n",
       " 'feed additives']"
      ]
     },
     "execution_count": 6,
     "metadata": {},
     "output_type": "execute_result"
    }
   ],
   "source": [
    "low_support"
   ]
  },
  {
   "cell_type": "code",
   "execution_count": 7,
   "metadata": {},
   "outputs": [
    {
     "data": {
      "text/plain": [
       "[('meat and meat products (other than poultry)', 19, 1040),\n",
       " ('cereals and bakery products', 3, 974),\n",
       " ('fruits and vegetables', 15, 811),\n",
       " ('prepared dishes and snacks', 26, 668),\n",
       " ('milk and milk products', 20, 551),\n",
       " ('poultry meat and poultry meat products', 25, 471),\n",
       " ('nuts, nut products and seeds', 22, 408),\n",
       " ('soups, broths, sauces and condiments', 27, 390),\n",
       " ('ices and desserts', 18, 305),\n",
       " ('cocoa and cocoa preparations, coffee and tea', 4, 303),\n",
       " ('fish and fish products', 12, 283),\n",
       " ('confectionery', 5, 254),\n",
       " ('herbs and spices', 16, 216),\n",
       " ('dietetic foods, food supplements, fortified foods', 7, 214),\n",
       " ('non-alcoholic beverages', 21, 208),\n",
       " ('alcoholic beverages', 0, 99),\n",
       " ('other food product / mixed', 23, 86),\n",
       " ('eggs and egg products', 8, 67),\n",
       " ('crustaceans and products thereof', 6, 56),\n",
       " ('bivalve molluscs and products therefor', 1, 39),\n",
       " ('fats and oils', 9, 32),\n",
       " ('food contact materials', 14, 26),\n",
       " ('pet feed', 24, 23),\n",
       " ('food additives and flavourings', 13, 15),\n",
       " ('honey and royal jelly', 17, 12),\n",
       " ('feed materials', 11, 7),\n",
       " ('sugars and syrups', 28, 6),\n",
       " ('cephalopods and products thereof', 2, 4),\n",
       " ('feed additives', 10, 1)]"
      ]
     },
     "execution_count": 7,
     "metadata": {},
     "output_type": "execute_result"
    }
   ],
   "source": [
    "counts = pd.read_csv('../data/incidents/incidents_final.csv')[LABEL].value_counts()\n",
    "\n",
    "class_map = list(zip(\n",
    "    class_map,\n",
    "    range(len(class_map)),\n",
    "    [counts[c] if c in counts else 0 for c in class_map]\n",
    "))\n",
    "class_map.sort(key=lambda row:row[2], reverse=True)\n",
    "class_map"
   ]
  },
  {
   "cell_type": "markdown",
   "metadata": {},
   "source": [
    "# Load Results:"
   ]
  },
  {
   "cell_type": "code",
   "execution_count": 8,
   "metadata": {},
   "outputs": [
    {
     "data": {
      "text/html": [
       "<div>\n",
       "<style scoped>\n",
       "    .dataframe tbody tr th:only-of-type {\n",
       "        vertical-align: middle;\n",
       "    }\n",
       "\n",
       "    .dataframe tbody tr th {\n",
       "        vertical-align: top;\n",
       "    }\n",
       "\n",
       "    .dataframe thead th {\n",
       "        text-align: right;\n",
       "    }\n",
       "</style>\n",
       "<table border=\"1\" class=\"dataframe\">\n",
       "  <thead>\n",
       "    <tr style=\"text-align: right;\">\n",
       "      <th></th>\n",
       "      <th>cv_split</th>\n",
       "      <th>label</th>\n",
       "      <th>output_limited</th>\n",
       "      <th>output_conformal_5%</th>\n",
       "      <th>output_max-5</th>\n",
       "      <th>output_max-10</th>\n",
       "    </tr>\n",
       "  </thead>\n",
       "  <tbody>\n",
       "    <tr>\n",
       "      <th>0</th>\n",
       "      <td>0</td>\n",
       "      <td>meat and meat products (other than poultry)</td>\n",
       "      <td>meat and meat products</td>\n",
       "      <td>meat and meat products (other than poultry)</td>\n",
       "      <td>meat and meat products (other than poultry)</td>\n",
       "      <td>meat and meat products (other than poultry)</td>\n",
       "    </tr>\n",
       "    <tr>\n",
       "      <th>1</th>\n",
       "      <td>0</td>\n",
       "      <td>meat and meat products (other than poultry)</td>\n",
       "      <td>meat and meat products (other than poultry)</td>\n",
       "      <td>meat and meat products (other than poultry)</td>\n",
       "      <td>meat and meat products (other than poultry)</td>\n",
       "      <td>meat and meat products (other than poultry)</td>\n",
       "    </tr>\n",
       "    <tr>\n",
       "      <th>2</th>\n",
       "      <td>0</td>\n",
       "      <td>fish and fish products</td>\n",
       "      <td>fish and fish products</td>\n",
       "      <td>fish and fish products</td>\n",
       "      <td>fish and fish products</td>\n",
       "      <td>fish and fish products</td>\n",
       "    </tr>\n",
       "    <tr>\n",
       "      <th>3</th>\n",
       "      <td>0</td>\n",
       "      <td>meat and meat products (other than poultry) | ...</td>\n",
       "      <td>meat and meat products</td>\n",
       "      <td>poultry meat and poultry meat products</td>\n",
       "      <td>poultry meat and poultry meat products</td>\n",
       "      <td>poultry meat and poultry meat products</td>\n",
       "    </tr>\n",
       "    <tr>\n",
       "      <th>4</th>\n",
       "      <td>0</td>\n",
       "      <td>poultry meat and poultry meat products</td>\n",
       "      <td>prepared dishes and snacks</td>\n",
       "      <td>prepared dishes and snacks</td>\n",
       "      <td>prepared dishes and snacks</td>\n",
       "      <td>prepared dishes and snacks</td>\n",
       "    </tr>\n",
       "  </tbody>\n",
       "</table>\n",
       "</div>"
      ],
      "text/plain": [
       "   cv_split                                              label  \\\n",
       "0         0        meat and meat products (other than poultry)   \n",
       "1         0        meat and meat products (other than poultry)   \n",
       "2         0                             fish and fish products   \n",
       "3         0  meat and meat products (other than poultry) | ...   \n",
       "4         0             poultry meat and poultry meat products   \n",
       "\n",
       "                                output_limited  \\\n",
       "0                       meat and meat products   \n",
       "1  meat and meat products (other than poultry)   \n",
       "2                       fish and fish products   \n",
       "3                       meat and meat products   \n",
       "4                   prepared dishes and snacks   \n",
       "\n",
       "                           output_conformal_5%  \\\n",
       "0  meat and meat products (other than poultry)   \n",
       "1  meat and meat products (other than poultry)   \n",
       "2                       fish and fish products   \n",
       "3       poultry meat and poultry meat products   \n",
       "4                   prepared dishes and snacks   \n",
       "\n",
       "                                  output_max-5  \\\n",
       "0  meat and meat products (other than poultry)   \n",
       "1  meat and meat products (other than poultry)   \n",
       "2                       fish and fish products   \n",
       "3       poultry meat and poultry meat products   \n",
       "4                   prepared dishes and snacks   \n",
       "\n",
       "                                 output_max-10  \n",
       "0  meat and meat products (other than poultry)  \n",
       "1  meat and meat products (other than poultry)  \n",
       "2                       fish and fish products  \n",
       "3       poultry meat and poultry meat products  \n",
       "4                   prepared dishes and snacks  "
      ]
     },
     "execution_count": 8,
     "metadata": {},
     "output_type": "execute_result"
    }
   ],
   "source": [
    "results = pd.read_csv(f'../results/{MODEL}/{MODEL}_{LABEL}_{SHOTS:d}-shot.csv').fillna('')\n",
    "results['label'] = [l for l in results['label']]\n",
    "\n",
    "results = results[['cv_split', 'label'] + [col for col in results.columns if col.startswith('output_')]]\n",
    "\n",
    "results.head()"
   ]
  },
  {
   "cell_type": "code",
   "execution_count": 9,
   "metadata": {},
   "outputs": [],
   "source": [
    "def calculate_metrics(classes=[c.lower() for c, _, _ in class_map], filter_empty=False):\n",
    "    metrics = {}\n",
    "\n",
    "    for col in results.drop(columns=['cv_split', 'label']).columns:\n",
    "        f1        = []\n",
    "        recall    = []\n",
    "        precision = []\n",
    "        accuracy  = []\n",
    "\n",
    "        for i in CV_SPLITS:\n",
    "            r = results[results['cv_split'] == i][['label', col]].values\n",
    "            \n",
    "            if (r[:,1] == '').all():\n",
    "                print(f'Skipping split {i:d} of column \"{col}\"')\n",
    "                continue\n",
    "            \n",
    "            if filter_empty:\n",
    "                r = r[r[:,1] != '']\n",
    "\n",
    "            y_true, y_pred = [], []\n",
    "            for labels, prediction in r:\n",
    "                y_true.append([c in labels for c in classes])\n",
    "                y_pred.append([c.lower() == prediction.lower() for c in classes])\n",
    "                #y_pred.append([all([t in prediction.lower() for t in c.split()]) or all([t.lower() in c for t in prediction.split()]) for c in classes])\n",
    "            y_true = np.array(y_true, dtype=float)\n",
    "            y_pred = np.array(y_pred, dtype=float)\n",
    "\n",
    "            f1.append(f1_score(y_true, y_pred, average='macro'))\n",
    "            recall.append(recall_score(y_true, y_pred, average='macro'))\n",
    "            precision.append(precision_score(y_true, y_pred, average='macro'))\n",
    "            accuracy.append(accuracy_score(y_true, y_pred))\n",
    "\n",
    "        metrics[col] = {\n",
    "            'f1':        (np.mean(f1), np.std(f1)),\n",
    "            'recall':    (np.mean(recall), np.std(recall)),\n",
    "            'precision': (np.mean(precision), np.std(precision)),\n",
    "            'accuracy':  (np.mean(accuracy), np.std(accuracy))\n",
    "        }\n",
    "    return metrics"
   ]
  },
  {
   "cell_type": "code",
   "execution_count": 10,
   "metadata": {},
   "outputs": [
    {
     "name": "stderr",
     "output_type": "stream",
     "text": [
      "C:\\Users\\Korbi\\AppData\\Local\\Packages\\PythonSoftwareFoundation.Python.3.11_qbz5n2kfra8p0\\LocalCache\\local-packages\\Python311\\site-packages\\sklearn\\metrics\\_classification.py:1757: UndefinedMetricWarning: F-score is ill-defined and being set to 0.0 in labels with no true nor predicted samples. Use `zero_division` parameter to control this behavior.\n",
      "  _warn_prf(average, \"true nor predicted\", \"F-score is\", len(true_sum))\n",
      "C:\\Users\\Korbi\\AppData\\Local\\Packages\\PythonSoftwareFoundation.Python.3.11_qbz5n2kfra8p0\\LocalCache\\local-packages\\Python311\\site-packages\\sklearn\\metrics\\_classification.py:1469: UndefinedMetricWarning: Recall is ill-defined and being set to 0.0 in labels with no true samples. Use `zero_division` parameter to control this behavior.\n",
      "  _warn_prf(average, modifier, msg_start, len(result))\n",
      "C:\\Users\\Korbi\\AppData\\Local\\Packages\\PythonSoftwareFoundation.Python.3.11_qbz5n2kfra8p0\\LocalCache\\local-packages\\Python311\\site-packages\\sklearn\\metrics\\_classification.py:1469: UndefinedMetricWarning: Precision is ill-defined and being set to 0.0 in labels with no predicted samples. Use `zero_division` parameter to control this behavior.\n",
      "  _warn_prf(average, modifier, msg_start, len(result))\n",
      "C:\\Users\\Korbi\\AppData\\Local\\Packages\\PythonSoftwareFoundation.Python.3.11_qbz5n2kfra8p0\\LocalCache\\local-packages\\Python311\\site-packages\\sklearn\\metrics\\_classification.py:1757: UndefinedMetricWarning: F-score is ill-defined and being set to 0.0 in labels with no true nor predicted samples. Use `zero_division` parameter to control this behavior.\n",
      "  _warn_prf(average, \"true nor predicted\", \"F-score is\", len(true_sum))\n",
      "C:\\Users\\Korbi\\AppData\\Local\\Packages\\PythonSoftwareFoundation.Python.3.11_qbz5n2kfra8p0\\LocalCache\\local-packages\\Python311\\site-packages\\sklearn\\metrics\\_classification.py:1469: UndefinedMetricWarning: Recall is ill-defined and being set to 0.0 in labels with no true samples. Use `zero_division` parameter to control this behavior.\n",
      "  _warn_prf(average, modifier, msg_start, len(result))\n",
      "C:\\Users\\Korbi\\AppData\\Local\\Packages\\PythonSoftwareFoundation.Python.3.11_qbz5n2kfra8p0\\LocalCache\\local-packages\\Python311\\site-packages\\sklearn\\metrics\\_classification.py:1469: UndefinedMetricWarning: Precision is ill-defined and being set to 0.0 in labels with no predicted samples. Use `zero_division` parameter to control this behavior.\n",
      "  _warn_prf(average, modifier, msg_start, len(result))\n",
      "C:\\Users\\Korbi\\AppData\\Local\\Packages\\PythonSoftwareFoundation.Python.3.11_qbz5n2kfra8p0\\LocalCache\\local-packages\\Python311\\site-packages\\sklearn\\metrics\\_classification.py:1757: UndefinedMetricWarning: F-score is ill-defined and being set to 0.0 in labels with no true nor predicted samples. Use `zero_division` parameter to control this behavior.\n",
      "  _warn_prf(average, \"true nor predicted\", \"F-score is\", len(true_sum))\n",
      "C:\\Users\\Korbi\\AppData\\Local\\Packages\\PythonSoftwareFoundation.Python.3.11_qbz5n2kfra8p0\\LocalCache\\local-packages\\Python311\\site-packages\\sklearn\\metrics\\_classification.py:1469: UndefinedMetricWarning: Recall is ill-defined and being set to 0.0 in labels with no true samples. Use `zero_division` parameter to control this behavior.\n",
      "  _warn_prf(average, modifier, msg_start, len(result))\n",
      "C:\\Users\\Korbi\\AppData\\Local\\Packages\\PythonSoftwareFoundation.Python.3.11_qbz5n2kfra8p0\\LocalCache\\local-packages\\Python311\\site-packages\\sklearn\\metrics\\_classification.py:1469: UndefinedMetricWarning: Precision is ill-defined and being set to 0.0 in labels with no predicted samples. Use `zero_division` parameter to control this behavior.\n",
      "  _warn_prf(average, modifier, msg_start, len(result))\n",
      "C:\\Users\\Korbi\\AppData\\Local\\Packages\\PythonSoftwareFoundation.Python.3.11_qbz5n2kfra8p0\\LocalCache\\local-packages\\Python311\\site-packages\\sklearn\\metrics\\_classification.py:1757: UndefinedMetricWarning: F-score is ill-defined and being set to 0.0 in labels with no true nor predicted samples. Use `zero_division` parameter to control this behavior.\n",
      "  _warn_prf(average, \"true nor predicted\", \"F-score is\", len(true_sum))\n",
      "C:\\Users\\Korbi\\AppData\\Local\\Packages\\PythonSoftwareFoundation.Python.3.11_qbz5n2kfra8p0\\LocalCache\\local-packages\\Python311\\site-packages\\sklearn\\metrics\\_classification.py:1469: UndefinedMetricWarning: Recall is ill-defined and being set to 0.0 in labels with no true samples. Use `zero_division` parameter to control this behavior.\n",
      "  _warn_prf(average, modifier, msg_start, len(result))\n",
      "C:\\Users\\Korbi\\AppData\\Local\\Packages\\PythonSoftwareFoundation.Python.3.11_qbz5n2kfra8p0\\LocalCache\\local-packages\\Python311\\site-packages\\sklearn\\metrics\\_classification.py:1469: UndefinedMetricWarning: Precision is ill-defined and being set to 0.0 in labels with no predicted samples. Use `zero_division` parameter to control this behavior.\n",
      "  _warn_prf(average, modifier, msg_start, len(result))\n",
      "C:\\Users\\Korbi\\AppData\\Local\\Packages\\PythonSoftwareFoundation.Python.3.11_qbz5n2kfra8p0\\LocalCache\\local-packages\\Python311\\site-packages\\sklearn\\metrics\\_classification.py:1757: UndefinedMetricWarning: F-score is ill-defined and being set to 0.0 in labels with no true nor predicted samples. Use `zero_division` parameter to control this behavior.\n",
      "  _warn_prf(average, \"true nor predicted\", \"F-score is\", len(true_sum))\n",
      "C:\\Users\\Korbi\\AppData\\Local\\Packages\\PythonSoftwareFoundation.Python.3.11_qbz5n2kfra8p0\\LocalCache\\local-packages\\Python311\\site-packages\\sklearn\\metrics\\_classification.py:1469: UndefinedMetricWarning: Recall is ill-defined and being set to 0.0 in labels with no true samples. Use `zero_division` parameter to control this behavior.\n",
      "  _warn_prf(average, modifier, msg_start, len(result))\n",
      "C:\\Users\\Korbi\\AppData\\Local\\Packages\\PythonSoftwareFoundation.Python.3.11_qbz5n2kfra8p0\\LocalCache\\local-packages\\Python311\\site-packages\\sklearn\\metrics\\_classification.py:1469: UndefinedMetricWarning: Precision is ill-defined and being set to 0.0 in labels with no predicted samples. Use `zero_division` parameter to control this behavior.\n",
      "  _warn_prf(average, modifier, msg_start, len(result))\n",
      "C:\\Users\\Korbi\\AppData\\Local\\Packages\\PythonSoftwareFoundation.Python.3.11_qbz5n2kfra8p0\\LocalCache\\local-packages\\Python311\\site-packages\\sklearn\\metrics\\_classification.py:1757: UndefinedMetricWarning: F-score is ill-defined and being set to 0.0 in labels with no true nor predicted samples. Use `zero_division` parameter to control this behavior.\n",
      "  _warn_prf(average, \"true nor predicted\", \"F-score is\", len(true_sum))\n",
      "C:\\Users\\Korbi\\AppData\\Local\\Packages\\PythonSoftwareFoundation.Python.3.11_qbz5n2kfra8p0\\LocalCache\\local-packages\\Python311\\site-packages\\sklearn\\metrics\\_classification.py:1469: UndefinedMetricWarning: Recall is ill-defined and being set to 0.0 in labels with no true samples. Use `zero_division` parameter to control this behavior.\n",
      "  _warn_prf(average, modifier, msg_start, len(result))\n",
      "C:\\Users\\Korbi\\AppData\\Local\\Packages\\PythonSoftwareFoundation.Python.3.11_qbz5n2kfra8p0\\LocalCache\\local-packages\\Python311\\site-packages\\sklearn\\metrics\\_classification.py:1469: UndefinedMetricWarning: Precision is ill-defined and being set to 0.0 in labels with no predicted samples. Use `zero_division` parameter to control this behavior.\n",
      "  _warn_prf(average, modifier, msg_start, len(result))\n",
      "C:\\Users\\Korbi\\AppData\\Local\\Packages\\PythonSoftwareFoundation.Python.3.11_qbz5n2kfra8p0\\LocalCache\\local-packages\\Python311\\site-packages\\sklearn\\metrics\\_classification.py:1757: UndefinedMetricWarning: F-score is ill-defined and being set to 0.0 in labels with no true nor predicted samples. Use `zero_division` parameter to control this behavior.\n",
      "  _warn_prf(average, \"true nor predicted\", \"F-score is\", len(true_sum))\n",
      "C:\\Users\\Korbi\\AppData\\Local\\Packages\\PythonSoftwareFoundation.Python.3.11_qbz5n2kfra8p0\\LocalCache\\local-packages\\Python311\\site-packages\\sklearn\\metrics\\_classification.py:1469: UndefinedMetricWarning: Recall is ill-defined and being set to 0.0 in labels with no true samples. Use `zero_division` parameter to control this behavior.\n",
      "  _warn_prf(average, modifier, msg_start, len(result))\n",
      "C:\\Users\\Korbi\\AppData\\Local\\Packages\\PythonSoftwareFoundation.Python.3.11_qbz5n2kfra8p0\\LocalCache\\local-packages\\Python311\\site-packages\\sklearn\\metrics\\_classification.py:1469: UndefinedMetricWarning: Precision is ill-defined and being set to 0.0 in labels with no predicted samples. Use `zero_division` parameter to control this behavior.\n",
      "  _warn_prf(average, modifier, msg_start, len(result))\n",
      "C:\\Users\\Korbi\\AppData\\Local\\Packages\\PythonSoftwareFoundation.Python.3.11_qbz5n2kfra8p0\\LocalCache\\local-packages\\Python311\\site-packages\\sklearn\\metrics\\_classification.py:1757: UndefinedMetricWarning: F-score is ill-defined and being set to 0.0 in labels with no true nor predicted samples. Use `zero_division` parameter to control this behavior.\n",
      "  _warn_prf(average, \"true nor predicted\", \"F-score is\", len(true_sum))\n",
      "C:\\Users\\Korbi\\AppData\\Local\\Packages\\PythonSoftwareFoundation.Python.3.11_qbz5n2kfra8p0\\LocalCache\\local-packages\\Python311\\site-packages\\sklearn\\metrics\\_classification.py:1469: UndefinedMetricWarning: Recall is ill-defined and being set to 0.0 in labels with no true samples. Use `zero_division` parameter to control this behavior.\n",
      "  _warn_prf(average, modifier, msg_start, len(result))\n",
      "C:\\Users\\Korbi\\AppData\\Local\\Packages\\PythonSoftwareFoundation.Python.3.11_qbz5n2kfra8p0\\LocalCache\\local-packages\\Python311\\site-packages\\sklearn\\metrics\\_classification.py:1469: UndefinedMetricWarning: Precision is ill-defined and being set to 0.0 in labels with no predicted samples. Use `zero_division` parameter to control this behavior.\n",
      "  _warn_prf(average, modifier, msg_start, len(result))\n"
     ]
    }
   ],
   "source": [
    "metrics_all = calculate_metrics(filter_empty=True)\n",
    "metrics_high_support = calculate_metrics(high_support, filter_empty=True)\n",
    "metrics_low_support = calculate_metrics(low_support, filter_empty=True)"
   ]
  },
  {
   "cell_type": "code",
   "execution_count": 11,
   "metadata": {},
   "outputs": [],
   "source": [
    "def print_table(metrics:Iterable[str] = ['f1', 'accuracy']):\n",
    "    for model in metrics_all:\n",
    "        row =  f'{model.upper()} &\\n'\n",
    "\n",
    "        if model in metrics_all:\n",
    "            row += ' & '.join([f'${metrics_all[model][metric][0]:.2f} \\pm {metrics_all[model][metric][1]:.2f}$' for metric in metrics])\n",
    "        else:\n",
    "            row += ' &'*(len(metrics)-1)\n",
    "            \n",
    "        row += ' &\\n'\n",
    "\n",
    "        if model in metrics_high_support:\n",
    "            row += ' & '.join([f'${metrics_high_support[model][metric][0]:.2f} \\pm {metrics_high_support[model][metric][1]:.2f}$' for metric in metrics])\n",
    "        else:\n",
    "            row += ' &'*(len(metrics)-1)\n",
    "\n",
    "        row += ' &\\n'\n",
    "\n",
    "        if model in metrics_high_support:\n",
    "            row += ' & '.join([f'${metrics_low_support[model][metric][0]:.2f} \\pm {metrics_low_support[model][metric][1]:.2f}$' for metric in metrics])\n",
    "        else:\n",
    "            row += ' &'*(len(metrics)-1)\n",
    "        row += ' \\\\\\\\\\n'\n",
    "        print(row)"
   ]
  },
  {
   "cell_type": "code",
   "execution_count": 12,
   "metadata": {},
   "outputs": [
    {
     "name": "stdout",
     "output_type": "stream",
     "text": [
      "OUTPUT_LIMITED &\n",
      "$0.48 \\pm 0.00$ & $0.43 \\pm 0.00$ &\n",
      "$0.50 \\pm 0.00$ & $0.71 \\pm 0.00$ &\n",
      "$0.46 \\pm 0.00$ & $0.75 \\pm 0.00$ \\\\\n",
      "\n",
      "OUTPUT_CONFORMAL_5% &\n",
      "$0.57 \\pm 0.00$ & $0.66 \\pm 0.00$ &\n",
      "$0.73 \\pm 0.00$ & $0.82 \\pm 0.00$ &\n",
      "$0.52 \\pm 0.00$ & $0.80 \\pm 0.00$ \\\\\n",
      "\n",
      "OUTPUT_MAX-5 &\n",
      "$0.56 \\pm 0.00$ & $0.66 \\pm 0.00$ &\n",
      "$0.74 \\pm 0.00$ & $0.83 \\pm 0.00$ &\n",
      "$0.50 \\pm 0.00$ & $0.83 \\pm 0.00$ \\\\\n",
      "\n",
      "OUTPUT_MAX-10 &\n",
      "$0.55 \\pm 0.00$ & $0.65 \\pm 0.00$ &\n",
      "$0.73 \\pm 0.00$ & $0.82 \\pm 0.00$ &\n",
      "$0.50 \\pm 0.00$ & $0.81 \\pm 0.00$ \\\\\n",
      "\n"
     ]
    }
   ],
   "source": [
    "print_table()"
   ]
  },
  {
   "cell_type": "markdown",
   "metadata": {},
   "source": [
    "# Failure analysis:"
   ]
  },
  {
   "cell_type": "code",
   "execution_count": 13,
   "metadata": {},
   "outputs": [
    {
     "data": {
      "text/plain": [
       "{'alcoholic beverages',\n",
       " 'bivalve molluscs and products therefor',\n",
       " 'cephalopods and products thereof',\n",
       " 'cereals and bakery products',\n",
       " 'cereals and bakery products | cocoa and cocoa preparations, coffee and tea | confectionery',\n",
       " 'cereals and bakery products | cocoa and cocoa preparations, coffee and tea | nuts, nut products and seeds',\n",
       " 'cereals and bakery products | confectionery',\n",
       " 'cereals and bakery products | dietetic foods, food supplements, fortified foods',\n",
       " 'cereals and bakery products | non-alcoholic beverages',\n",
       " 'cereals and bakery products | other food product / mixed',\n",
       " 'cereals and bakery products | prepared dishes and snacks',\n",
       " 'cereals and bakery products | soups, broths, sauces and condiments',\n",
       " 'cocoa and cocoa preparations, coffee and tea',\n",
       " 'cocoa and cocoa preparations, coffee and tea | confectionery',\n",
       " 'cocoa and cocoa preparations, coffee and tea | dietetic foods, food supplements, fortified foods',\n",
       " 'cocoa and cocoa preparations, coffee and tea | non-alcoholic beverages',\n",
       " 'cocoa and cocoa preparations, coffee and tea | nuts, nut products and seeds',\n",
       " 'cocoa and cocoa preparations, coffee and tea | sugars and syrups',\n",
       " 'confectionery',\n",
       " 'confectionery | herbs and spices',\n",
       " 'confectionery | nuts, nut products and seeds',\n",
       " 'crustaceans and products thereof',\n",
       " 'crustaceans and products thereof | fish and fish products',\n",
       " 'dietetic foods, food supplements, fortified foods',\n",
       " 'dietetic foods, food supplements, fortified foods | nuts, nut products and seeds',\n",
       " 'dietetic foods, food supplements, fortified foods | other food product / mixed',\n",
       " 'eggs and egg products',\n",
       " 'fats and oils',\n",
       " 'feed additives',\n",
       " 'feed materials',\n",
       " 'fish and fish products',\n",
       " 'fish and fish products | fruits and vegetables | other food product / mixed | prepared dishes and snacks',\n",
       " 'food additives and flavourings',\n",
       " 'food contact materials',\n",
       " 'fruits and vegetables',\n",
       " 'fruits and vegetables | herbs and spices',\n",
       " 'fruits and vegetables | herbs and spices | soups, broths, sauces and condiments',\n",
       " 'fruits and vegetables | prepared dishes and snacks',\n",
       " 'herbs and spices',\n",
       " 'herbs and spices | meat and meat products (other than poultry)',\n",
       " 'herbs and spices | nuts, nut products and seeds',\n",
       " 'honey and royal jelly',\n",
       " 'ices and desserts',\n",
       " 'meat and meat products (other than poultry)',\n",
       " 'meat and meat products (other than poultry) | poultry meat and poultry meat products',\n",
       " 'meat and meat products (other than poultry) | poultry meat and poultry meat products | prepared dishes and snacks',\n",
       " 'meat and meat products (other than poultry) | prepared dishes and snacks',\n",
       " 'milk and milk products',\n",
       " 'milk and milk products | nuts, nut products and seeds',\n",
       " 'milk and milk products | soups, broths, sauces and condiments',\n",
       " 'non-alcoholic beverages',\n",
       " 'nuts, nut products and seeds',\n",
       " 'nuts, nut products and seeds | soups, broths, sauces and condiments',\n",
       " 'other food product / mixed',\n",
       " 'pet feed',\n",
       " 'poultry meat and poultry meat products',\n",
       " 'prepared dishes and snacks',\n",
       " 'prepared dishes and snacks | soups, broths, sauces and condiments',\n",
       " 'soups, broths, sauces and condiments',\n",
       " 'sugars and syrups'}"
      ]
     },
     "execution_count": 13,
     "metadata": {},
     "output_type": "execute_result"
    }
   ],
   "source": [
    "label_types = set(results.label.values)\n",
    "label_types"
   ]
  },
  {
   "cell_type": "code",
   "execution_count": 14,
   "metadata": {},
   "outputs": [
    {
     "name": "stdout",
     "output_type": "stream",
     "text": [
      "CV_SPLIT:\n",
      "  F1:       0.00 ± 0.00\n",
      "  Accuracy: 0.00 ± 0.00\n",
      "  Failed:   1.00 ± 0.00\n",
      "  Empty:    0.00 ± 0.00\n",
      "\n",
      "\n",
      "LABEL:\n",
      "  F1:       1.00 ± 0.00\n",
      "  Accuracy: 1.00 ± 0.00\n",
      "  Failed:   0.00 ± 0.00\n",
      "  Empty:    0.00 ± 0.00\n",
      "\n",
      "\n",
      "OUTPUT_LIMITED:\n",
      "  F1:       0.41 ± 0.00\n",
      "  Accuracy: 0.44 ± 0.00\n",
      "  Failed:   0.27 ± 0.00\n",
      "  Empty:    0.00 ± 0.00\n",
      "\n",
      "\n",
      "OUTPUT_CONFORMAL_5%:\n",
      "  F1:       0.50 ± 0.00\n",
      "  Accuracy: 0.68 ± 0.00\n",
      "  Failed:   0.03 ± 0.00\n",
      "  Empty:    0.00 ± 0.00\n",
      "\n",
      "\n",
      "OUTPUT_MAX-5:\n",
      "  F1:       0.49 ± 0.00\n",
      "  Accuracy: 0.68 ± 0.00\n",
      "  Failed:   0.07 ± 0.00\n",
      "  Empty:    0.01 ± 0.00\n",
      "\n",
      "\n",
      "OUTPUT_MAX-10:\n",
      "  F1:       0.48 ± 0.00\n",
      "  Accuracy: 0.66 ± 0.00\n",
      "  Failed:   0.07 ± 0.00\n",
      "  Empty:    0.02 ± 0.00\n",
      "\n",
      "\n"
     ]
    }
   ],
   "source": [
    "for col in results.columns:\n",
    "    f1 = [f1_score(\n",
    "        results[results.cv_split == i].label.values,\n",
    "        results[results.cv_split == i][col].apply(lambda p: p if p in label_types else 'fail'),\n",
    "        average='macro'\n",
    "    ) for i in CV_SPLITS]\n",
    "\n",
    "    acc = [accuracy_score(\n",
    "        results[results.cv_split == i].label.values,\n",
    "        results[results.cv_split == i][col].apply(lambda p: p if p in label_types else 'fail')\n",
    "    ) for i in CV_SPLITS]\n",
    "\n",
    "    fail = [np.mean(\n",
    "        results[results.cv_split == i][col].apply(lambda p: not (p in label_types))\n",
    "    ) for i in CV_SPLITS]\n",
    "\n",
    "    empty = [np.mean(\n",
    "        results[results.cv_split == i][col].apply(lambda p: p == '')\n",
    "    ) for i in CV_SPLITS]\n",
    "\n",
    "    print(f'{col.upper()}:')\n",
    "    print(f'  F1:       {np.mean(f1):.2f} \\u00b1 {np.std(f1):.2f}')\n",
    "    print(f'  Accuracy: {np.mean(acc):.2f} \\u00b1 {np.std(acc):.2f}')\n",
    "    print(f'  Failed:   {np.mean(fail):.2f} \\u00b1 {np.std(fail):.2f}')\n",
    "    print(f'  Empty:    {np.mean(empty):.2f} \\u00b1 {np.std(empty):.2f}')\n",
    "    print('\\n')"
   ]
  },
  {
   "cell_type": "markdown",
   "metadata": {},
   "source": [
    "# Plot confusion matrix"
   ]
  },
  {
   "cell_type": "code",
   "execution_count": 15,
   "metadata": {},
   "outputs": [],
   "source": [
    "r = results[results['cv_split'] == 0][['label', 'output_conformal_5%']].values\n",
    "r = r[r[:,1] != '']\n",
    "\n",
    "for i in [0,1]:\n",
    "    hs_mask = np.array([s in high_support for s in r[:,i]])\n",
    "    ls_mask = np.array([s in low_support for s in r[:,i]])\n",
    "    ms_mask = ~(hs_mask | ls_mask)\n",
    "\n",
    "    r[hs_mask, i] = 0\n",
    "    r[ms_mask, i] = 1\n",
    "    r[ls_mask, i] = 2\n",
    "\n",
    "cm = ConfusionMatrix(r[:,0], r[:,1], classes=[\"High\", \"Medium\", \"Low\"])"
   ]
  },
  {
   "cell_type": "code",
   "execution_count": 16,
   "metadata": {},
   "outputs": [
    {
     "data": {
      "image/png": "[encoded data removed]",
      "text/plain": [
       "<Figure size 300x300 with 1 Axes>"
      ]
     },
     "metadata": {},
     "output_type": "display_data"
    }
   ],
   "source": [
    "fig, axs = plt.subplots(1, 1, figsize=(3, 3))\n",
    "cm.plot(axs)\n",
    "fig.savefig(f'../pictures/plots/cm_conformal_{LABEL}.pdf')"
   ]
  }
 ],
 "metadata": {
  "kernelspec": {
   "display_name": "Python 3",
   "language": "python",
   "name": "python3"
  },
  "language_info": {
   "codemirror_mode": {
    "name": "ipython",
    "version": 3
   },
   "file_extension": ".py",
   "mimetype": "text/x-python",
   "name": "python",
   "nbconvert_exporter": "python",
   "pygments_lexer": "ipython3",
   "version": "3.11.7"
  },
  "orig_nbformat": 4
 },
 "nbformat": 4,
 "nbformat_minor": 2
}
