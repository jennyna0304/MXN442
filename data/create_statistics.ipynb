{
 "cells": [
  {
   "cell_type": "code",
   "execution_count": 1,
   "metadata": {},
   "outputs": [
    {
     "name": "stdout",
     "output_type": "stream",
     "text": [
      "Setting base bath to \"c:\\Users\\Korbi\\Desktop\\CICLe\"\n"
     ]
    },
    {
     "name": "stderr",
     "output_type": "stream",
     "text": [
      "c:\\Users\\Korbi\\Desktop\\CICLe\\resources\\spans.py:3: TqdmExperimentalWarning: Using `tqdm.autonotebook.tqdm` in notebook mode. Use `tqdm.tqdm` instead to force console mode (e.g. in jupyter console)\n",
      "  from tqdm.autonotebook import tqdm, trange\n"
     ]
    }
   ],
   "source": [
    "import _base_path\n",
    "import json\n",
    "import numpy as np\n",
    "import pandas as pd\n",
    "from resources.spans import SpanCollection"
   ]
  },
  {
   "cell_type": "code",
   "execution_count": 2,
   "metadata": {},
   "outputs": [],
   "source": [
    "DATA   = 'incidents'\n",
    "LABEL  = 'hazard-category'"
   ]
  },
  {
   "cell_type": "markdown",
   "metadata": {},
   "source": [
    "# Load data:"
   ]
  },
  {
   "cell_type": "code",
   "execution_count": 3,
   "metadata": {},
   "outputs": [
    {
     "name": "stdout",
     "output_type": "stream",
     "text": [
      "  year:                   29\n",
      "  month:                  12\n",
      "  day:                    31\n",
      "  url:                  7500\n",
      "  title:                7331\n",
      "  text:                 7548\n",
      "  product:              1258\n",
      "  product-raw:          1880\n",
      "  product-category:       23\n",
      "  product-title:        7548\n",
      "  product-text:         7548\n",
      "  hazard:                262\n",
      "  hazard-raw:            408\n",
      "  hazard-category:        11\n",
      "  hazard-title:         7548\n",
      "  hazard-text:          7548\n",
      "  supplier-title:       7548\n",
      "  supplier-text:        7548\n",
      "  language:                6\n",
      "  country:                15\n"
     ]
    }
   ],
   "source": [
    "# load data:\n",
    "incidents = pd.read_csv(f\"{DATA}/{DATA}_final.csv\", index_col=0)\n",
    "\n",
    "# parse products:\n",
    "incidents['product'].fillna('', inplace=True)\n",
    "incidents['product-category'].fillna('', inplace=True)\n",
    "incidents['product-title']    = [SpanCollection.parse(p) for p in incidents['product-title'].fillna('')]\n",
    "incidents['product-text']     = [SpanCollection.parse(p) for p in incidents['product-text'].fillna('')]\n",
    "\n",
    "# parse hazards:\n",
    "incidents['hazard'].fillna('', inplace=True)\n",
    "incidents['hazard-category'].fillna('', inplace=True)\n",
    "incidents['hazard-title']     = [SpanCollection.parse(h) for h in incidents['hazard-title'].fillna('')]\n",
    "incidents['hazard-text']      = [SpanCollection.parse(h) for h in incidents['hazard-text'].fillna('')]\n",
    "\n",
    "# parse suppliers:\n",
    "incidents['supplier-title']   = [SpanCollection.parse(s) for s in incidents['supplier-title'].fillna('')]\n",
    "incidents['supplier-text']    = [SpanCollection.parse(s) for s in incidents['supplier-text'].fillna('')]\n",
    "\n",
    "# fill nan-values:\n",
    "incidents['country'].fillna('na', inplace=True)\n",
    "\n",
    "def print_column(column:str, n:int=10):\n",
    "    try:               values = np.unique(np.concatenate(incidents[column].values))\n",
    "    except ValueError: values = np.unique(incidents[column].values)\n",
    "    counts = np.array([sum([v in label for label in incidents[column].values]) for v in values])\n",
    "\n",
    "    idx = np.argsort(counts)[::-1]\n",
    "    values = values[idx]\n",
    "    counts = counts[idx]\n",
    "    \n",
    "    print(f'Column \"{column}\" (n = {len(values):d}):\\n')\n",
    "    for v, n in zip(values[:n], counts[:n]):\n",
    "        print(f'  {v}:{\" \"*(50-len(v))}{sum([v in label for label in incidents[column].values]):5d}')\n",
    "\n",
    "# print unique counts:\n",
    "for c in incidents.columns:\n",
    "    print(f'  {c}:{\" \"*(20-len(c))}{len(incidents[c].drop_duplicates()):5d}')"
   ]
  },
  {
   "cell_type": "markdown",
   "metadata": {},
   "source": [
    "# Create table:"
   ]
  },
  {
   "cell_type": "markdown",
   "metadata": {},
   "source": [
    "## Extract columns:"
   ]
  },
  {
   "cell_type": "code",
   "execution_count": 4,
   "metadata": {},
   "outputs": [
    {
     "data": {
      "text/plain": [
       "{'allergens': array([ True, False, False, ..., False, False,  True]),\n",
       " 'biological': array([False,  True, False, ..., False, False, False]),\n",
       " 'chemical': array([False, False,  True, ..., False, False, False]),\n",
       " 'fraud': array([False, False, False, ...,  True,  True, False]),\n",
       " 'other hazard': array([False, False, False, ..., False, False, False]),\n",
       " 'foreign bodies': array([False, False, False, ..., False, False, False]),\n",
       " 'packaging defect': array([False, False, False, ..., False, False, False]),\n",
       " 'organoleptic aspects': array([False, False, False, ..., False, False, False]),\n",
       " 'food additives and flavourings': array([False, False, False, ..., False, False, False]),\n",
       " 'migration': array([False, False, False, ..., False, False, False]),\n",
       " 'food contact materials': array([False, False, False, ..., False, False, False])}"
      ]
     },
     "execution_count": 4,
     "metadata": {},
     "output_type": "execute_result"
    }
   ],
   "source": [
    "labels = {l: incidents[LABEL].values == l\n",
    "    for l in incidents[LABEL].unique()\n",
    "}\n",
    "\n",
    "labels"
   ]
  },
  {
   "cell_type": "code",
   "execution_count": 5,
   "metadata": {},
   "outputs": [
    {
     "data": {
      "text/plain": [
       "[['biological'],\n",
       " ['foreign bodies',\n",
       "  'chemical',\n",
       "  'fraud',\n",
       "  'other hazard',\n",
       "  'packaging defect',\n",
       "  'organoleptic aspects',\n",
       "  'food additives and flavourings',\n",
       "  'migration',\n",
       "  'food contact materials']]"
      ]
     },
     "execution_count": 5,
     "metadata": {},
     "output_type": "execute_result"
    }
   ],
   "source": [
    "with open(f'{DATA}/support_zones.json', 'r') as file:\n",
    "    support_zones = json.load(file)[LABEL]\n",
    "\n",
    "support_zones"
   ]
  },
  {
   "cell_type": "markdown",
   "metadata": {},
   "source": [
    "most and least frequent class:"
   ]
  },
  {
   "cell_type": "code",
   "execution_count": 6,
   "metadata": {},
   "outputs": [
    {
     "name": "stdout",
     "output_type": "stream",
     "text": [
      "('biological', array([False,  True, False, ..., False, False, False]))\n",
      "('food contact materials', array([False, False, False, ..., False, False, False]))\n"
     ]
    }
   ],
   "source": [
    "most_frequent_class = ('', None)\n",
    "least_frequent_class = ('', None)\n",
    "\n",
    "for l in labels:\n",
    "    n = sum(labels[l])\n",
    "\n",
    "    if most_frequent_class[1] is None or n > sum(most_frequent_class[1]):\n",
    "        most_frequent_class = (l, labels[l])\n",
    "\n",
    "    if least_frequent_class[1] is None or n < sum(least_frequent_class[1]):\n",
    "        least_frequent_class = (l, labels[l])\n",
    "\n",
    "print(most_frequent_class)\n",
    "print(least_frequent_class)"
   ]
  },
  {
   "cell_type": "code",
   "execution_count": 7,
   "metadata": {},
   "outputs": [
    {
     "name": "stdout",
     "output_type": "stream",
     "text": [
      "('$C_{high}$', array([False,  True, False, ..., False, False, False]))\n",
      "('$C_{medium}$', array([ True, False, False, ..., False, False,  True]))\n",
      "('$C_{low}$', array([False, False,  True, ...,  True,  True, False]))\n"
     ]
    }
   ],
   "source": [
    "high_support = ('$C_{high}$'   , np.bitwise_or.reduce([labels[l] for l in support_zones[0]]))\n",
    "low_support =  ('$C_{low}$'    , np.bitwise_or.reduce([labels[l] for l in support_zones[1]]))\n",
    "mid_support =  ('$C_{medium}$' , ~(high_support[1] | low_support[1]))\n",
    "\n",
    "print(high_support)\n",
    "print(mid_support)\n",
    "print(low_support)"
   ]
  },
  {
   "cell_type": "markdown",
   "metadata": {},
   "source": [
    "## Latex conversion functions:"
   ]
  },
  {
   "cell_type": "code",
   "execution_count": 8,
   "metadata": {},
   "outputs": [],
   "source": [
    "def to_cell(mask, hl=False):\n",
    "    sep = ' & '\n",
    "    if hl: sep += '\\cellcolor{gray!10}'\n",
    "\n",
    "    count = sum(mask)\n",
    "    size =  np.mean([len(s) for s in incidents.title[mask].values])\n",
    "\n",
    "    if count > 0: return f'{sep}${count:d}${sep}$({size:.1f})$'\n",
    "    else:         return f'{sep}{sep}'\n",
    "\n",
    "def to_row(title, mask, hl=False):\n",
    "    row_ltx = '\\cellcolor{gray!25} ' + title\n",
    "\n",
    "    # add most and least frequent:\n",
    "    row_ltx += to_cell(mask & most_frequent_class[1], hl=hl)\n",
    "    row_ltx += to_cell(mask & least_frequent_class[1], hl=hl)\n",
    "\n",
    "    # add supports:\n",
    "    row_ltx += to_cell(mask & high_support[1], hl=hl)\n",
    "    row_ltx += to_cell(mask & mid_support[1], hl=hl)\n",
    "    row_ltx += to_cell(mask & low_support[1], hl=hl)\n",
    "\n",
    "    # add total:\n",
    "    row_ltx += to_cell(mask, hl=True)\n",
    "\n",
    "    return row_ltx + '\\\\\\\\'\n",
    "\n",
    "def to_block(title, values):\n",
    "    rows = [to_row(row_name, row_mask) for row_name, row_mask in values]\n",
    "\n",
    "    for i, row in enumerate(rows[:-1]):\n",
    "        rows[i] = '\\\\cellcolor{gray!25} & ' + row\n",
    "\n",
    "    rows[-1] = '\\\\cellcolor{gray!25} \\\\multirow{-' + str(len(rows)) + '}*{\\\\rotatebox{90}{\\\\textbf{' + title + '}}} & ' + rows[-1]\n",
    "\n",
    "    return '\\n'.join(rows) + '\\n\\n\\\\hline\\n'"
   ]
  },
  {
   "cell_type": "markdown",
   "metadata": {},
   "source": [
    "## Add rows:"
   ]
  },
  {
   "cell_type": "code",
   "execution_count": 9,
   "metadata": {},
   "outputs": [],
   "source": [
    "table = []"
   ]
  },
  {
   "cell_type": "markdown",
   "metadata": {},
   "source": [
    "### Time:"
   ]
  },
  {
   "cell_type": "code",
   "execution_count": 10,
   "metadata": {},
   "outputs": [
    {
     "data": {
      "text/plain": [
       "[('1994 - 1998', array([False, False, False, ..., False, False, False])),\n",
       " ('1999 - 2002', array([False, False, False, ..., False, False, False])),\n",
       " ('2003 - 2006', array([False, False, False, ..., False, False, False])),\n",
       " ('2007 - 2010', array([False, False, False, ..., False, False, False])),\n",
       " ('2011 - 2014', array([False, False, False, ..., False, False, False])),\n",
       " ('2015 - 2018', array([ True, False, False, ..., False, False, False])),\n",
       " ('2019 - 2022', array([False,  True,  True, ...,  True,  True,  True]))]"
      ]
     },
     "execution_count": 10,
     "metadata": {},
     "output_type": "execute_result"
    }
   ],
   "source": [
    "time = [(f'{years[0]:d} - {years[-1]:d}', np.bitwise_or.reduce([incidents.year.values == y for y in years]))\n",
    "    for years in [\n",
    "        [1994, 1995, 1996, 1997, 1998], \n",
    "        [1999, 2000, 2001, 2002],\n",
    "        [2003, 2004, 2005, 2006],\n",
    "        [2007, 2008, 2009, 2010],\n",
    "        [2011, 2012, 2013, 2014],\n",
    "        [2015, 2016, 2017, 2018], \n",
    "        [2019, 2020, 2021, 2022]    \n",
    "    ]\n",
    "]\n",
    "time.sort(key=lambda x: x[0])\n",
    "\n",
    "time"
   ]
  },
  {
   "cell_type": "code",
   "execution_count": 11,
   "metadata": {},
   "outputs": [
    {
     "name": "stderr",
     "output_type": "stream",
     "text": [
      "C:\\Users\\Korbi\\AppData\\Local\\Packages\\PythonSoftwareFoundation.Python.3.11_qbz5n2kfra8p0\\LocalCache\\local-packages\\Python311\\site-packages\\numpy\\core\\fromnumeric.py:3504: RuntimeWarning: Mean of empty slice.\n",
      "  return _methods._mean(a, axis=axis, dtype=dtype,\n",
      "C:\\Users\\Korbi\\AppData\\Local\\Packages\\PythonSoftwareFoundation.Python.3.11_qbz5n2kfra8p0\\LocalCache\\local-packages\\Python311\\site-packages\\numpy\\core\\_methods.py:129: RuntimeWarning: invalid value encountered in scalar divide\n",
      "  ret = ret.dtype.type(ret / rcount)\n"
     ]
    }
   ],
   "source": [
    "table.append(to_block('By Year', time))"
   ]
  },
  {
   "cell_type": "markdown",
   "metadata": {},
   "source": [
    "### Languages:"
   ]
  },
  {
   "cell_type": "code",
   "execution_count": 12,
   "metadata": {},
   "outputs": [
    {
     "data": {
      "text/plain": [
       "[('DE', array([False, False, False, ..., False, False, False])),\n",
       " ('DK', array([False, False, False, ..., False, False, False])),\n",
       " ('EN', array([ True,  True,  True, ...,  True,  True,  True])),\n",
       " ('FR', array([False, False, False, ..., False, False, False])),\n",
       " ('GR', array([False, False, False, ..., False, False, False])),\n",
       " ('IT', array([False, False, False, ..., False, False, False]))]"
      ]
     },
     "execution_count": 12,
     "metadata": {},
     "output_type": "execute_result"
    }
   ],
   "source": [
    "language = [(l.upper(), incidents.language.values == l)\n",
    "    for l in incidents.language.unique()\n",
    "]\n",
    "language.sort(key=lambda x: x[0])\n",
    "\n",
    "language"
   ]
  },
  {
   "cell_type": "code",
   "execution_count": 13,
   "metadata": {},
   "outputs": [],
   "source": [
    "table.append(to_block('By Language', language))"
   ]
  },
  {
   "cell_type": "markdown",
   "metadata": {},
   "source": [
    "### Total:"
   ]
  },
  {
   "cell_type": "code",
   "execution_count": 14,
   "metadata": {},
   "outputs": [],
   "source": [
    "table.append('\\\\multicolumn{2}{|c||}{' + to_row('\\\\textbf{Total}}', np.ones(len(incidents), dtype=bool), hl=True))"
   ]
  },
  {
   "cell_type": "code",
   "execution_count": 15,
   "metadata": {},
   "outputs": [
    {
     "name": "stdout",
     "output_type": "stream",
     "text": [
      "\\multicolumn{2}{l}{\\texttt{hazard-category}} &\n",
      "\\multicolumn{2}{c}{\\tiny{biological}} &\n",
      "\\multicolumn{2}{c}{\\tiny{food contact materials}} &\n",
      "\\multicolumn{8}{c}{} \\\\\n",
      "\n",
      "\\hline\n",
      "\n",
      "\\cellcolor{gray!25} & \\cellcolor{gray!25} 1994 - 1998 & $34$ & $(33.6)$ &  &  & $34$ & $(33.6)$ & $4$ & $(71.0)$ & $20$ & $(34.6)$ & \\cellcolor{gray!10}$58$ & \\cellcolor{gray!10}$(36.5)$\\\\\n",
      "\\cellcolor{gray!25} & \\cellcolor{gray!25} 1999 - 2002 & $50$ & $(50.8)$ &  &  & $50$ & $(50.8)$ & $21$ & $(52.9)$ & $59$ & $(46.0)$ & \\cellcolor{gray!10}$130$ & \\cellcolor{gray!10}$(49.0)$\\\\\n",
      "\\cellcolor{gray!25} & \\cellcolor{gray!25} 2003 - 2006 & $53$ & $(52.8)$ &  &  & $53$ & $(52.8)$ & $61$ & $(60.5)$ & $78$ & $(58.1)$ & \\cellcolor{gray!10}$192$ & \\cellcolor{gray!10}$(57.4)$\\\\\n",
      "\\cellcolor{gray!25} & \\cellcolor{gray!25} 2007 - 2010 & $158$ & $(95.3)$ &  &  & $158$ & $(95.3)$ & $49$ & $(81.0)$ & $112$ & $(72.5)$ & \\cellcolor{gray!10}$319$ & \\cellcolor{gray!10}$(85.1)$\\\\\n",
      "\\cellcolor{gray!25} & \\cellcolor{gray!25} 2011 - 2014 & $308$ & $(91.6)$ &  &  & $308$ & $(91.6)$ & $293$ & $(81.2)$ & $233$ & $(71.9)$ & \\cellcolor{gray!10}$834$ & \\cellcolor{gray!10}$(82.4)$\\\\\n",
      "\\cellcolor{gray!25} & \\cellcolor{gray!25} 2015 - 2018 & $911$ & $(91.5)$ &  &  & $911$ & $(91.5)$ & $1048$ & $(86.8)$ & $726$ & $(82.2)$ & \\cellcolor{gray!10}$2685$ & \\cellcolor{gray!10}$(87.1)$\\\\\n",
      "\\cellcolor{gray!25} \\multirow{-7}*{\\rotatebox{90}{\\textbf{By Year}}} & \\cellcolor{gray!25} 2019 - 2022 & $1044$ & $(85.7)$ & $1$ & $(29.0)$ & $1044$ & $(85.7)$ & $1051$ & $(89.0)$ & $1235$ & $(83.7)$ & \\cellcolor{gray!10}$3330$ & \\cellcolor{gray!10}$(86.0)$\\\\\n",
      "\n",
      "\\hline\n",
      "\n",
      "\\cellcolor{gray!25} & \\cellcolor{gray!25} DE & $278$ & $(58.8)$ & $1$ & $(29.0)$ & $278$ & $(58.8)$ & $96$ & $(52.7)$ & $515$ & $(58.4)$ & \\cellcolor{gray!10}$889$ & \\cellcolor{gray!10}$(57.9)$\\\\\n",
      "\\cellcolor{gray!25} & \\cellcolor{gray!25} DK &  &  &  &  &  &  & $1$ & $(42.0)$ &  &  & \\cellcolor{gray!10}$1$ & \\cellcolor{gray!10}$(42.0)$\\\\\n",
      "\\cellcolor{gray!25} & \\cellcolor{gray!25} EN & $2279$ & $(90.5)$ &  &  & $2279$ & $(90.5)$ & $2426$ & $(87.4)$ & $1940$ & $(85.2)$ & \\cellcolor{gray!10}$6645$ & \\cellcolor{gray!10}$(87.8)$\\\\\n",
      "\\cellcolor{gray!25} & \\cellcolor{gray!25} FR &  &  &  &  &  &  & $1$ & $(73.0)$ & $7$ & $(71.7)$ & \\cellcolor{gray!10}$8$ & \\cellcolor{gray!10}$(71.9)$\\\\\n",
      "\\cellcolor{gray!25} & \\cellcolor{gray!25} GR &  &  &  &  &  &  & $3$ & $(74.0)$ & $1$ & $(47.0)$ & \\cellcolor{gray!10}$4$ & \\cellcolor{gray!10}$(67.2)$\\\\\n",
      "\\cellcolor{gray!25} \\multirow{-6}*{\\rotatebox{90}{\\textbf{By Language}}} & \\cellcolor{gray!25} IT & $1$ & $(51.0)$ &  &  & $1$ & $(51.0)$ &  &  &  &  & \\cellcolor{gray!10}$1$ & \\cellcolor{gray!10}$(51.0)$\\\\\n",
      "\n",
      "\\hline\n",
      "\n",
      "\\multicolumn{2}{|c||}{\\cellcolor{gray!25} \\textbf{Total}} & \\cellcolor{gray!10}$2558$ & \\cellcolor{gray!10}$(87.0)$ & \\cellcolor{gray!10}$1$ & \\cellcolor{gray!10}$(29.0)$ & \\cellcolor{gray!10}$2558$ & \\cellcolor{gray!10}$(87.0)$ & \\cellcolor{gray!10}$2527$ & \\cellcolor{gray!10}$(86.0)$ & \\cellcolor{gray!10}$2463$ & \\cellcolor{gray!10}$(79.5)$ & \\cellcolor{gray!10}$7548$ & \\cellcolor{gray!10}$(84.2)$\\\\\n"
     ]
    }
   ],
   "source": [
    "print(\n",
    "    '\\multicolumn{2}{l}{\\\\texttt{' + LABEL + '}} &\\n' +\n",
    "    '\\multicolumn{2}{c}{\\\\tiny{' + most_frequent_class[0] + '}} &\\n' +\n",
    "    '\\multicolumn{2}{c}{\\\\tiny{' + least_frequent_class[0] + '}} &\\n' +\n",
    "    '\\multicolumn{8}{c}{} \\\\\\\\\\n' +\n",
    "    '\\n\\\\hline\\n\\n' +\n",
    "    '\\n'.join(table)\n",
    ")"
   ]
  }
 ],
 "metadata": {
  "kernelspec": {
   "display_name": "Python 3",
   "language": "python",
   "name": "python3"
  },
  "language_info": {
   "codemirror_mode": {
    "name": "ipython",
    "version": 3
   },
   "file_extension": ".py",
   "mimetype": "text/x-python",
   "name": "python",
   "nbconvert_exporter": "python",
   "pygments_lexer": "ipython3",
   "version": "3.11.7"
  }
 },
 "nbformat": 4,
 "nbformat_minor": 2
}
