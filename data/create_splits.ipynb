{
 "cells": [
  {
   "cell_type": "code",
   "execution_count": null,
   "metadata": {},
   "outputs": [],
   "source": [
    "import _base_path\n",
    "import os\n",
    "import numpy as np\n",
    "import pandas as pd\n",
    "from sklearn.model_selection import StratifiedKFold , train_test_split\n",
    "from resources.data_io import save_data, save_mappings\n",
    "from resources.spans import SpanCollection"
   ]
  },
  {
   "attachments": {},
   "cell_type": "markdown",
   "metadata": {},
   "source": [
    "# Settings:"
   ]
  },
  {
   "cell_type": "code",
   "execution_count": null,
   "metadata": {},
   "outputs": [],
   "source": [
    "K =        5   # Number of cross validation splits\n",
    "SEED =     42  # Random seed\n",
    "DATASET =  'incidents'\n",
    "SAVE_DIR = f'{DATASET}/splits/'"
   ]
  },
  {
   "attachments": {},
   "cell_type": "markdown",
   "metadata": {},
   "source": [
    "# Load Data:"
   ]
  },
  {
   "attachments": {},
   "cell_type": "markdown",
   "metadata": {},
   "source": [
    "## Load \"incidents\":"
   ]
  },
  {
   "cell_type": "code",
   "execution_count": null,
   "metadata": {},
   "outputs": [],
   "source": [
    "# load incidents:\n",
    "data = pd.read_csv(f\"{DATASET}/{DATASET}.csv\", index_col=0)\n",
    "\n",
    "# fill nan-values:\n",
    "data['product'].fillna('', inplace=True)\n",
    "data['product-raw'].fillna('', inplace=True)\n",
    "data['product-category'].fillna('', inplace=True)\n",
    "\n",
    "data['hazard'].fillna('', inplace=True)\n",
    "data['hazard-raw'].fillna('', inplace=True)\n",
    "data['hazard-category'].fillna('', inplace=True)\n",
    "\n",
    "data['country'].fillna('na', inplace=True)\n",
    "data['language'].fillna('na', inplace=True)\n",
    "\n",
    "# parse spans:\n",
    "for col in ['product-title', 'product-text', 'hazard-title', 'hazard-text', 'supplier-title', 'supplier-text']: \n",
    "    if col in data.columns: data[col] = [SpanCollection.parse(item) for item in data[col].fillna('')]\n",
    "    else:                   data[col] = [SpanCollection()] * len(data)\n",
    "\n",
    "print(f\"N = {len(data):d}\")\n",
    "data.head(5)"
   ]
  },
  {
   "attachments": {},
   "cell_type": "markdown",
   "metadata": {},
   "source": [
    "# Vectorize labels:"
   ]
  },
  {
   "cell_type": "code",
   "execution_count": null,
   "metadata": {},
   "outputs": [],
   "source": [
    "unique_labels = {}\n",
    "\n",
    "for column in ['product', 'hazard', 'product-category', 'hazard-category']:\n",
    "    # extract and sort unique values:\n",
    "    unique_labels[column] = np.unique(data[column].values)\n",
    "    unique_labels[column].sort()\n",
    "\n",
    "    # create label-to-integer mapping:\n",
    "    label2index = {l:i for i,l in enumerate(unique_labels[column])}\n",
    "\n",
    "    # replace strings with integers:\n",
    "    data[column] = data[column].apply(lambda label: label2index[label])"
   ]
  },
  {
   "cell_type": "markdown",
   "metadata": {},
   "source": [
    "save mappings:"
   ]
  },
  {
   "cell_type": "code",
   "execution_count": null,
   "metadata": {},
   "outputs": [],
   "source": [
    "os.makedirs(SAVE_DIR, exist_ok=True)\n",
    "\n",
    "save_mappings(SAVE_DIR,\n",
    "    unique_labels['product'],\n",
    "    unique_labels['hazard'],\n",
    "    unique_labels['product-category'],\n",
    "    unique_labels['hazard-category']\n",
    ")"
   ]
  },
  {
   "attachments": {},
   "cell_type": "markdown",
   "metadata": {},
   "source": [
    "# Create K-Fold splits"
   ]
  },
  {
   "cell_type": "code",
   "execution_count": null,
   "metadata": {},
   "outputs": [],
   "source": [
    "data.head(5)"
   ]
  },
  {
   "cell_type": "code",
   "execution_count": null,
   "metadata": {},
   "outputs": [],
   "source": [
    "def filter_by_support(rows, column, min_support):\n",
    "    for i_label, label in enumerate(unique_labels[column]):\n",
    "        mask = (data.loc[rows, column].values == i_label)\n",
    "\n",
    "        if sum(mask) < min_support:\n",
    "            rows = rows[~mask]\n",
    "            print(f'{column.upper()}: dropped class \"{label}\" with n_samples = {sum(mask)} < {min_support:d}.')\n",
    "\n",
    "    return rows"
   ]
  },
  {
   "cell_type": "code",
   "execution_count": null,
   "metadata": {},
   "outputs": [],
   "source": [
    "for label_fine, label_coarse, columns in [\n",
    "        ('product', 'product-category', [col for col in data.columns if not col.startswith('hazard')]),\n",
    "        ('hazard',  'hazard-category',  [col for col in data.columns if not col.startswith('product')])\n",
    "    ]:\n",
    "\n",
    "    # drop coarse labels with less than K samples:\n",
    "    i_filtered = filter_by_support(data.index, label_coarse, K)\n",
    "\n",
    "    # create K-fold splits:\n",
    "    kf = StratifiedKFold(n_splits=K, shuffle=True, random_state=SEED)\n",
    "    for split, (i_train, i_test) in enumerate(kf.split(i_filtered, data.loc[i_filtered, label_coarse].values)):\n",
    "        i_train = filter_by_support(i_filtered[i_train], label_coarse, 2)\n",
    "        i_test  = i_filtered[i_test]\n",
    "        # split off validation set:\n",
    "        i_train, i_valid = train_test_split(\n",
    "            i_train,\n",
    "            test_size=.1,\n",
    "            stratify=data.loc[i_train, label_coarse].values,\n",
    "            shuffle=True,\n",
    "            random_state=SEED\n",
    "        )\n",
    "\n",
    "        # save mappings:\n",
    "        save_data(SAVE_DIR , split, label_fine,\n",
    "            data.loc[i_train, columns],\n",
    "            data.loc[i_valid, columns],\n",
    "            data.loc[i_test,  columns]\n",
    "        )"
   ]
  }
 ],
 "metadata": {
  "kernelspec": {
   "display_name": "Python 3 (ipykernel)",
   "language": "python",
   "name": "python3"
  },
  "language_info": {
   "codemirror_mode": {
    "name": "ipython",
    "version": 3
   },
   "file_extension": ".py",
   "mimetype": "text/x-python",
   "name": "python",
   "nbconvert_exporter": "python",
   "pygments_lexer": "ipython3",
   "version": "3.10.12"
  },
  "vscode": {
   "interpreter": {
    "hash": "09804e24ad6773f4299ff941abdb533da0618f58a933eb5ec00c0e9780539224"
   }
  }
 },
 "nbformat": 4,
 "nbformat_minor": 4
}
