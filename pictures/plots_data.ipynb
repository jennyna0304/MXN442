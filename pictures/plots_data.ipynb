{
 "cells": [
  {
   "cell_type": "code",
   "execution_count": 1,
   "metadata": {},
   "outputs": [
    {
     "name": "stdout",
     "output_type": "stream",
     "text": [
      "Setting base bath to \"c:\\Users\\Korbi\\Desktop\\CICLe\"\n"
     ]
    },
    {
     "name": "stderr",
     "output_type": "stream",
     "text": [
      "c:\\Users\\Korbi\\Desktop\\CICLe\\resources\\spans.py:3: TqdmExperimentalWarning: Using `tqdm.autonotebook.tqdm` in notebook mode. Use `tqdm.tqdm` instead to force console mode (e.g. in jupyter console)\n",
      "  from tqdm.autonotebook import tqdm, trange\n"
     ]
    }
   ],
   "source": [
    "import _base_path\n",
    "import json\n",
    "import numpy as np\n",
    "import pandas as pd\n",
    "\n",
    "import matplotlib\n",
    "if 'init_done' in globals():\n",
    "    matplotlib.use(\"pgf\")\n",
    "    matplotlib.rcParams.update({\n",
    "        \"pgf.texsystem\": \"pdflatex\",\n",
    "        'font.family': 'serif',\n",
    "        'text.usetex': True,\n",
    "        'pgf.rcfonts': False,\n",
    "    })\n",
    "import matplotlib.pyplot as plt\n",
    "\n",
    "from resources.spans import SpanCollection\n",
    "\n",
    "init_done = True"
   ]
  },
  {
   "cell_type": "markdown",
   "metadata": {},
   "source": [
    "# Load data:"
   ]
  },
  {
   "cell_type": "code",
   "execution_count": 2,
   "metadata": {},
   "outputs": [
    {
     "name": "stdout",
     "output_type": "stream",
     "text": [
      "  year:                   29\n",
      "  month:                  12\n",
      "  day:                    31\n",
      "  url:                  7498\n",
      "  title:                7329\n",
      "  product:              1256\n",
      "  product-raw:          1879\n",
      "  product-category:       22\n",
      "  hazard:                261\n",
      "  hazard-raw:            407\n",
      "  hazard-category:        10\n",
      "  supplier-title:       7546\n",
      "  language:                6\n",
      "  country:                15\n",
      "  product-title:        7546\n",
      "  hazard-title:         7546\n"
     ]
    }
   ],
   "source": [
    "# load data:\n",
    "incidents = pd.read_csv(\"../data/incidents/incidents_final.csv\", index_col=0)\n",
    "incidents.drop(columns=[col for col in incidents.columns if 'text' in col], inplace=True)\n",
    "\n",
    "# parse products:\n",
    "incidents['product'].fillna('', inplace=True)\n",
    "incidents['product-raw'].fillna('', inplace=True)\n",
    "incidents['product-category'].fillna('', inplace=True)\n",
    "incidents['product-title']    = [SpanCollection.parse(p) for p in incidents['product-title'].fillna('')]\n",
    "\n",
    "# parse hazards:\n",
    "incidents['hazard'].fillna('', inplace=True)\n",
    "incidents['hazard-raw'].fillna('', inplace=True)\n",
    "incidents['hazard-category'].fillna('', inplace=True)\n",
    "incidents['hazard-title']     = [SpanCollection.parse(h) for h in incidents['hazard-title'].fillna('')]\n",
    "\n",
    "# parse suppliers:\n",
    "incidents['supplier-title']   = [SpanCollection.parse(s) for s in incidents['supplier-title'].fillna('')]\n",
    "\n",
    "# fill nan-values:\n",
    "incidents['country'].fillna('na', inplace=True)\n",
    "\n",
    "def print_column(column:str, n:int=10):\n",
    "    try:               values = np.unique(np.concatenate(incidents[column].values))\n",
    "    except ValueError: values = np.unique(incidents[column].values)\n",
    "    counts = np.array([sum([v in label for label in incidents[column].values]) for v in values])\n",
    "\n",
    "    idx = np.argsort(counts)[::-1]\n",
    "    values = values[idx]\n",
    "    counts = counts[idx]\n",
    "    \n",
    "    print(f'Column \"{column}\" (n = {len(values):d}):\\n')\n",
    "    for v, n in zip(values[:n], counts[:n]):\n",
    "        print(f'  {v}:{\" \"*(50-len(v))}{sum([v in label for label in incidents[column].values]):5d}')\n",
    "\n",
    "# print unique counts:\n",
    "for c in incidents.columns:\n",
    "    print(f'  {c}:{\" \"*(20-len(c))}{len(incidents[c].drop_duplicates()):5d}')"
   ]
  },
  {
   "cell_type": "code",
   "execution_count": 3,
   "metadata": {},
   "outputs": [
    {
     "name": "stdout",
     "output_type": "stream",
     "text": [
      "(7546, 16)\n"
     ]
    },
    {
     "data": {
      "text/html": [
       "<div>\n",
       "<style scoped>\n",
       "    .dataframe tbody tr th:only-of-type {\n",
       "        vertical-align: middle;\n",
       "    }\n",
       "\n",
       "    .dataframe tbody tr th {\n",
       "        vertical-align: top;\n",
       "    }\n",
       "\n",
       "    .dataframe thead th {\n",
       "        text-align: right;\n",
       "    }\n",
       "</style>\n",
       "<table border=\"1\" class=\"dataframe\">\n",
       "  <thead>\n",
       "    <tr style=\"text-align: right;\">\n",
       "      <th></th>\n",
       "      <th>year</th>\n",
       "      <th>month</th>\n",
       "      <th>day</th>\n",
       "      <th>url</th>\n",
       "      <th>title</th>\n",
       "      <th>product</th>\n",
       "      <th>product-raw</th>\n",
       "      <th>product-category</th>\n",
       "      <th>hazard</th>\n",
       "      <th>hazard-raw</th>\n",
       "      <th>hazard-category</th>\n",
       "      <th>supplier-title</th>\n",
       "      <th>language</th>\n",
       "      <th>country</th>\n",
       "      <th>product-title</th>\n",
       "      <th>hazard-title</th>\n",
       "    </tr>\n",
       "  </thead>\n",
       "  <tbody>\n",
       "    <tr>\n",
       "      <th>0</th>\n",
       "      <td>2015</td>\n",
       "      <td>5</td>\n",
       "      <td>26</td>\n",
       "      <td>https://www.fda.gov/Safety/Recalls/ArchiveReca...</td>\n",
       "      <td>2015 - House of Spices (India) Inc. Issues Ale...</td>\n",
       "      <td>dried apricots</td>\n",
       "      <td>dried apricots</td>\n",
       "      <td>fruits and vegetables</td>\n",
       "      <td>sulphur dioxide and sulphites</td>\n",
       "      <td>undeclared sulphite</td>\n",
       "      <td>allergens</td>\n",
       "      <td>(slice(7, 34, None))</td>\n",
       "      <td>en</td>\n",
       "      <td>us</td>\n",
       "      <td>()</td>\n",
       "      <td>(slice(43, 51, None), slice(72, 74, None))</td>\n",
       "    </tr>\n",
       "    <tr>\n",
       "      <th>1</th>\n",
       "      <td>2022</td>\n",
       "      <td>5</td>\n",
       "      <td>25</td>\n",
       "      <td>https://www.fda.gov/safety/recalls-market-with...</td>\n",
       "      <td>Supplier J.M. Smucker Co.’s Jif Recall Prompts...</td>\n",
       "      <td>peanuts</td>\n",
       "      <td>peanuts</td>\n",
       "      <td>nuts, nut products and seeds</td>\n",
       "      <td>salmonella</td>\n",
       "      <td>salmonella</td>\n",
       "      <td>biological</td>\n",
       "      <td>(slice(47, 62, None))</td>\n",
       "      <td>en</td>\n",
       "      <td>us</td>\n",
       "      <td>(slice(28, 31, None), slice(85, 91, None))</td>\n",
       "      <td>(slice(0, 8, None), slice(47, 52, None), slice...</td>\n",
       "    </tr>\n",
       "    <tr>\n",
       "      <th>2</th>\n",
       "      <td>2020</td>\n",
       "      <td>6</td>\n",
       "      <td>2</td>\n",
       "      <td>http://www.cfs.gov.hk/english/whatsnew/whatsne...</td>\n",
       "      <td>*(Updated on 2 June 2020) Not to consume a bat...</td>\n",
       "      <td>apple juice</td>\n",
       "      <td>apple juice</td>\n",
       "      <td>non-alcoholic beverages</td>\n",
       "      <td>patulin</td>\n",
       "      <td>patulin</td>\n",
       "      <td>chemical</td>\n",
       "      <td>()</td>\n",
       "      <td>en</td>\n",
       "      <td>hk</td>\n",
       "      <td>(slice(72, 77, None))</td>\n",
       "      <td>(slice(96, 103, None))</td>\n",
       "    </tr>\n",
       "    <tr>\n",
       "      <th>3</th>\n",
       "      <td>2022</td>\n",
       "      <td>7</td>\n",
       "      <td>5</td>\n",
       "      <td>http://www.cfs.gov.hk/english/whatsnew/whatsne...</td>\n",
       "      <td>*(Updated on 5 July 2022) Not to consume smoke...</td>\n",
       "      <td>salmon</td>\n",
       "      <td>chilled smoked salmon</td>\n",
       "      <td>seafood</td>\n",
       "      <td>listeria monocytogenes</td>\n",
       "      <td>listeria monocytogenes</td>\n",
       "      <td>biological</td>\n",
       "      <td>()</td>\n",
       "      <td>en</td>\n",
       "      <td>hk</td>\n",
       "      <td>(slice(48, 68, None))</td>\n",
       "      <td>(slice(48, 63, None), slice(101, 109, None))</td>\n",
       "    </tr>\n",
       "    <tr>\n",
       "      <th>4</th>\n",
       "      <td>2021</td>\n",
       "      <td>3</td>\n",
       "      <td>20</td>\n",
       "      <td>http://www.fsis.usda.gov/recalls-alerts/avanza...</td>\n",
       "      <td>Avanza Pasta, LLC Recalls Beef and Poultry Pro...</td>\n",
       "      <td>pasta products</td>\n",
       "      <td>pasta products</td>\n",
       "      <td>other food product / mixed</td>\n",
       "      <td>inspection issues</td>\n",
       "      <td>inspection issues</td>\n",
       "      <td>fraud</td>\n",
       "      <td>(slice(0, 17, None))</td>\n",
       "      <td>en</td>\n",
       "      <td>us</td>\n",
       "      <td>(slice(70, 77, None))</td>\n",
       "      <td>(slice(14, 17, None), slice(26, 30, None), sli...</td>\n",
       "    </tr>\n",
       "  </tbody>\n",
       "</table>\n",
       "</div>"
      ],
      "text/plain": [
       "   year  month  day                                                url  \\\n",
       "0  2015      5   26  https://www.fda.gov/Safety/Recalls/ArchiveReca...   \n",
       "1  2022      5   25  https://www.fda.gov/safety/recalls-market-with...   \n",
       "2  2020      6    2  http://www.cfs.gov.hk/english/whatsnew/whatsne...   \n",
       "3  2022      7    5  http://www.cfs.gov.hk/english/whatsnew/whatsne...   \n",
       "4  2021      3   20  http://www.fsis.usda.gov/recalls-alerts/avanza...   \n",
       "\n",
       "                                               title         product  \\\n",
       "0  2015 - House of Spices (India) Inc. Issues Ale...  dried apricots   \n",
       "1  Supplier J.M. Smucker Co.’s Jif Recall Prompts...         peanuts   \n",
       "2  *(Updated on 2 June 2020) Not to consume a bat...     apple juice   \n",
       "3  *(Updated on 5 July 2022) Not to consume smoke...          salmon   \n",
       "4  Avanza Pasta, LLC Recalls Beef and Poultry Pro...  pasta products   \n",
       "\n",
       "             product-raw              product-category  \\\n",
       "0         dried apricots         fruits and vegetables   \n",
       "1                peanuts  nuts, nut products and seeds   \n",
       "2            apple juice       non-alcoholic beverages   \n",
       "3  chilled smoked salmon                       seafood   \n",
       "4         pasta products    other food product / mixed   \n",
       "\n",
       "                          hazard              hazard-raw hazard-category  \\\n",
       "0  sulphur dioxide and sulphites     undeclared sulphite       allergens   \n",
       "1                     salmonella              salmonella      biological   \n",
       "2                        patulin                 patulin        chemical   \n",
       "3         listeria monocytogenes  listeria monocytogenes      biological   \n",
       "4              inspection issues       inspection issues           fraud   \n",
       "\n",
       "          supplier-title language country  \\\n",
       "0   (slice(7, 34, None))       en      us   \n",
       "1  (slice(47, 62, None))       en      us   \n",
       "2                     ()       en      hk   \n",
       "3                     ()       en      hk   \n",
       "4   (slice(0, 17, None))       en      us   \n",
       "\n",
       "                                product-title  \\\n",
       "0                                          ()   \n",
       "1  (slice(28, 31, None), slice(85, 91, None))   \n",
       "2                       (slice(72, 77, None))   \n",
       "3                       (slice(48, 68, None))   \n",
       "4                       (slice(70, 77, None))   \n",
       "\n",
       "                                        hazard-title  \n",
       "0         (slice(43, 51, None), slice(72, 74, None))  \n",
       "1  (slice(0, 8, None), slice(47, 52, None), slice...  \n",
       "2                             (slice(96, 103, None))  \n",
       "3       (slice(48, 63, None), slice(101, 109, None))  \n",
       "4  (slice(14, 17, None), slice(26, 30, None), sli...  "
      ]
     },
     "execution_count": 3,
     "metadata": {},
     "output_type": "execute_result"
    }
   ],
   "source": [
    "print(incidents.shape)\n",
    "incidents.head()"
   ]
  },
  {
   "cell_type": "markdown",
   "metadata": {},
   "source": [
    "# Plots:"
   ]
  },
  {
   "cell_type": "code",
   "execution_count": 4,
   "metadata": {},
   "outputs": [],
   "source": [
    "colors = plt.colormaps[\"tab20c\"](np.arange(20))"
   ]
  },
  {
   "cell_type": "markdown",
   "metadata": {},
   "source": [
    "Histograms:"
   ]
  },
  {
   "cell_type": "code",
   "execution_count": 5,
   "metadata": {},
   "outputs": [],
   "source": [
    "def plot_hist(ax, values, title, n_named=3):\n",
    "    # count label occurences:\n",
    "    labels = np.unique(values)\n",
    "    counts = np.array([sum([l == v for v in values]) for l in labels], dtype=int)\n",
    "\n",
    "    # sort by counts:\n",
    "    idx = np.argsort(counts)[::-1]\n",
    "    labels = labels[idx]\n",
    "    counts = counts[idx]\n",
    "\n",
    "    # plot:\n",
    "    n = len(labels)\n",
    "    x = np.arange(n, dtype=float)\n",
    "    \n",
    "    for i, c in zip(range(n_named), colors[:n_named]):\n",
    "        # create linebeaks in label:\n",
    "        label = []\n",
    "        line = ''\n",
    "        for word in labels[i].split():\n",
    "            if len(line) + len(word) < 20:\n",
    "                line += word + ' '\n",
    "            else:\n",
    "                label.append(line[:-1])\n",
    "                line = word  + ' '\n",
    "        label.append(line[:-1])\n",
    "        line = ''\n",
    "\n",
    "        # rescale named bars for better visibility:\n",
    "        f = 1. if n < 80 else n/80.\n",
    "        x[i+1:] += (f - 1.) if (i+1) < n_named else (f - 1.)/2.\n",
    "        \n",
    "        ax.bar(x[i], counts[i], 0.8*f,\n",
    "            label='\\n'.join(label), color=c)\n",
    "\n",
    "    ax.bar(x[n_named:], counts[n_named:], color='tab:gray')\n",
    "    ax.set_title(title, fontdict={'size': 10,})\n",
    "    ax.legend(prop={'size': 8}, loc='upper right', framealpha=0.4)\n",
    "    ax.set_xticks([])\n",
    "    #ax.set_yscale('log')\n",
    "\n",
    "    # plot support based class sets:\n",
    "    values_accumulated = np.cumsum(counts[::-1])[::-1]\n",
    "\n",
    "    high_support = np.nonzero(values_accumulated >= values_accumulated[0] * .67)[0]\n",
    "    ax.axvspan(\n",
    "        x[high_support[0]] - .5 * (1. if n < 80 else n/80.), \n",
    "        .5 * (x[high_support[-1]] + x[high_support[-1] + 1]),\n",
    "        facecolor=colors[7],\n",
    "        alpha=0.5,\n",
    "        zorder=0\n",
    "    )\n",
    "\n",
    "    low_support = np.nonzero(values_accumulated <= values_accumulated[0] * .33)[0]\n",
    "    ax.axvspan(\n",
    "        .5 * (x[low_support[0] - 1] + x[low_support[0]]),\n",
    "        x[low_support[-1]] + (1. if n < 80 else n/80.),\n",
    "        facecolor=colors[7],\n",
    "        alpha=0.5,\n",
    "        zorder=0\n",
    "    )\n",
    "    \n",
    "    print(f'{title}: n_high = {sum(counts[high_support]):d}/{len(high_support):d}, n_low = {sum(counts[low_support]):d}/{len(low_support):d}')\n",
    "\n",
    "    return list(labels[high_support]), list(labels[low_support])\n"
   ]
  },
  {
   "cell_type": "code",
   "execution_count": 6,
   "metadata": {},
   "outputs": [
    {
     "name": "stdout",
     "output_type": "stream",
     "text": [
      "\\texttt{hazard-category}: n_high = 2557/1, n_low = 2462/8\n",
      "\\texttt{product-category}: n_high = 3089/2, n_low = 2185/16\n",
      "\\texttt{hazard}: n_high = 2668/3, n_low = 2414/248\n",
      "\\texttt{product}: n_high = 2508/39, n_low = 2483/1058\n"
     ]
    },
    {
     "data": {
      "image/png": "[encoded data removed]",
      "text/plain": [
       "<Figure size 550x350 with 4 Axes>"
      ]
     },
     "metadata": {},
     "output_type": "display_data"
    }
   ],
   "source": [
    "fig, axs = plt.subplots(2, 2, figsize=[5.5, 3.5])\n",
    "\n",
    "support_zones = {}\n",
    "\n",
    "support_zones['hazard-category']  = plot_hist(axs[0, 0], incidents['hazard-category'].values,  '\\\\texttt{hazard-category}')\n",
    "support_zones['product-category'] = plot_hist(axs[0, 1], incidents['product-category'].values, '\\\\texttt{product-category}')\n",
    "support_zones['hazard']           = plot_hist(axs[1, 0], incidents['hazard'].values,           '\\\\texttt{hazard}')\n",
    "support_zones['product']          = plot_hist(axs[1, 1], incidents['product'].values,          '\\\\texttt{product}')\n",
    "\n",
    "with open('../data/incidents/support_zones.json', 'w') as file:\n",
    "    json.dump(support_zones, file)\n",
    "\n",
    "plt.tight_layout()\n",
    "plt.savefig('plots/class_distribution.pdf')"
   ]
  },
  {
   "cell_type": "markdown",
   "metadata": {},
   "source": [
    "Language Distribution:"
   ]
  },
  {
   "cell_type": "code",
   "execution_count": 7,
   "metadata": {},
   "outputs": [],
   "source": [
    "def plot(ax, values):\n",
    "    # get x-values:\n",
    "    x = np.unique(values[:,0])\n",
    "    n = len(x)\n",
    "\n",
    "    # sort x-value:\n",
    "    x = np.sort(x)\n",
    "\n",
    "    # get curve names:\n",
    "    labels = np.unique(values[:,1])\n",
    "\n",
    "    # count label occurences:\n",
    "    counts = np.zeros((len(labels), n), dtype=int)\n",
    "    for v in values:\n",
    "        counts[labels == v[1], x == v[0]] += 1\n",
    "\n",
    "    for y, l in zip(counts, labels):\n",
    "        ax.plot(x, y, label=l)\n",
    "\n",
    "    ax.legend()"
   ]
  },
  {
   "cell_type": "code",
   "execution_count": 8,
   "metadata": {},
   "outputs": [
    {
     "data": {
      "image/png": "[encoded data removed]",
      "text/plain": [
       "<Figure size 400x200 with 1 Axes>"
      ]
     },
     "metadata": {},
     "output_type": "display_data"
    }
   ],
   "source": [
    "fig, ax = plt.subplots(1, 1, figsize=[4, 2])\n",
    "plot(ax, incidents[['year','language']].values)\n",
    "plt.savefig('plots/language_per_year.pdf')"
   ]
  }
 ],
 "metadata": {
  "kernelspec": {
   "display_name": "Python 3",
   "language": "python",
   "name": "python3"
  },
  "language_info": {
   "codemirror_mode": {
    "name": "ipython",
    "version": 3
   },
   "file_extension": ".py",
   "mimetype": "text/x-python",
   "name": "python",
   "nbconvert_exporter": "python",
   "pygments_lexer": "ipython3",
   "version": "3.11.8"
  },
  "orig_nbformat": 4
 },
 "nbformat": 4,
 "nbformat_minor": 2
}
