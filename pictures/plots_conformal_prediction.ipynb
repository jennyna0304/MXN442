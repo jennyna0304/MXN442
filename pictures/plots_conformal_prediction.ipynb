{
 "cells": [
  {
   "cell_type": "code",
   "execution_count": 1,
   "metadata": {},
   "outputs": [
    {
     "name": "stdout",
     "output_type": "stream",
     "text": [
      "Setting base bath to \"c:\\Users\\Korbi\\Desktop\\CICLe\"\n"
     ]
    }
   ],
   "source": [
    "import _base_path\n",
    "import torch\n",
    "import pickle\n",
    "import numpy as np\n",
    "import pandas as pd\n",
    "\n",
    "import matplotlib\n",
    "if 'init_done' in globals():\n",
    "    matplotlib.use(\"pgf\")\n",
    "    matplotlib.rcParams.update({\n",
    "        \"pgf.texsystem\": \"pdflatex\",\n",
    "        'font.family': 'serif',\n",
    "        'text.usetex': True,\n",
    "        'pgf.rcfonts': False,\n",
    "    })\n",
    "import matplotlib.pyplot as plt\n",
    "\n",
    "from resources.evaluator import EvaluatorConformalSimple, EvaluatorMaxK\n",
    "from resources.data_io import load_mappings, load_data\n",
    "\n",
    "from TrainerClassic import TrainerClassic\n",
    "from TrainerTransformer import TrainerTransformer\n",
    "\n",
    "init_done = True"
   ]
  },
  {
   "cell_type": "code",
   "execution_count": 2,
   "metadata": {},
   "outputs": [],
   "source": [
    "DATA       = 'incidents'\n",
    "TEXTS      = 'title'\n",
    "LABEL      = 'hazard-category'\n",
    "\n",
    "TRAD_MODEL = 'tfidf-lr'\n",
    "DEEP_MODEL = 'roberta-base'\n",
    "\n",
    "mappings = load_mappings(f\"../data/{DATA}/splits/\", LABEL)\n",
    "\n",
    "K          = list(np.arange(0, len(mappings)) + 1)\n",
    "EPSILON    = list(np.power(2, np.arange(0, 6, .2)) / 100.)"
   ]
  },
  {
   "cell_type": "code",
   "execution_count": 3,
   "metadata": {},
   "outputs": [
    {
     "data": {
      "text/plain": [
       "array(['allergens', 'biological', 'chemical',\n",
       "       'food additives and flavourings', 'food contact materials',\n",
       "       'foreign bodies', 'fraud', 'migration', 'organoleptic aspects',\n",
       "       'other hazard', 'packaging defect'], dtype=object)"
      ]
     },
     "execution_count": 3,
     "metadata": {},
     "output_type": "execute_result"
    }
   ],
   "source": [
    "mappings"
   ]
  },
  {
   "cell_type": "markdown",
   "metadata": {},
   "source": [
    "# Predict sets:"
   ]
  },
  {
   "cell_type": "markdown",
   "metadata": {},
   "source": [
    "## Option 1: Using Model"
   ]
  },
  {
   "cell_type": "code",
   "execution_count": 4,
   "metadata": {},
   "outputs": [],
   "source": [
    "def predict(load_base_classifier):\n",
    "    ps_max_k = [pd.DataFrame() for _ in range(5)]\n",
    "    ps_conf  = [pd.DataFrame() for _ in range(5)]\n",
    " \n",
    "    for i in range(5):\n",
    "        # load evaluators\n",
    "        evaluator_base = load_base_classifier(i)\n",
    "        evaluator_maxk = EvaluatorMaxK(evaluator_base)\n",
    "        evaluator_conf = EvaluatorConformalSimple(evaluator_base)\n",
    "\n",
    "        # load data:\n",
    "        _, data_calib, data_test = load_data(\n",
    "            f\"../data/{DATA}/splits/\",\n",
    "            TEXTS,\n",
    "            LABEL,\n",
    "            i,\n",
    "            evaluator_base.tokenizer,\n",
    "            add_texts=True\n",
    "        )\n",
    "\n",
    "        # predict class probabilities:\n",
    "        probs = evaluator_base.predict(data_test)\n",
    "\n",
    "        ps_max_k[i]['texts']  = evaluator_base.last_texts\n",
    "        ps_max_k[i]['labels'] = list(probs['labels'])\n",
    "        \n",
    "        ps_conf[i]['texts']  = evaluator_base.last_texts\n",
    "        ps_conf[i]['labels'] = list(probs['labels'])\n",
    "\n",
    "        # calibrate conformal prediction:\n",
    "        evaluator_conf.calibrate(data_calib)\n",
    "\n",
    "        # predict sets:\n",
    "        for epsilon in EPSILON:\n",
    "            ps_conf[i][f'{epsilon:.2f}'] = evaluator_conf.predict(epsilon, y_pred=probs['probabilities'])['predictions']\n",
    "\n",
    "        # predict max-k sets:\n",
    "        for k in K:\n",
    "            ps_max_k[i][f'{k:d}'] = evaluator_maxk.predict(k, y_pred=probs['probabilities'])['predictions']\n",
    "\n",
    "    return ps_max_k, ps_conf"
   ]
  },
  {
   "cell_type": "code",
   "execution_count": null,
   "metadata": {},
   "outputs": [],
   "source": [
    "ps_classic_max_k, ps_classic_conf = predict(\n",
    "    lambda i: TrainerClassic.load(\n",
    "        dir=f'../models/{TRAD_MODEL}/{TRAD_MODEL}-{LABEL}-{i:d}/',\n",
    "        normalize_fcn='sum'\n",
    "    )\n",
    ")"
   ]
  },
  {
   "cell_type": "code",
   "execution_count": null,
   "metadata": {},
   "outputs": [],
   "source": [
    "ps_deep_max_k, ps_deep_conf = predict(\n",
    "    lambda i: (\n",
    "        TrainerTransformer.load(\n",
    "            dir=f'../models/{DEEP_MODEL}/{DEEP_MODEL}-{LABEL}-{i:d}/f1/',\n",
    "            num_labels=len(mappings),\n",
    "            batch_size=16,\n",
    "            normalize_fcn='sum',\n",
    "            loss_fcn=torch.nn.CrossEntropyLoss(\n",
    "                #weight=None,\n",
    "                reduction='mean'\n",
    "            )\n",
    "        )\n",
    "    )\n",
    ")"
   ]
  },
  {
   "cell_type": "markdown",
   "metadata": {},
   "source": [
    "## Option 2: Using Saved Predcitions"
   ]
  },
  {
   "cell_type": "code",
   "execution_count": 4,
   "metadata": {},
   "outputs": [],
   "source": [
    "def predict(model_name:str):\n",
    "    ps_max_k = [pd.DataFrame() for _ in range(5)]\n",
    "    ps_conf  = [pd.DataFrame() for _ in range(5)]\n",
    " \n",
    "    for i in range(5):\n",
    "        # load evaluators\n",
    "        evaluator_maxk = EvaluatorMaxK(normalize_fcn='sum')\n",
    "        evaluator_conf = EvaluatorConformalSimple(normalize_fcn='sum')\n",
    "        \n",
    "        with open(f'../results/{model_name}/{model_name}-{LABEL}-calib-{i:d}.pickle', 'rb') as f:\n",
    "                predictions_calib = pickle.load(f)\n",
    "\n",
    "        # calibrate conformal prediction:\n",
    "        evaluator_conf.calibrate(\n",
    "            y_pred=predictions_calib['probabilities'],\n",
    "            y_true=predictions_calib['labels']\n",
    "        )\n",
    "\n",
    "        with open(f'../results/{model_name}/{model_name}-{LABEL}-{i:d}.pickle', 'rb') as f:\n",
    "                predictions_test = pickle.load(f)\n",
    "\n",
    "        ps_max_k[i]['labels'] = list(predictions_test['labels'])\n",
    "        ps_conf[i]['labels'] = list(predictions_test['labels'])\n",
    "\n",
    "        # predict sets:\n",
    "        for epsilon in EPSILON:\n",
    "            ps_conf[i][f'{epsilon:.2f}'] = evaluator_conf.predict(epsilon, y_pred=predictions_test['probabilities'])['predictions']\n",
    "\n",
    "        # predict max-k sets:\n",
    "        for k in K:\n",
    "            ps_max_k[i][f'{k:d}'] = evaluator_maxk.predict(k, y_pred=predictions_test['probabilities'])['predictions']\n",
    "\n",
    "    return ps_max_k, ps_conf"
   ]
  },
  {
   "cell_type": "code",
   "execution_count": 5,
   "metadata": {},
   "outputs": [],
   "source": [
    "ps_classic_max_k, ps_classic_conf = predict(TRAD_MODEL)"
   ]
  },
  {
   "cell_type": "code",
   "execution_count": 6,
   "metadata": {},
   "outputs": [],
   "source": [
    "ps_deep_max_k, ps_deep_conf = predict(DEEP_MODEL)"
   ]
  },
  {
   "cell_type": "markdown",
   "metadata": {},
   "source": [
    "# Best traditional classifier:"
   ]
  },
  {
   "cell_type": "code",
   "execution_count": 7,
   "metadata": {},
   "outputs": [],
   "source": [
    "def evaluate(ps, keys):\n",
    "    sl, sa = {}, {}\n",
    "\n",
    "    for key in keys:\n",
    "        sl[key] = [len(y_pred) for df in ps for y_pred in df[key].values]\n",
    "        #sa[key] = [np.mean([np.argmax(y_true) in y_pred['i'] for y_true, y_pred in df[['labels', key]].values]) for df in ps]\n",
    "        sa[key] = [np.mean([y_true in y_pred['i'] for y_true, y_pred in df[['labels', key]].values]) for df in ps]\n",
    "\n",
    "    return sl, sa"
   ]
  },
  {
   "cell_type": "markdown",
   "metadata": {},
   "source": [
    "## max-$k$ prediction:"
   ]
  },
  {
   "cell_type": "code",
   "execution_count": 8,
   "metadata": {},
   "outputs": [],
   "source": [
    "# evaluate set length and accuracy:\n",
    "sl_classic_max_k, sa_classic_max_k = evaluate(ps_classic_max_k, [f'{k:d}' for k in K])"
   ]
  },
  {
   "cell_type": "code",
   "execution_count": 9,
   "metadata": {},
   "outputs": [
    {
     "name": "stdout",
     "output_type": "stream",
     "text": [
      "Set length: $5.00 \\pm 0.00$\n",
      "    -> max: $5.00$\n",
      "    -> min: $5.00$\n",
      "\n",
      "Set accuracy: $0.97 \\pm 0.00$\n",
      "      -> max: $0.98$\n",
      "      -> min: $0.96$\n"
     ]
    }
   ],
   "source": [
    "# print best:\n",
    "k = '5'\n",
    "print(f'Set length: ${np.mean(sl_classic_max_k[k]):.2f} \\\\pm {np.std(sl_classic_max_k[k]):.2f}$')\n",
    "print(f'    -> max: ${np.max(sl_classic_max_k[k]):.2f}$')\n",
    "print(f'    -> min: ${np.min(sl_classic_max_k[k]):.2f}$')\n",
    "print()\n",
    "print(f'Set accuracy: ${np.mean(sa_classic_max_k[k]):.2f} \\\\pm {np.std(sa_classic_max_k[k]):.2f}$')\n",
    "print(f'      -> max: ${np.max(sa_classic_max_k[k]):.2f}$')\n",
    "print(f'      -> min: ${np.min(sa_classic_max_k[k]):.2f}$')"
   ]
  },
  {
   "cell_type": "markdown",
   "metadata": {},
   "source": [
    "## Conformal prediction:"
   ]
  },
  {
   "cell_type": "code",
   "execution_count": 10,
   "metadata": {},
   "outputs": [],
   "source": [
    "# evaluate set length and accuracy:\n",
    "sl_classic_conf, sa_classic_conf = evaluate(ps_classic_conf, [f'{epsilon:.2f}' for epsilon in EPSILON])"
   ]
  },
  {
   "cell_type": "code",
   "execution_count": 12,
   "metadata": {},
   "outputs": [
    {
     "name": "stdout",
     "output_type": "stream",
     "text": [
      "Set length: $5.42 \\pm 2.33$\n",
      "    -> max: $10.00$\n",
      "    -> min: $1.00$\n",
      "\n",
      "Set accuracy: $0.99 \\pm 0.00$\n",
      "      -> max: $1.00$\n",
      "      -> min: $0.99$\n"
     ]
    }
   ],
   "source": [
    "# print best:\n",
    "epsilon = '0.01'\n",
    "print(f'Set length: ${np.mean(sl_classic_conf[epsilon]):.2f} \\\\pm {np.std(sl_classic_conf[epsilon]):.2f}$')\n",
    "print(f'    -> max: ${np.max(sl_classic_conf[epsilon]):.2f}$')\n",
    "print(f'    -> min: ${np.min(sl_classic_conf[epsilon]):.2f}$')\n",
    "print()\n",
    "print(f'Set accuracy: ${np.mean(sa_classic_conf[epsilon]):.2f} \\\\pm {np.std(sa_classic_conf[epsilon]):.2f}$')\n",
    "print(f'      -> max: ${np.max(sa_classic_conf[epsilon]):.2f}$')\n",
    "print(f'      -> min: ${np.min(sa_classic_conf[epsilon]):.2f}$')"
   ]
  },
  {
   "cell_type": "markdown",
   "metadata": {},
   "source": [
    "# Best transformer:"
   ]
  },
  {
   "cell_type": "markdown",
   "metadata": {},
   "source": [
    "## max-$k$ prediction:"
   ]
  },
  {
   "cell_type": "code",
   "execution_count": 11,
   "metadata": {},
   "outputs": [],
   "source": [
    "# evaluate set length and accuracy:\n",
    "sl_deep_max_k, sa_deep_max_k = evaluate(ps_deep_max_k, [f'{k:d}' for k in K])"
   ]
  },
  {
   "cell_type": "code",
   "execution_count": 13,
   "metadata": {},
   "outputs": [
    {
     "name": "stdout",
     "output_type": "stream",
     "text": [
      "Set length: $5.00 \\pm 0.00$\n",
      "    -> max: $5.00$\n",
      "    -> min: $5.00$\n",
      "\n",
      "Set accuracy: $0.95 \\pm 0.02$\n",
      "      -> max: $0.97$\n",
      "      -> min: $0.93$\n"
     ]
    }
   ],
   "source": [
    "# print best:\n",
    "k = '5'\n",
    "print(f'Set length: ${np.mean(sl_deep_max_k[k]):.2f} \\\\pm {np.std(sl_deep_max_k[k]):.2f}$')\n",
    "print(f'    -> max: ${np.max(sl_deep_max_k[k]):.2f}$')\n",
    "print(f'    -> min: ${np.min(sl_deep_max_k[k]):.2f}$')\n",
    "print()\n",
    "print(f'Set accuracy: ${np.mean(sa_deep_max_k[k]):.2f} \\\\pm {np.std(sa_deep_max_k[k]):.2f}$')\n",
    "print(f'      -> max: ${np.max(sa_deep_max_k[k]):.2f}$')\n",
    "print(f'      -> min: ${np.min(sa_deep_max_k[k]):.2f}$')"
   ]
  },
  {
   "cell_type": "markdown",
   "metadata": {},
   "source": [
    "## Conformal prediction:"
   ]
  },
  {
   "cell_type": "code",
   "execution_count": 14,
   "metadata": {},
   "outputs": [],
   "source": [
    "# evaluate set length and accuracy:\n",
    "sl_deep_conf, sa_deep_conf = evaluate(ps_deep_conf, [f'{epsilon:.2f}' for epsilon in EPSILON])"
   ]
  },
  {
   "cell_type": "code",
   "execution_count": 15,
   "metadata": {},
   "outputs": [
    {
     "name": "stdout",
     "output_type": "stream",
     "text": [
      "Set length: $6.34 \\pm 3.11$\n",
      "    -> max: $11.00$\n",
      "    -> min: $1.00$\n",
      "\n",
      "Set accuracy: $0.99 \\pm 0.00$\n",
      "      -> max: $0.99$\n",
      "      -> min: $0.98$\n"
     ]
    }
   ],
   "source": [
    "# print best:\n",
    "epsilon = '0.01'\n",
    "print(f'Set length: ${np.mean(sl_deep_conf[epsilon]):.2f} \\\\pm {np.std(sl_deep_conf[epsilon]):.2f}$')\n",
    "print(f'    -> max: ${np.max(sl_deep_conf[epsilon]):.2f}$')\n",
    "print(f'    -> min: ${np.min(sl_deep_conf[epsilon]):.2f}$')\n",
    "print()\n",
    "print(f'Set accuracy: ${np.mean(sa_deep_conf[epsilon]):.2f} \\\\pm {np.std(sa_deep_conf[epsilon]):.2f}$')\n",
    "print(f'      -> max: ${np.max(sa_deep_conf[epsilon]):.2f}$')\n",
    "print(f'      -> min: ${np.min(sa_deep_conf[epsilon]):.2f}$')"
   ]
  },
  {
   "cell_type": "markdown",
   "metadata": {},
   "source": [
    "# Plots:"
   ]
  },
  {
   "cell_type": "code",
   "execution_count": 16,
   "metadata": {},
   "outputs": [],
   "source": [
    "def boxplot(**kwargs):\n",
    "    data   = []\n",
    "    labels = []\n",
    "    for param in kwargs:\n",
    "        for value in kwargs[param]:\n",
    "            data.append(kwargs[param][value])\n",
    "            labels.append(f'${param}={value}$')\n",
    "\n",
    "    plt.boxplot(np.transpose(np.array(data)), labels=labels)"
   ]
  },
  {
   "cell_type": "code",
   "execution_count": 17,
   "metadata": {},
   "outputs": [
    {
     "data": {
      "image/png": "[encoded data removed]",
      "text/plain": [
       "<Figure size 640x480 with 1 Axes>"
      ]
     },
     "metadata": {},
     "output_type": "display_data"
    }
   ],
   "source": [
    "boxplot(k=sl_classic_max_k, e=sl_classic_conf)"
   ]
  },
  {
   "cell_type": "code",
   "execution_count": 18,
   "metadata": {},
   "outputs": [
    {
     "data": {
      "image/png": "[encoded data removed]",
      "text/plain": [
       "<Figure size 640x480 with 1 Axes>"
      ]
     },
     "metadata": {},
     "output_type": "display_data"
    }
   ],
   "source": [
    "boxplot(k=sa_classic_max_k, e=sa_classic_conf)"
   ]
  },
  {
   "cell_type": "code",
   "execution_count": 19,
   "metadata": {},
   "outputs": [
    {
     "data": {
      "image/png": "[encoded data removed]",
      "text/plain": [
       "<Figure size 300x300 with 1 Axes>"
      ]
     },
     "metadata": {},
     "output_type": "display_data"
    }
   ],
   "source": [
    "fig, ax = plt.subplots(1, 1, figsize=(3, 3))\n",
    "\n",
    "clf_classic = 'TF-IDF-LR'\n",
    "clf_deep = 'RoBERTa'\n",
    "left = (LABEL == 'hazard-category')\n",
    "\n",
    "# plot curve for conformal with best traditional cf:\n",
    "data_x_classic_conf = []\n",
    "data_y_classic_conf = []\n",
    "try:\n",
    "    for epsilon in sl_classic_conf:\n",
    "        data_x_classic_conf.append(np.mean(sl_classic_conf[epsilon]))\n",
    "        data_y_classic_conf.append(np.mean(sa_classic_conf[epsilon]))\n",
    "    ax.plot(data_x_classic_conf, data_y_classic_conf, label=f'{clf_classic} + conformal')\n",
    "except NameError: pass\n",
    "\n",
    "# plot curve for max-k with best traditional cf:\n",
    "data_x_classic_max_k = []\n",
    "data_y_classic_max_k = []\n",
    "try:\n",
    "    for k in sl_classic_max_k:\n",
    "        data_x_classic_max_k.append(np.mean(sl_classic_max_k[k]))\n",
    "        data_y_classic_max_k.append(np.mean(sa_classic_max_k[k]))\n",
    "    ax.plot(data_x_classic_max_k, data_y_classic_max_k, label=f'{clf_classic} + max-$k$')\n",
    "except NameError: pass\n",
    "\n",
    "# plot curve for conformal with best transformer cf:\n",
    "data_x_deep_conf = []\n",
    "data_y_deep_conf = []\n",
    "try:\n",
    "    for epsilon in sl_deep_conf:\n",
    "        data_x_deep_conf.append(np.mean(sl_deep_conf[epsilon]))\n",
    "        data_y_deep_conf.append(np.mean(sa_deep_conf[epsilon]))\n",
    "    ax.plot(data_x_deep_conf, data_y_deep_conf, label=f'{clf_deep} + conformal')\n",
    "except NameError: pass\n",
    "\n",
    "# plot curve for max-k with best transformer cf:\n",
    "data_x_deep_max_k = []\n",
    "data_y_deep_max_k = []\n",
    "try:\n",
    "    for k in sl_deep_max_k:\n",
    "        data_x_deep_max_k.append(np.mean(sl_deep_max_k[k]))\n",
    "        data_y_deep_max_k.append(np.mean(sa_deep_max_k[k]))\n",
    "    ax.plot(data_x_deep_max_k, data_y_deep_max_k, label=f'{clf_deep} + max-$k$')\n",
    "except NameError: pass\n",
    "\n",
    "# plot extreme values:\n",
    "x_max = max([max(data_x_classic_max_k), max(data_x_classic_conf)])\n",
    "ax.plot([1., 1., x_max], [.5, 1., 1.], 'r--')\n",
    "ax.plot(1., 1., 'or--', label='optimum')\n",
    "\n",
    "# plot base performance:\n",
    "try:\n",
    "    y_min_classic = np.mean(sa_classic_max_k['1'])\n",
    "    ax.plot([1., x_max], [y_min_classic, y_min_classic], 'g--')\n",
    "    ax.plot(1, y_min_classic, 'og--', label=clf_classic)\n",
    "except NameError: pass\n",
    "\n",
    "try:\n",
    "    y_min_deep = np.mean(sa_deep_max_k['1'])\n",
    "    ax.plot([1., x_max], [y_min_deep, y_min_deep], 'b--')\n",
    "    ax.plot(1, y_min_deep, 'ob--', label=clf_deep)\n",
    "except NameError: pass\n",
    "\n",
    "margin = (x_max-1.) * 0.02\n",
    "ax.set_xlim(1 - margin, x_max + margin)\n",
    "\n",
    "margin = 0.5 * 0.02\n",
    "ax.set_ylim(0.5 - margin, 1 + margin)\n",
    "\n",
    "for y in [.5, .6, .7, .8 , .9, 1.]:\n",
    "    ax.axhline(y, linewidth=.5, color='grey', zorder=0)\n",
    "\n",
    "ax.set_title(f'\\\\texttt\\u007B{LABEL}\\u007D')\n",
    "ax.set_xlabel('Set Length')\n",
    "if left:\n",
    "    ax.set_yticks([.5, .6, .7, .8 , .9, 1.])\n",
    "    ax.set_ylabel('Set Accuracy')\n",
    "    ax.legend(fontsize=8)\n",
    "\n",
    "else:\n",
    "    ax.set_yticks([])\n",
    "    ax.set_ylabel('')\n",
    "\n",
    "plt.subplots_adjust(bottom=0.15, left=0.2, right=.95, top=.9)\n",
    "plt.savefig(f'plots/conformal_performance_{LABEL}.pdf')\n",
    "plt.show()"
   ]
  }
 ],
 "metadata": {
  "kernelspec": {
   "display_name": "Python 3",
   "language": "python",
   "name": "python3"
  },
  "language_info": {
   "codemirror_mode": {
    "name": "ipython",
    "version": 3
   },
   "file_extension": ".py",
   "mimetype": "text/x-python",
   "name": "python",
   "nbconvert_exporter": "python",
   "pygments_lexer": "ipython3",
   "version": "3.11.7"
  },
  "orig_nbformat": 4
 },
 "nbformat": 4,
 "nbformat_minor": 2
}
