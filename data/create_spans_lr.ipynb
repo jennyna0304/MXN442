{
 "cells": [
  {
   "cell_type": "code",
   "execution_count": null,
   "metadata": {},
   "outputs": [],
   "source": [
    "import _base_path\n",
    "import numpy as np\n",
    "import pandas as pd\n",
    "import spacy\n",
    "from spacy import displacy\n",
    "from resources.spans import SpanCollection, SpanExtractor\n",
    "from resources.data_io import load_mappings\n",
    "from resources.tokenization import WordTokenizer\n",
    "from TrainerClassic import TrainerClassic\n",
    "\n",
    "import matplotlib.pyplot as plt"
   ]
  },
  {
   "cell_type": "code",
   "execution_count": 2,
   "metadata": {},
   "outputs": [],
   "source": [
    "MODEL  = 'tfidf-lr'\n",
    "LABEL  = 'hazard-category'\n",
    "DATA   = 'incidents'\n",
    "COLUMN = f'{LABEL.split(\"-\")[0]}-title'"
   ]
  },
  {
   "cell_type": "markdown",
   "metadata": {},
   "source": [
    "# Load data:"
   ]
  },
  {
   "cell_type": "code",
   "execution_count": 3,
   "metadata": {},
   "outputs": [
    {
     "name": "stdout",
     "output_type": "stream",
     "text": [
      "  year:                   29\n",
      "  month:                  12\n",
      "  day:                    31\n",
      "  url:                  7498\n",
      "  title:                7329\n",
      "  text:                 7546\n",
      "  product:              1256\n",
      "  product-raw:          1879\n",
      "  product-category:       22\n",
      "  product-text:         7546\n",
      "  hazard:                261\n",
      "  hazard-raw:            407\n",
      "  hazard-category:        10\n",
      "  hazard-text:          7546\n",
      "  supplier-title:       7546\n",
      "  supplier-text:        7546\n",
      "  language:                6\n",
      "  country:                15\n",
      "  product-title:        4343\n"
     ]
    }
   ],
   "source": [
    "# load data:\n",
    "incidents = pd.read_csv(f\"{DATA}/{DATA}.csv\", index_col=0).drop(columns=[COLUMN])\n",
    "\n",
    "# parse products:\n",
    "incidents['product'].fillna('', inplace=True)\n",
    "incidents['product-category'].fillna('', inplace=True)\n",
    "incidents['product-text']     = [SpanCollection.parse(p) for p in incidents['product-text'].fillna('')]\n",
    "\n",
    "# parse hazards:\n",
    "incidents['hazard'].fillna('', inplace=True)\n",
    "incidents['hazard-category'].fillna('', inplace=True)\n",
    "incidents['hazard-text']      = [SpanCollection.parse(h) for h in incidents['hazard-text'].fillna('')]\n",
    "\n",
    "# parse suppliers:\n",
    "incidents['supplier-title']   = [SpanCollection.parse(s) for s in incidents['supplier-title'].fillna('')]\n",
    "incidents['supplier-text']    = [SpanCollection.parse(s) for s in incidents['supplier-text'].fillna('')]\n",
    "\n",
    "# fill nan-values:\n",
    "incidents['country'].fillna('na', inplace=True)\n",
    "\n",
    "def print_column(column:str, n:int=10):\n",
    "    try:               values = np.unique(np.concatenate(incidents[column].values))\n",
    "    except ValueError: values = np.unique(incidents[column].values)\n",
    "    counts = np.array([sum([v in label for label in incidents[column].values]) for v in values])\n",
    "\n",
    "    idx = np.argsort(counts)[::-1]\n",
    "    values = values[idx]\n",
    "    counts = counts[idx]\n",
    "    \n",
    "    print(f'Column \"{column}\" (n = {len(values):d}):\\n')\n",
    "    for v, n in zip(values[:n], counts[:n]):\n",
    "        print(f'  {v}:{\" \"*(50-len(v))}{sum([v in label for label in incidents[column].values]):5d}')\n",
    "\n",
    "# print unique counts:\n",
    "for c in incidents.columns:\n",
    "    print(f'  {c}:{\" \"*(20-len(c))}{len(incidents[c].drop_duplicates()):5d}')"
   ]
  },
  {
   "cell_type": "markdown",
   "metadata": {},
   "source": [
    "# Analysis:\n",
    "## Extract Coefficients:"
   ]
  },
  {
   "cell_type": "code",
   "execution_count": 4,
   "metadata": {},
   "outputs": [
    {
     "name": "stderr",
     "output_type": "stream",
     "text": [
      "C:\\Users\\Korbi\\AppData\\Local\\Packages\\PythonSoftwareFoundation.Python.3.11_qbz5n2kfra8p0\\LocalCache\\local-packages\\Python311\\site-packages\\sklearn\\base.py:376: InconsistentVersionWarning: Trying to unpickle estimator LogisticRegression from version 1.2.2 when using version 1.4.0. This might lead to breaking code or invalid results. Use at your own risk. For more info please refer to:\n",
      "https://scikit-learn.org/stable/model_persistence.html#security-maintainability-limitations\n",
      "  warnings.warn(\n"
     ]
    },
    {
     "name": "stdout",
     "output_type": "stream",
     "text": [
      "[('allergens', 2527), ('biological', 2557), ('chemical', 578), ('food additives and flavourings', 32), ('food contact materials', 0), ('foreign bodies', 943), ('fraud', 527), ('migration', 14), ('organoleptic aspects', 81), ('other hazard', 187), ('packaging defect', 100)]\n"
     ]
    }
   ],
   "source": [
    "models, vocab = [], []\n",
    "for i in range(5):\n",
    "    t = TrainerClassic.load(f'../models/{MODEL}/{MODEL}-{LABEL}-{i:d}/')\n",
    "    models.append(t._model)\n",
    "    vocab.append(t.embedding.tokenizer._vocab)\n",
    "\n",
    "# Row and column labels:\n",
    "classes = load_mappings(f'{DATA}/splits/', LABEL)\n",
    "counts = incidents[LABEL].value_counts()\n",
    "classes = list(zip(\n",
    "    classes,\n",
    "    [counts[c] if c in counts else 0 for c in classes]\n",
    "))\n",
    "print(classes)\n",
    "\n",
    "classes = [c for c, n in classes if n > 0]\n",
    "\n",
    "tokens  = list(set(np.concatenate(vocab)))\n",
    "tokens.sort()\n",
    "\n",
    "# importance:\n",
    "coefficients = np.zeros((len(classes), len(tokens)), dtype=float)\n",
    "for m, v in zip(models, vocab):\n",
    "    # create index-mapping: \n",
    "    idx = [tokens.index(t) for t in v]\n",
    "\n",
    "    for i, c in enumerate(m.coef_):\n",
    "        coefficients[i,idx] += c\n",
    "\n",
    "# average over 5 splits:\n",
    "coefficients /= 5."
   ]
  },
  {
   "cell_type": "markdown",
   "metadata": {},
   "source": [
    "## Filter out all zero columns: "
   ]
  },
  {
   "cell_type": "code",
   "execution_count": 5,
   "metadata": {},
   "outputs": [],
   "source": [
    "idx = np.unique(np.nonzero(coefficients)[1])\n",
    "\n",
    "coefficients_filtered = coefficients[:,idx]\n",
    "tokens_filtered = [tokens[i] for i in idx]"
   ]
  },
  {
   "cell_type": "code",
   "execution_count": 6,
   "metadata": {},
   "outputs": [
    {
     "name": "stdout",
     "output_type": "stream",
     "text": [
      "108\n"
     ]
    }
   ],
   "source": [
    "# filter out numbers and special tokens:\n",
    "i = list(tokens_filtered).index('a')\n",
    "print(i)\n",
    "\n",
    "tokens_filtered = tokens_filtered[i:]\n",
    "coefficients_filtered = coefficients_filtered[:,i:]"
   ]
  },
  {
   "cell_type": "code",
   "execution_count": 7,
   "metadata": {},
   "outputs": [
    {
     "data": {
      "image/png": "[encoded data removed]",
      "text/plain": [
       "<Figure size 640x480 with 1 Axes>"
      ]
     },
     "metadata": {},
     "output_type": "display_data"
    }
   ],
   "source": [
    "plt.imshow(coefficients_filtered[:50,:50])\n",
    "plt.yticks(ticks=np.arange(min(len(classes), 50)), labels=classes[:50])\n",
    "plt.xticks(ticks=np.arange(min(len(tokens_filtered), 50)), labels=tokens_filtered[:50], rotation=90)\n",
    "plt.show()"
   ]
  },
  {
   "cell_type": "markdown",
   "metadata": {},
   "source": [
    "## Calculate most important tokens:"
   ]
  },
  {
   "cell_type": "code",
   "execution_count": 8,
   "metadata": {},
   "outputs": [],
   "source": [
    "most_important_tokens = {}\n",
    "\n",
    "for i, c in enumerate(classes):\n",
    "    idx = np.argsort(coefficients_filtered[i])[::-1]\n",
    "    \n",
    "    most_important_tokens[c] = {\n",
    "        tokens_filtered[j]:coefficients_filtered[i,j]\n",
    "        for j in idx\n",
    "        if coefficients_filtered[i, j] > 0.\n",
    "    }"
   ]
  },
  {
   "cell_type": "code",
   "execution_count": 9,
   "metadata": {},
   "outputs": [
    {
     "name": "stdout",
     "output_type": "stream",
     "text": [
      "ALLERGENS: undeclar, allergen, allergi, withdrawn, thereof, sultana, coconut, mustard, milk, chocol, ...\n",
      "BIOLOGICAL: salmonella, listeria, risk, bacteria, mould, coli, noroviru, e., health, chees, ...\n",
      "CHEMICAL: level, sibutramin, ethylen, chemic, oxid, sanit, cyanid, histamin, tadalafil, lead, ...\n",
      "FOOD ADDITIVES AND FLAVOURINGS: jelli, high, withdraw, acid, cup, cure, haigh, tofu, colour, christma, ...\n",
      "FOREIGN BODIES: foreign, metal, piec, plastic, insect, extran, glass, fragment, gerieben, minc, ...\n",
      "FRAUD: without, inspect, unapprov, misbrand, english, inelig, report, mislabel, date, sweeten, ...\n",
      "MIGRATION: migrat, nylon, schafskäs, fortun, silikon-muffinbackform, dot, aroy-d, aroma, alpina, holzgriff, ...\n",
      "ORGANOLEPTIC ASPECTS: spoilag, rancid, uht, odour, off-odour, adulter, quality/spoilag, x, bratmax, still, ...\n",
      "OTHER HAZARD: undercook, haccp, specifi, hazard, process, condit, prohibit, deviat, jelli, insuffici, ...\n",
      "PACKAGING DEFECT: seal, fault, burst, apfelschorl, sparkl, wine, defect, bottl, integr, illi, ...\n"
     ]
    }
   ],
   "source": [
    "for c in most_important_tokens:\n",
    "    print(f'{c.upper()}: {\", \".join(list(most_important_tokens[c].keys())[:10])}, ...')"
   ]
  },
  {
   "cell_type": "markdown",
   "metadata": {},
   "source": [
    "## Calculate overlap:"
   ]
  },
  {
   "cell_type": "code",
   "execution_count": 10,
   "metadata": {},
   "outputs": [
    {
     "name": "stdout",
     "output_type": "stream",
     "text": [
      "Overlap: 1.16\n"
     ]
    }
   ],
   "source": [
    "mit_all = np.concatenate([list(e.keys()) for e in most_important_tokens.values()])\n",
    "mit_unique = np.unique(mit_all)\n",
    "\n",
    "print(f'Overlap: {len(mit_all)/len(mit_unique):.2f}')"
   ]
  },
  {
   "cell_type": "code",
   "execution_count": 11,
   "metadata": {},
   "outputs": [],
   "source": [
    "counts = {}\n",
    "for mit in mit_unique:\n",
    "    tmp = [key \n",
    "        for key in most_important_tokens\n",
    "        if mit in most_important_tokens[key].keys()\n",
    "    ]\n",
    "\n",
    "    if len(tmp) > 1: counts[mit] = tmp"
   ]
  },
  {
   "cell_type": "code",
   "execution_count": 12,
   "metadata": {},
   "outputs": [
    {
     "data": {
      "text/plain": [
       "237"
      ]
     },
     "execution_count": 12,
     "metadata": {},
     "output_type": "execute_result"
    }
   ],
   "source": [
    "len(counts)"
   ]
  },
  {
   "cell_type": "markdown",
   "metadata": {},
   "source": [
    "# Extract spans"
   ]
  },
  {
   "cell_type": "code",
   "execution_count": 13,
   "metadata": {},
   "outputs": [],
   "source": [
    "tokenizer = WordTokenizer()\n",
    "tokenizer._vocab.extend(tokens)\n",
    "tokenizer.train = False"
   ]
  },
  {
   "cell_type": "code",
   "execution_count": 14,
   "metadata": {},
   "outputs": [
    {
     "name": "stdout",
     "output_type": "stream",
     "text": [
      "Prefixes: {'migration': 0.565, 'and': 0.5763888888888888, 'other': 0.8028571428571428, 'too': 0.9293849206349206, 'unauthorised': 0.6319223985890652, 'e': 0.6275793650793651, 'high': 0.8157879818594105, 'content': 0.6116307634164777, 'of': 0.500800051203277, 'substance': 0.5625}\n",
      "Suffixes: {'thereof': 0.881060606060606, 'spp': 0.5249999999999999, 'product': 0.6036458333333333, 'colour': 0.54375}\n"
     ]
    }
   ],
   "source": [
    "extractor = SpanExtractor(\n",
    "    np.unique(incidents[LABEL.split('-')[0]].values),\n",
    "    p_prefix=.5,\n",
    "    p_suffix=.5,\n",
    "    t_stopword=10\n",
    ")\n",
    "print('Prefixes:', extractor.prefixes)\n",
    "print('Suffixes:', extractor.suffixes)\n"
   ]
  },
  {
   "cell_type": "code",
   "execution_count": 15,
   "metadata": {},
   "outputs": [
    {
     "name": "stdout",
     "output_type": "stream",
     "text": [
      "Percent of Texts with evidence for class: 86.92%\n"
     ]
    }
   ],
   "source": [
    "data = []\n",
    "\n",
    "for txt, lbl in incidents[['title', LABEL]].values:\n",
    "    tok_out = tokenizer(txt, return_offsets_mapping=True)\n",
    "    tkns = np.array([tokenizer._vocab[i] for i in tok_out['input_ids']])\n",
    "    spns = tok_out['offset_mapping']\n",
    "\n",
    "    importance = np.zeros(tkns.shape, dtype=float)\n",
    "    for c in classes:\n",
    "        for i, t in enumerate(tkns):\n",
    "            if c == lbl:\n",
    "                try: importance[i] += most_important_tokens[c][t]\n",
    "                except KeyError: pass\n",
    "\n",
    "            else:\n",
    "                try: importance[i] -= most_important_tokens[c][t]\n",
    "                except KeyError: pass\n",
    "\n",
    "    spns = extractor.find([[t] for t in tkns[importance > 0]], txt)\n",
    "    data.append((lbl, tkns[importance > 0], spns, importance[importance > 0]))\n",
    "\n",
    "print(f'Percent of Texts with evidence for class: {np.mean([len(s) > 0 for _,_,s,_ in data])*100:.2f}%')"
   ]
  },
  {
   "cell_type": "markdown",
   "metadata": {},
   "source": [
    "# Spans:"
   ]
  },
  {
   "cell_type": "code",
   "execution_count": 16,
   "metadata": {},
   "outputs": [],
   "source": [
    "incidents[COLUMN] = [s for _,_,s,_ in data]"
   ]
  },
  {
   "cell_type": "code",
   "execution_count": 17,
   "metadata": {},
   "outputs": [],
   "source": [
    "nlp = spacy.load(\"en_core_web_sm\")"
   ]
  },
  {
   "cell_type": "code",
   "execution_count": 45,
   "metadata": {},
   "outputs": [
    {
     "name": "stdout",
     "output_type": "stream",
     "text": [
      "fraud\n",
      "[...] label error [...]\n"
     ]
    },
    {
     "data": {
      "text/html": [
       "<span class=\"tex2jax_ignore\"><div class=\"spans\" style=\"line-height: 2.5; direction: ltr\">2009 - foodscience corporation recalls kid 's multivitamin for \n",
       "<span style=\"font-weight: bold; display: inline-block; position: relative; height: 60px;\">\n",
       "    label\n",
       "    \n",
       "<span style=\"background: #ddd; top: 40px; height: 4px; left: -1px; width: calc(100% + 2px); position: absolute;\">\n",
       "</span>\n",
       "\n",
       "    \n",
       "<span style=\"background: #ddd; top: 40px; height: 4px; border-top-left-radius: 3px; border-bottom-left-radius: 3px; left: -1px; width: calc(100% + 2px); position: absolute;\">\n",
       "    <span style=\"background: #ddd; z-index: 10; color: #000; top: -0.5em; padding: 2px 3px; position: absolute; font-size: 0.6em; font-weight: bold; line-height: 1; border-radius: 3px\">\n",
       "        HAZ\n",
       "    </span>\n",
       "</span>\n",
       "\n",
       "\n",
       "</span>\n",
       "\n",
       "<span style=\"font-weight: bold; display: inline-block; position: relative; height: 60px;\">\n",
       "    error\n",
       "    \n",
       "<span style=\"background: #ddd; top: 40px; height: 4px; left: -1px; width: calc(100% + 2px); position: absolute;\">\n",
       "</span>\n",
       "\n",
       "    \n",
       "</span>\n",
       "</div></span>"
      ],
      "text/plain": [
       "<IPython.core.display.HTML object>"
      ]
     },
     "metadata": {},
     "output_type": "display_data"
    }
   ],
   "source": [
    "i = np.random.choice(incidents.index)\n",
    "txt = nlp(incidents['title'].values[i])\n",
    "txt.spans[\"sc\"] = []\n",
    "\n",
    "print(incidents[LABEL].values[i])\n",
    "spans = [txt.char_span(l.start,l.stop, LABEL[:3].upper()) for l in incidents[COLUMN].values[i]]\n",
    "for span in [incidents['title'].values[i][l] for l in incidents[COLUMN].values[i]]:\n",
    "    print('[...]', span, '[...]')\n",
    "\n",
    "#txt.set_ents(txt.ents + tuple([span for span in spans if span is not None]))\n",
    "txt.spans[\"sc\"] = tuple(txt.spans[\"sc\"]) + tuple([span for span in spans if span is not None])\n",
    "\n",
    "#displacy.render(txt, style='ent')\n",
    "displacy.render(txt, style='span')"
   ]
  },
  {
   "cell_type": "markdown",
   "metadata": {},
   "source": [
    "# Save dataframe:"
   ]
  },
  {
   "cell_type": "code",
   "execution_count": 46,
   "metadata": {},
   "outputs": [
    {
     "data": {
      "text/html": [
       "<div>\n",
       "<style scoped>\n",
       "    .dataframe tbody tr th:only-of-type {\n",
       "        vertical-align: middle;\n",
       "    }\n",
       "\n",
       "    .dataframe tbody tr th {\n",
       "        vertical-align: top;\n",
       "    }\n",
       "\n",
       "    .dataframe thead th {\n",
       "        text-align: right;\n",
       "    }\n",
       "</style>\n",
       "<table border=\"1\" class=\"dataframe\">\n",
       "  <thead>\n",
       "    <tr style=\"text-align: right;\">\n",
       "      <th></th>\n",
       "      <th>year</th>\n",
       "      <th>month</th>\n",
       "      <th>day</th>\n",
       "      <th>url</th>\n",
       "      <th>title</th>\n",
       "      <th>text</th>\n",
       "      <th>product</th>\n",
       "      <th>product-raw</th>\n",
       "      <th>product-category</th>\n",
       "      <th>product-text</th>\n",
       "      <th>hazard</th>\n",
       "      <th>hazard-raw</th>\n",
       "      <th>hazard-category</th>\n",
       "      <th>hazard-text</th>\n",
       "      <th>supplier-title</th>\n",
       "      <th>supplier-text</th>\n",
       "      <th>language</th>\n",
       "      <th>country</th>\n",
       "      <th>product-title</th>\n",
       "      <th>hazard-title</th>\n",
       "    </tr>\n",
       "  </thead>\n",
       "  <tbody>\n",
       "    <tr>\n",
       "      <th>0</th>\n",
       "      <td>2015</td>\n",
       "      <td>5</td>\n",
       "      <td>26</td>\n",
       "      <td>https://www.fda.gov/Safety/Recalls/ArchiveReca...</td>\n",
       "      <td>2015 - House of Spices (India) Inc. Issues Ale...</td>\n",
       "      <td>April 23, 2015 – Flushing, NY – House of Spic...</td>\n",
       "      <td>dried apricots</td>\n",
       "      <td>dried apricots</td>\n",
       "      <td>fruits and vegetables</td>\n",
       "      <td>(108,119)|(442,453)|(748,759)</td>\n",
       "      <td>sulphur dioxide and sulphites</td>\n",
       "      <td>undeclared sulphite</td>\n",
       "      <td>allergens</td>\n",
       "      <td>(33,50)|(98,99)|(240,241)|(738,739)|(820,821)</td>\n",
       "      <td>(7,33)</td>\n",
       "      <td>(33,50)|(98,99)|(240,241)|(738,739)|(820,821)</td>\n",
       "      <td>en</td>\n",
       "      <td>us</td>\n",
       "      <td>NaN</td>\n",
       "      <td>(43,50)|(72,73)</td>\n",
       "    </tr>\n",
       "    <tr>\n",
       "      <th>1</th>\n",
       "      <td>2022</td>\n",
       "      <td>5</td>\n",
       "      <td>25</td>\n",
       "      <td>https://www.fda.gov/safety/recalls-market-with...</td>\n",
       "      <td>Supplier J.M. Smucker Co.’s Jif Recall Prompts...</td>\n",
       "      <td>(Miami, FL – May 24, 2022) - J.M. Smucker Co.’...</td>\n",
       "      <td>peanuts</td>\n",
       "      <td>peanuts</td>\n",
       "      <td>nuts, nut products and seeds</td>\n",
       "      <td>(229,241)|(470,482)|(494,512)|(544,556)|(602,6...</td>\n",
       "      <td>salmonella</td>\n",
       "      <td>salmonella</td>\n",
       "      <td>biological</td>\n",
       "      <td>(1,9)|(123,137)|(354,368)|(448,456)|(659,673)|...</td>\n",
       "      <td>(47,61)</td>\n",
       "      <td>(1,9)|(123,137)|(354,368)|(448,456)|(659,673)|...</td>\n",
       "      <td>en</td>\n",
       "      <td>us</td>\n",
       "      <td>(28,30)|(85,90)</td>\n",
       "      <td>(0,7)|(47,51)|(131,140)</td>\n",
       "    </tr>\n",
       "    <tr>\n",
       "      <th>2</th>\n",
       "      <td>2020</td>\n",
       "      <td>6</td>\n",
       "      <td>2</td>\n",
       "      <td>http://www.cfs.gov.hk/english/whatsnew/whatsne...</td>\n",
       "      <td>*(Updated on 2 June 2020) Not to consume a bat...</td>\n",
       "      <td>*(Updated on 2 June 2020) Not to consume a bat...</td>\n",
       "      <td>apple juice</td>\n",
       "      <td>apple juice</td>\n",
       "      <td>non-alcoholic beverages</td>\n",
       "      <td>(52,70)|(222,240)|(341,345)|(556,560)|(1049,10...</td>\n",
       "      <td>patulin</td>\n",
       "      <td>patulin</td>\n",
       "      <td>chemical</td>\n",
       "      <td>(354,365)|(581,592)|(1616,1620)</td>\n",
       "      <td></td>\n",
       "      <td>(354,365)|(581,592)|(1616,1620)</td>\n",
       "      <td>en</td>\n",
       "      <td>hk</td>\n",
       "      <td>(72,76)</td>\n",
       "      <td>(96,102)</td>\n",
       "    </tr>\n",
       "    <tr>\n",
       "      <th>3</th>\n",
       "      <td>2022</td>\n",
       "      <td>7</td>\n",
       "      <td>5</td>\n",
       "      <td>http://www.cfs.gov.hk/english/whatsnew/whatsne...</td>\n",
       "      <td>*(Updated on 5 July 2022) Not to consume smoke...</td>\n",
       "      <td>*(Updated on 5 July 2022) Not to consume smoke...</td>\n",
       "      <td>salmon</td>\n",
       "      <td>chilled smoked salmon</td>\n",
       "      <td>seafood</td>\n",
       "      <td>(41,53)|(256,276)|(321,326)|(338,343)|(612,624...</td>\n",
       "      <td>listeria monocytogenes</td>\n",
       "      <td>listeria monocytogenes</td>\n",
       "      <td>biological</td>\n",
       "      <td>(177,184)|(203,206)|(231,234)|(484,507)|(684,6...</td>\n",
       "      <td></td>\n",
       "      <td>(177,184)|(203,206)|(231,234)|(484,507)|(684,6...</td>\n",
       "      <td>en</td>\n",
       "      <td>hk</td>\n",
       "      <td>(48,67)</td>\n",
       "      <td>(48,62)|(101,108)</td>\n",
       "    </tr>\n",
       "    <tr>\n",
       "      <th>4</th>\n",
       "      <td>2021</td>\n",
       "      <td>3</td>\n",
       "      <td>20</td>\n",
       "      <td>http://www.fsis.usda.gov/recalls-alerts/avanza...</td>\n",
       "      <td>Avanza Pasta, LLC Recalls Beef and Poultry Pro...</td>\n",
       "      <td>0009-2021\\n\\n  \\n  High\\n\\n    Produced Withou...</td>\n",
       "      <td>pasta products</td>\n",
       "      <td>pasta products</td>\n",
       "      <td>other food product / mixed</td>\n",
       "      <td>(271,275)|(307,314)|(483,490)|(527,534)|(624,6...</td>\n",
       "      <td>inspection issues</td>\n",
       "      <td>inspection issues</td>\n",
       "      <td>fraud</td>\n",
       "      <td>(264,280)|(617,633)|(730,734)|(2218,2238)|(325...</td>\n",
       "      <td>(0,16)</td>\n",
       "      <td>(264,280)|(617,633)|(730,734)|(2218,2238)|(325...</td>\n",
       "      <td>en</td>\n",
       "      <td>us</td>\n",
       "      <td>(70,76)</td>\n",
       "      <td>(14,16)|(26,29)|(43,50)|(62,68)</td>\n",
       "    </tr>\n",
       "    <tr>\n",
       "      <th>...</th>\n",
       "      <td>...</td>\n",
       "      <td>...</td>\n",
       "      <td>...</td>\n",
       "      <td>...</td>\n",
       "      <td>...</td>\n",
       "      <td>...</td>\n",
       "      <td>...</td>\n",
       "      <td>...</td>\n",
       "      <td>...</td>\n",
       "      <td>...</td>\n",
       "      <td>...</td>\n",
       "      <td>...</td>\n",
       "      <td>...</td>\n",
       "      <td>...</td>\n",
       "      <td>...</td>\n",
       "      <td>...</td>\n",
       "      <td>...</td>\n",
       "      <td>...</td>\n",
       "      <td>...</td>\n",
       "      <td>...</td>\n",
       "    </tr>\n",
       "    <tr>\n",
       "      <th>7588</th>\n",
       "      <td>2015</td>\n",
       "      <td>10</td>\n",
       "      <td>30</td>\n",
       "      <td>http://www.foodstandards.gov.au/industry/foodr...</td>\n",
       "      <td>Mikko Ready Mix Coconut Milk Powder 150g</td>\n",
       "      <td>​Xiao Trading Pty Ltd has recalled Mikko Ready...</td>\n",
       "      <td>coconuts</td>\n",
       "      <td>coconut milk powder</td>\n",
       "      <td>fruits and vegetables</td>\n",
       "      <td>(63,69)|(449,455)|(485,491)</td>\n",
       "      <td>milk and products thereof</td>\n",
       "      <td>milk and products thereof</td>\n",
       "      <td>allergens</td>\n",
       "      <td>(0,20)|(885,904)</td>\n",
       "      <td></td>\n",
       "      <td>(0,20)|(885,904)</td>\n",
       "      <td>en</td>\n",
       "      <td>au</td>\n",
       "      <td>NaN</td>\n",
       "      <td>(12,34)</td>\n",
       "    </tr>\n",
       "    <tr>\n",
       "      <th>7589</th>\n",
       "      <td>2016</td>\n",
       "      <td>11</td>\n",
       "      <td>23</td>\n",
       "      <td>https://www.fda.gov/Safety/Recalls/ucm530611.htm</td>\n",
       "      <td>Recall Announcement: Sabra Dipping Company’s R...</td>\n",
       "      <td>“Fresh to Go Mediterranean Chicken Hummus” san...</td>\n",
       "      <td>sandwich spread</td>\n",
       "      <td>sandwich spread</td>\n",
       "      <td>soups, broths, sauces and condiments</td>\n",
       "      <td>(351,358)|(969,976)|(1301,1308)|(1601,1608)|(1...</td>\n",
       "      <td>listeria monocytogenes</td>\n",
       "      <td>listeria monocytogenes</td>\n",
       "      <td>biological</td>\n",
       "      <td>(212,225)|(499,507)|(979,987)|(1372,1380)|(170...</td>\n",
       "      <td></td>\n",
       "      <td>(212,225)|(499,507)|(979,987)|(1372,1380)|(170...</td>\n",
       "      <td>en</td>\n",
       "      <td>us</td>\n",
       "      <td>(21,25)</td>\n",
       "      <td>(21,25)</td>\n",
       "    </tr>\n",
       "    <tr>\n",
       "      <th>7590</th>\n",
       "      <td>2022</td>\n",
       "      <td>3</td>\n",
       "      <td>23</td>\n",
       "      <td>https://www.fda.gov/safety/recalls-market-with...</td>\n",
       "      <td>Consumer Alert: Undeclared Sulfites in \"Licori...</td>\n",
       "      <td>“When a Government Agency Partner announces a ...</td>\n",
       "      <td>olives</td>\n",
       "      <td>olives</td>\n",
       "      <td>fruits and vegetables</td>\n",
       "      <td>(445,450)|(754,759)|(1499,1504)</td>\n",
       "      <td>sulphates/sulphites</td>\n",
       "      <td>sulphates/sulphites</td>\n",
       "      <td>fraud</td>\n",
       "      <td>(6,6)|(44,54)|(159,162)|(285,285)|(322,346)|(9...</td>\n",
       "      <td></td>\n",
       "      <td>(6,6)|(44,54)|(159,162)|(285,285)|(322,346)|(9...</td>\n",
       "      <td>en</td>\n",
       "      <td>us</td>\n",
       "      <td>NaN</td>\n",
       "      <td></td>\n",
       "    </tr>\n",
       "    <tr>\n",
       "      <th>7591</th>\n",
       "      <td>2022</td>\n",
       "      <td>3</td>\n",
       "      <td>24</td>\n",
       "      <td>https://www.fda.gov/safety/recalls-market-with...</td>\n",
       "      <td>Consumer Alert: Undeclared Sulfites in Dried \"...</td>\n",
       "      <td>“When a Government Agency Partner announces a ...</td>\n",
       "      <td>dried plums</td>\n",
       "      <td>dried plums</td>\n",
       "      <td>fruits and vegetables</td>\n",
       "      <td>(434,438)|(754,758)|(1448,1452)</td>\n",
       "      <td>sulphates/sulphites</td>\n",
       "      <td>sulphates/sulphites</td>\n",
       "      <td>fraud</td>\n",
       "      <td>(6,6)|(44,54)|(159,162)|(285,285)|(322,346)|(1...</td>\n",
       "      <td></td>\n",
       "      <td>(6,6)|(44,54)|(159,162)|(285,285)|(322,346)|(1...</td>\n",
       "      <td>en</td>\n",
       "      <td>us</td>\n",
       "      <td>(51,55)</td>\n",
       "      <td></td>\n",
       "    </tr>\n",
       "    <tr>\n",
       "      <th>7592</th>\n",
       "      <td>2022</td>\n",
       "      <td>5</td>\n",
       "      <td>3</td>\n",
       "      <td>https://www.fda.gov/safety/recalls-market-with...</td>\n",
       "      <td>Queen Bee LLC Voluntary Recall</td>\n",
       "      <td>“When a Government Agency Partner announces a ...</td>\n",
       "      <td>candies</td>\n",
       "      <td>chocolate candies</td>\n",
       "      <td>confectionery</td>\n",
       "      <td>(434,443)</td>\n",
       "      <td>nuts</td>\n",
       "      <td>nuts</td>\n",
       "      <td>allergens</td>\n",
       "      <td>(256,268)|(556,572)|(1445,1461)|(1696,1704)</td>\n",
       "      <td>(0,12)</td>\n",
       "      <td>(256,268)|(556,572)|(1445,1461)|(1696,1704)</td>\n",
       "      <td>en</td>\n",
       "      <td>us</td>\n",
       "      <td>(0,12)</td>\n",
       "      <td>(0,8)</td>\n",
       "    </tr>\n",
       "  </tbody>\n",
       "</table>\n",
       "<p>7546 rows × 20 columns</p>\n",
       "</div>"
      ],
      "text/plain": [
       "      year  month  day                                                url  \\\n",
       "0     2015      5   26  https://www.fda.gov/Safety/Recalls/ArchiveReca...   \n",
       "1     2022      5   25  https://www.fda.gov/safety/recalls-market-with...   \n",
       "2     2020      6    2  http://www.cfs.gov.hk/english/whatsnew/whatsne...   \n",
       "3     2022      7    5  http://www.cfs.gov.hk/english/whatsnew/whatsne...   \n",
       "4     2021      3   20  http://www.fsis.usda.gov/recalls-alerts/avanza...   \n",
       "...    ...    ...  ...                                                ...   \n",
       "7588  2015     10   30  http://www.foodstandards.gov.au/industry/foodr...   \n",
       "7589  2016     11   23   https://www.fda.gov/Safety/Recalls/ucm530611.htm   \n",
       "7590  2022      3   23  https://www.fda.gov/safety/recalls-market-with...   \n",
       "7591  2022      3   24  https://www.fda.gov/safety/recalls-market-with...   \n",
       "7592  2022      5    3  https://www.fda.gov/safety/recalls-market-with...   \n",
       "\n",
       "                                                  title  \\\n",
       "0     2015 - House of Spices (India) Inc. Issues Ale...   \n",
       "1     Supplier J.M. Smucker Co.’s Jif Recall Prompts...   \n",
       "2     *(Updated on 2 June 2020) Not to consume a bat...   \n",
       "3     *(Updated on 5 July 2022) Not to consume smoke...   \n",
       "4     Avanza Pasta, LLC Recalls Beef and Poultry Pro...   \n",
       "...                                                 ...   \n",
       "7588           Mikko Ready Mix Coconut Milk Powder 150g   \n",
       "7589  Recall Announcement: Sabra Dipping Company’s R...   \n",
       "7590  Consumer Alert: Undeclared Sulfites in \"Licori...   \n",
       "7591  Consumer Alert: Undeclared Sulfites in Dried \"...   \n",
       "7592                     Queen Bee LLC Voluntary Recall   \n",
       "\n",
       "                                                   text          product  \\\n",
       "0      April 23, 2015 – Flushing, NY – House of Spic...   dried apricots   \n",
       "1     (Miami, FL – May 24, 2022) - J.M. Smucker Co.’...          peanuts   \n",
       "2     *(Updated on 2 June 2020) Not to consume a bat...      apple juice   \n",
       "3     *(Updated on 5 July 2022) Not to consume smoke...           salmon   \n",
       "4     0009-2021\\n\\n  \\n  High\\n\\n    Produced Withou...   pasta products   \n",
       "...                                                 ...              ...   \n",
       "7588  ​Xiao Trading Pty Ltd has recalled Mikko Ready...         coconuts   \n",
       "7589  “Fresh to Go Mediterranean Chicken Hummus” san...  sandwich spread   \n",
       "7590  “When a Government Agency Partner announces a ...           olives   \n",
       "7591  “When a Government Agency Partner announces a ...      dried plums   \n",
       "7592  “When a Government Agency Partner announces a ...          candies   \n",
       "\n",
       "                product-raw                      product-category  \\\n",
       "0            dried apricots                 fruits and vegetables   \n",
       "1                   peanuts          nuts, nut products and seeds   \n",
       "2               apple juice               non-alcoholic beverages   \n",
       "3     chilled smoked salmon                               seafood   \n",
       "4            pasta products            other food product / mixed   \n",
       "...                     ...                                   ...   \n",
       "7588    coconut milk powder                 fruits and vegetables   \n",
       "7589        sandwich spread  soups, broths, sauces and condiments   \n",
       "7590                 olives                 fruits and vegetables   \n",
       "7591            dried plums                 fruits and vegetables   \n",
       "7592      chocolate candies                         confectionery   \n",
       "\n",
       "                                           product-text  \\\n",
       "0                         (108,119)|(442,453)|(748,759)   \n",
       "1     (229,241)|(470,482)|(494,512)|(544,556)|(602,6...   \n",
       "2     (52,70)|(222,240)|(341,345)|(556,560)|(1049,10...   \n",
       "3     (41,53)|(256,276)|(321,326)|(338,343)|(612,624...   \n",
       "4     (271,275)|(307,314)|(483,490)|(527,534)|(624,6...   \n",
       "...                                                 ...   \n",
       "7588                        (63,69)|(449,455)|(485,491)   \n",
       "7589  (351,358)|(969,976)|(1301,1308)|(1601,1608)|(1...   \n",
       "7590                    (445,450)|(754,759)|(1499,1504)   \n",
       "7591                    (434,438)|(754,758)|(1448,1452)   \n",
       "7592                                          (434,443)   \n",
       "\n",
       "                             hazard                 hazard-raw  \\\n",
       "0     sulphur dioxide and sulphites        undeclared sulphite   \n",
       "1                        salmonella                 salmonella   \n",
       "2                           patulin                    patulin   \n",
       "3            listeria monocytogenes     listeria monocytogenes   \n",
       "4                 inspection issues          inspection issues   \n",
       "...                             ...                        ...   \n",
       "7588      milk and products thereof  milk and products thereof   \n",
       "7589         listeria monocytogenes     listeria monocytogenes   \n",
       "7590            sulphates/sulphites        sulphates/sulphites   \n",
       "7591            sulphates/sulphites        sulphates/sulphites   \n",
       "7592                           nuts                       nuts   \n",
       "\n",
       "     hazard-category                                        hazard-text  \\\n",
       "0          allergens      (33,50)|(98,99)|(240,241)|(738,739)|(820,821)   \n",
       "1         biological  (1,9)|(123,137)|(354,368)|(448,456)|(659,673)|...   \n",
       "2           chemical                    (354,365)|(581,592)|(1616,1620)   \n",
       "3         biological  (177,184)|(203,206)|(231,234)|(484,507)|(684,6...   \n",
       "4              fraud  (264,280)|(617,633)|(730,734)|(2218,2238)|(325...   \n",
       "...              ...                                                ...   \n",
       "7588       allergens                                   (0,20)|(885,904)   \n",
       "7589      biological  (212,225)|(499,507)|(979,987)|(1372,1380)|(170...   \n",
       "7590           fraud  (6,6)|(44,54)|(159,162)|(285,285)|(322,346)|(9...   \n",
       "7591           fraud  (6,6)|(44,54)|(159,162)|(285,285)|(322,346)|(1...   \n",
       "7592       allergens        (256,268)|(556,572)|(1445,1461)|(1696,1704)   \n",
       "\n",
       "     supplier-title                                      supplier-text  \\\n",
       "0            (7,33)      (33,50)|(98,99)|(240,241)|(738,739)|(820,821)   \n",
       "1           (47,61)  (1,9)|(123,137)|(354,368)|(448,456)|(659,673)|...   \n",
       "2                                      (354,365)|(581,592)|(1616,1620)   \n",
       "3                    (177,184)|(203,206)|(231,234)|(484,507)|(684,6...   \n",
       "4            (0,16)  (264,280)|(617,633)|(730,734)|(2218,2238)|(325...   \n",
       "...             ...                                                ...   \n",
       "7588                                                  (0,20)|(885,904)   \n",
       "7589                 (212,225)|(499,507)|(979,987)|(1372,1380)|(170...   \n",
       "7590                 (6,6)|(44,54)|(159,162)|(285,285)|(322,346)|(9...   \n",
       "7591                 (6,6)|(44,54)|(159,162)|(285,285)|(322,346)|(1...   \n",
       "7592         (0,12)        (256,268)|(556,572)|(1445,1461)|(1696,1704)   \n",
       "\n",
       "     language country    product-title                     hazard-title  \n",
       "0          en      us              NaN                  (43,50)|(72,73)  \n",
       "1          en      us  (28,30)|(85,90)          (0,7)|(47,51)|(131,140)  \n",
       "2          en      hk          (72,76)                         (96,102)  \n",
       "3          en      hk          (48,67)                (48,62)|(101,108)  \n",
       "4          en      us          (70,76)  (14,16)|(26,29)|(43,50)|(62,68)  \n",
       "...       ...     ...              ...                              ...  \n",
       "7588       en      au              NaN                          (12,34)  \n",
       "7589       en      us          (21,25)                          (21,25)  \n",
       "7590       en      us              NaN                                   \n",
       "7591       en      us          (51,55)                                   \n",
       "7592       en      us           (0,12)                            (0,8)  \n",
       "\n",
       "[7546 rows x 20 columns]"
      ]
     },
     "execution_count": 46,
     "metadata": {},
     "output_type": "execute_result"
    }
   ],
   "source": [
    "# concat products:\n",
    "incidents['product-text']     = [str(p) for p in incidents['product-text']]\n",
    "\n",
    "# concat hazards:\n",
    "incidents['hazard-text']      = [str(h) for h in incidents['hazard-text']]\n",
    "\n",
    "# concat suppliers:\n",
    "incidents['supplier-title']   = [str(s) for s in incidents['supplier-title']]\n",
    "incidents['supplier-text']    = [str(s) for s in incidents['supplier-text']]\n",
    "\n",
    "incidents[COLUMN]             = [str(s) for s in incidents[COLUMN]]\n",
    "\n",
    "incidents"
   ]
  },
  {
   "cell_type": "code",
   "execution_count": 47,
   "metadata": {},
   "outputs": [],
   "source": [
    "incidents.to_csv(f'{DATA}/{DATA}.csv')"
   ]
  }
 ],
 "metadata": {
  "kernelspec": {
   "display_name": "Python 3 (ipykernel)",
   "language": "python",
   "name": "python3"
  },
  "language_info": {
   "codemirror_mode": {
    "name": "ipython",
    "version": 3
   },
   "file_extension": ".py",
   "mimetype": "text/x-python",
   "name": "python",
   "nbconvert_exporter": "python",
   "pygments_lexer": "ipython3",
   "version": "3.10.12"
  }
 },
 "nbformat": 4,
 "nbformat_minor": 4
}
