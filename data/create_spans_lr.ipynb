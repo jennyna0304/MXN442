{
 "cells": [
  {
   "cell_type": "code",
   "execution_count": 1,
   "metadata": {},
   "outputs": [
    {
     "name": "stderr",
     "output_type": "stream",
     "text": [
      "c:\\Users\\Korbi\\Documents\\Uni\\PhD\\23-03_BaseLines\\code\\resources\\spans.py:3: TqdmExperimentalWarning: Using `tqdm.autonotebook.tqdm` in notebook mode. Use `tqdm.tqdm` instead to force console mode (e.g. in jupyter console)\n",
      "  from tqdm.autonotebook import tqdm, trange\n"
     ]
    }
   ],
   "source": [
    "import _base_path\n",
    "import numpy as np\n",
    "import pandas as pd\n",
    "import spacy\n",
    "from spacy import displacy\n",
    "from resources.spans import SpanCollection, SpanExtractor\n",
    "from resources.models import DummyModel\n",
    "from resources.data_io import load_mappings\n",
    "from resources.tokenization import WordTokenizer\n",
    "from TrainerClassic import TrainerClassic\n",
    "\n",
    "import matplotlib.pyplot as plt"
   ]
  },
  {
   "cell_type": "code",
   "execution_count": 2,
   "metadata": {},
   "outputs": [],
   "source": [
    "LABEL  = 'hazard-category'\n",
    "COLUMN = f'{LABEL.split(\"-\")[0]}-title'"
   ]
  },
  {
   "cell_type": "markdown",
   "metadata": {},
   "source": [
    "# Load data:"
   ]
  },
  {
   "cell_type": "code",
   "execution_count": 3,
   "metadata": {},
   "outputs": [
    {
     "name": "stdout",
     "output_type": "stream",
     "text": [
      "  year:                   29\n",
      "  month:                  12\n",
      "  day:                    31\n",
      "  url:                  7546\n",
      "  title:                7389\n",
      "  text:                 7619\n",
      "  product:              1931\n",
      "  product_category:       60\n",
      "  product_text:         7619\n",
      "  hazard:                409\n",
      "  hazard_category:        12\n",
      "  hazard_text:          7619\n",
      "  supplier_title:       7619\n",
      "  supplier_text:        7619\n",
      "  language:                6\n",
      "  country:                15\n",
      "  product_title:        3337\n"
     ]
    }
   ],
   "source": [
    "# load data:\n",
    "incidents = pd.read_csv(\"incidents/incidents_final.csv\", index_col=0).drop(columns=[COLUMN])\n",
    "\n",
    "# parse products:\n",
    "incidents['product'].fillna('', inplace=True)\n",
    "incidents['product-category'].fillna('', inplace=True)\n",
    "incidents['product-text']     = [SpanCollection.parse(p) for p in incidents['product-text'].fillna('')]\n",
    "\n",
    "# parse hazards:\n",
    "incidents['hazard'].fillna('', inplace=True)\n",
    "incidents['hazard-category'].fillna('', inplace=True)\n",
    "incidents['hazard-text']      = [SpanCollection.parse(h) for h in incidents['hazard-text'].fillna('')]\n",
    "\n",
    "# parse suppliers:\n",
    "incidents['supplier-title']   = [SpanCollection.parse(s) for s in incidents['supplier-title'].fillna('')]\n",
    "incidents['supplier-text']    = [SpanCollection.parse(s) for s in incidents['supplier-text'].fillna('')]\n",
    "\n",
    "# fill nan-values:\n",
    "incidents['country'].fillna('na', inplace=True)\n",
    "\n",
    "def print_column(column:str, n:int=10):\n",
    "    try:               values = np.unique(np.concatenate(incidents[column].values))\n",
    "    except ValueError: values = np.unique(incidents[column].values)\n",
    "    counts = np.array([sum([v in label for label in incidents[column].values]) for v in values])\n",
    "\n",
    "    idx = np.argsort(counts)[::-1]\n",
    "    values = values[idx]\n",
    "    counts = counts[idx]\n",
    "    \n",
    "    print(f'Column \"{column}\" (n = {len(values):d}):\\n')\n",
    "    for v, n in zip(values[:n], counts[:n]):\n",
    "        print(f'  {v}:{\" \"*(50-len(v))}{sum([v in label for label in incidents[column].values]):5d}')\n",
    "\n",
    "# print unique counts:\n",
    "for c in incidents.columns:\n",
    "    print(f'  {c}:{\" \"*(20-len(c))}{len(incidents[c].drop_duplicates()):5d}')"
   ]
  },
  {
   "cell_type": "markdown",
   "metadata": {},
   "source": [
    "# Analysis:\n",
    "## Extract Coefficients:"
   ]
  },
  {
   "cell_type": "code",
   "execution_count": 4,
   "metadata": {},
   "outputs": [],
   "source": [
    "models, vocab = [], []\n",
    "for i in range(5):\n",
    "    t = TrainerClassic.load(f'../models/bow-lr/bow-lr-{LABEL}-{i:d}/')\n",
    "    models.append(t._model)\n",
    "    vocab.append(t.embedding.tokenizer._vocab)\n",
    "\n",
    "# Row and column labels:\n",
    "classes = load_mappings(\"incidents/splits/\", LABEL)\n",
    "tokens  = list(set(np.concatenate(vocab)))\n",
    "tokens.sort()\n",
    "\n",
    "# importance:\n",
    "coefficients = np.zeros((len(classes), len(tokens)), dtype=float)\n",
    "for m, v in zip(models, vocab):\n",
    "    # create index-mapping: \n",
    "    idx = [tokens.index(t) for t in v]\n",
    "\n",
    "    for i, c in enumerate(m):\n",
    "        if not isinstance(c, DummyModel):\n",
    "            coefficients[i,idx] += c.coef_[0]\n",
    "\n",
    "# average over 5 splits:\n",
    "coefficients /= 5."
   ]
  },
  {
   "cell_type": "markdown",
   "metadata": {},
   "source": [
    "## Filter out all zero columns: "
   ]
  },
  {
   "cell_type": "code",
   "execution_count": 5,
   "metadata": {},
   "outputs": [],
   "source": [
    "idx = np.unique(np.nonzero(coefficients)[1])\n",
    "\n",
    "coefficients_filtered = coefficients[:,idx]\n",
    "tokens_filtered = [tokens[i] for i in idx]"
   ]
  },
  {
   "cell_type": "code",
   "execution_count": 6,
   "metadata": {},
   "outputs": [
    {
     "name": "stdout",
     "output_type": "stream",
     "text": [
      "69\n"
     ]
    }
   ],
   "source": [
    "# filter out numbers and special tokens:\n",
    "i = list(tokens_filtered).index('a')\n",
    "print(i)\n",
    "\n",
    "tokens_filtered = tokens_filtered[i:]\n",
    "coefficients_filtered = coefficients_filtered[:,i:]"
   ]
  },
  {
   "cell_type": "code",
   "execution_count": 7,
   "metadata": {},
   "outputs": [
    {
     "data": {
      "image/png": "[encoded data removed]",
      "text/plain": [
       "<Figure size 640x480 with 1 Axes>"
      ]
     },
     "metadata": {},
     "output_type": "display_data"
    }
   ],
   "source": [
    "plt.imshow(coefficients_filtered[:50,:50])\n",
    "plt.yticks(ticks=np.arange(min(len(classes), 50)), labels=classes[:50])\n",
    "plt.xticks(ticks=np.arange(min(len(tokens_filtered), 50)), labels=tokens_filtered[:50], rotation=90)\n",
    "plt.show()"
   ]
  },
  {
   "cell_type": "markdown",
   "metadata": {},
   "source": [
    "## Calculate most important tokens:"
   ]
  },
  {
   "cell_type": "code",
   "execution_count": 8,
   "metadata": {},
   "outputs": [],
   "source": [
    "most_important_tokens = {}\n",
    "\n",
    "for i, c in enumerate(classes):\n",
    "    idx = np.argsort(coefficients_filtered[i])[::-1]\n",
    "    \n",
    "    most_important_tokens[c] = {\n",
    "        tokens_filtered[j]:coefficients_filtered[i,j]\n",
    "        for j in idx\n",
    "        if coefficients_filtered[i, j] > 0.\n",
    "    }"
   ]
  },
  {
   "cell_type": "code",
   "execution_count": 9,
   "metadata": {},
   "outputs": [
    {
     "name": "stdout",
     "output_type": "stream",
     "text": [
      "ALLERGENS: undeclar, thereof, withdrawn, allergen, allergi, mustard, sultana, coconut, rice, raisin, ...\n",
      "BIOLOGICAL: salmonella, listeria, bacteria, mould, noroviru, coli, risk, e., ham, pistachio, ...\n",
      "CHEMICAL: ethylen, level, sanit, cyanid, lead, oxid, oil, pressling, tuna, histamin, ...\n",
      "FOOD ADDITIVES AND FLAVOURINGS: jelli, high, cup, withdraw, of, level, ltd, in, mini, cake, ...\n",
      "FOOD CONTACT MATERIALS: , ...\n",
      "FOREIGN BODIES: foreign, metal, piec, insect, extran, fragment, glass, plastic, gerieben, minc, ...\n",
      "FRAUD: inspect, without, english, unapprov, mislabel, misbrand, prepackag, report, inelig, label, ...\n",
      "MIGRATION: schafskäs, fortun, silikon-muffinbackform, migrat, nylon, holzschal, kokosnusscrem, holzgriff, aroy-d, kochbesteck, ...\n",
      "ORGANOLEPTIC ASPECTS: spoilag, rancid, uht, off, adulter, quality/spoilag, odour, bratmax, still, drink, ...\n",
      "OTHER HAZARD: undercook, process, haccp, jelli, choke, stockman, deviat, firm, yoghurt, specifi, ...\n",
      "PACKAGING DEFECT: apfelschorl, sparkl, defect, seal, bottl, fault, burst, can, wine, illi, ...\n"
     ]
    }
   ],
   "source": [
    "for c in most_important_tokens:\n",
    "    print(f'{c.upper()}: {\", \".join(list(most_important_tokens[c].keys())[:10])}, ...')"
   ]
  },
  {
   "cell_type": "markdown",
   "metadata": {},
   "source": [
    "## Calculate overlap:"
   ]
  },
  {
   "cell_type": "code",
   "execution_count": 10,
   "metadata": {},
   "outputs": [
    {
     "name": "stdout",
     "output_type": "stream",
     "text": [
      "Overlap: 1.28\n"
     ]
    }
   ],
   "source": [
    "mit_all = np.concatenate([list(e.keys()) for e in most_important_tokens.values()])\n",
    "mit_unique = np.unique(mit_all)\n",
    "\n",
    "print(f'Overlap: {len(mit_all)/len(mit_unique):.2f}')"
   ]
  },
  {
   "cell_type": "code",
   "execution_count": 11,
   "metadata": {},
   "outputs": [],
   "source": [
    "counts = {}\n",
    "for mit in mit_unique:\n",
    "    tmp = [key \n",
    "        for key in most_important_tokens\n",
    "        if mit in most_important_tokens[key].keys()\n",
    "    ]\n",
    "\n",
    "    if len(tmp) > 1: counts[mit] = tmp"
   ]
  },
  {
   "cell_type": "code",
   "execution_count": 12,
   "metadata": {},
   "outputs": [
    {
     "data": {
      "text/plain": [
       "219"
      ]
     },
     "execution_count": 12,
     "metadata": {},
     "output_type": "execute_result"
    }
   ],
   "source": [
    "len(counts)"
   ]
  },
  {
   "cell_type": "markdown",
   "metadata": {},
   "source": [
    "# Extract spans"
   ]
  },
  {
   "cell_type": "code",
   "execution_count": 13,
   "metadata": {},
   "outputs": [],
   "source": [
    "tokenizer = WordTokenizer()\n",
    "tokenizer._vocab.extend(tokens)\n",
    "tokenizer.train = False"
   ]
  },
  {
   "cell_type": "code",
   "execution_count": 14,
   "metadata": {},
   "outputs": [
    {
     "name": "stdout",
     "output_type": "stream",
     "text": [
      "Prefixes: {'unauthorised': 0.6685544217687075, 'too': 0.6005257936507937, 'high': 0.8183292282430215, 'content': 0.610898001175779}\n",
      "Suffixes: {'product': 0.5326190476190475, 'thereof': 0.5310119047619047}\n"
     ]
    }
   ],
   "source": [
    "extractor = SpanExtractor(\n",
    "    set([', '.join(ls) for ls in incidents[LABEL.split('_')[0]]]),\n",
    "    p_prefix=.6,\n",
    "    p_suffix=.5,\n",
    "    t_stopword=20\n",
    ")\n",
    "print('Prefixes:', extractor.prefixes)\n",
    "print('Suffixes:', extractor.suffixes)\n"
   ]
  },
  {
   "cell_type": "code",
   "execution_count": 15,
   "metadata": {},
   "outputs": [
    {
     "name": "stdout",
     "output_type": "stream",
     "text": [
      "Percent of Texts with evidence for class: 85.14%\n"
     ]
    }
   ],
   "source": [
    "data = []\n",
    "\n",
    "for txt, lbls in incidents[['title', LABEL]].values:\n",
    "    tok_out = tokenizer(txt, return_offsets_mapping=True)\n",
    "    tkns = np.array([tokenizer._vocab[i] for i in tok_out['input_ids']])\n",
    "    spns = tok_out['offset_mapping']\n",
    "\n",
    "    importance = np.zeros(tkns.shape, dtype=float)\n",
    "    for c in classes:\n",
    "        for i, t in enumerate(tkns):\n",
    "            if c in lbls:\n",
    "                try: importance[i] += most_important_tokens[c][t]\n",
    "                except KeyError: pass\n",
    "\n",
    "            else:\n",
    "                try: importance[i] -= most_important_tokens[c][t]\n",
    "                except KeyError: pass\n",
    "\n",
    "    spns = extractor.find([[t] for t in tkns[importance > 0]], txt)\n",
    "    data.append((lbls, tkns[importance > 0], spns, importance[importance > 0]))\n",
    "\n",
    "print(f'Percent of Texts with evidence for class: {np.mean([len(s) > 0 for _,_,s,_ in data])*100:.2f}%')"
   ]
  },
  {
   "cell_type": "markdown",
   "metadata": {},
   "source": [
    "# Spans:"
   ]
  },
  {
   "cell_type": "code",
   "execution_count": 16,
   "metadata": {},
   "outputs": [],
   "source": [
    "incidents[COLUMN] = [s for _,_,s,_ in data]"
   ]
  },
  {
   "cell_type": "code",
   "execution_count": 17,
   "metadata": {},
   "outputs": [],
   "source": [
    "nlp = spacy.load(\"en_core_web_sm\")"
   ]
  },
  {
   "cell_type": "code",
   "execution_count": 18,
   "metadata": {},
   "outputs": [
    {
     "name": "stdout",
     "output_type": "stream",
     "text": [
      "['packaging defect']\n",
      "[...] Beer [...]\n",
      "[...] cans [...]\n"
     ]
    },
    {
     "data": {
      "text/html": [
       "<span class=\"tex2jax_ignore\"><div class=\"spans\" style=\"line-height: 2.5; direction: ltr\">Pinwheel brand Pineapple Gose \n",
       "<span style=\"font-weight: bold; display: inline-block; position: relative; height: 60px;\">\n",
       "    Beer\n",
       "    \n",
       "<span style=\"background: #ddd; top: 40px; height: 4px; left: -1px; width: calc(100% + 2px); position: absolute;\">\n",
       "</span>\n",
       "\n",
       "    \n",
       "<span style=\"background: #ddd; top: 40px; height: 4px; border-top-left-radius: 3px; border-bottom-left-radius: 3px; left: -1px; width: calc(100% + 2px); position: absolute;\">\n",
       "    <span style=\"background: #ddd; z-index: 10; color: #000; top: -0.5em; padding: 2px 3px; position: absolute; font-size: 0.6em; font-weight: bold; line-height: 1; border-radius: 3px\">\n",
       "        HAZ\n",
       "    </span>\n",
       "</span>\n",
       "\n",
       "\n",
       "</span>\n",
       "and Wellington Brewery brand Mix Pack - Vol . 10 recalled due to potential bursting \n",
       "<span style=\"font-weight: bold; display: inline-block; position: relative; height: 60px;\">\n",
       "    cans\n",
       "    \n",
       "<span style=\"background: #ddd; top: 40px; height: 4px; left: -1px; width: calc(100% + 2px); position: absolute;\">\n",
       "</span>\n",
       "\n",
       "    \n",
       "<span style=\"background: #ddd; top: 40px; height: 4px; border-top-left-radius: 3px; border-bottom-left-radius: 3px; left: -1px; width: calc(100% + 2px); position: absolute;\">\n",
       "    <span style=\"background: #ddd; z-index: 10; color: #000; top: -0.5em; padding: 2px 3px; position: absolute; font-size: 0.6em; font-weight: bold; line-height: 1; border-radius: 3px\">\n",
       "        HAZ\n",
       "    </span>\n",
       "</span>\n",
       "\n",
       "\n",
       "</span>\n",
       "</div></span>"
      ],
      "text/plain": [
       "<IPython.core.display.HTML object>"
      ]
     },
     "metadata": {},
     "output_type": "display_data"
    }
   ],
   "source": [
    "i = np.random.choice(incidents.index)\n",
    "txt = nlp(incidents['title'].values[i])\n",
    "txt.spans[\"sc\"] = []\n",
    "\n",
    "print(incidents[LABEL].values[i])\n",
    "spans = [txt.char_span(l.start,l.stop, LABEL[:3].upper()) for l in incidents[COLUMN].values[i]]\n",
    "for span in [incidents['title'].values[i][l] for l in incidents[COLUMN].values[i]]:\n",
    "    print('[...]', span, '[...]')\n",
    "\n",
    "#txt.set_ents(txt.ents + tuple([span for span in spans if span is not None]))\n",
    "txt.spans[\"sc\"] = tuple(txt.spans[\"sc\"]) + tuple([span for span in spans if span is not None])\n",
    "\n",
    "#displacy.render(txt, style='ent')\n",
    "displacy.render(txt, style='span')"
   ]
  },
  {
   "cell_type": "markdown",
   "metadata": {},
   "source": [
    "# Save dataframe:"
   ]
  },
  {
   "cell_type": "code",
   "execution_count": 19,
   "metadata": {},
   "outputs": [
    {
     "data": {
      "text/html": [
       "<div>\n",
       "<style scoped>\n",
       "    .dataframe tbody tr th:only-of-type {\n",
       "        vertical-align: middle;\n",
       "    }\n",
       "\n",
       "    .dataframe tbody tr th {\n",
       "        vertical-align: top;\n",
       "    }\n",
       "\n",
       "    .dataframe thead th {\n",
       "        text-align: right;\n",
       "    }\n",
       "</style>\n",
       "<table border=\"1\" class=\"dataframe\">\n",
       "  <thead>\n",
       "    <tr style=\"text-align: right;\">\n",
       "      <th></th>\n",
       "      <th>year</th>\n",
       "      <th>month</th>\n",
       "      <th>day</th>\n",
       "      <th>url</th>\n",
       "      <th>title</th>\n",
       "      <th>text</th>\n",
       "      <th>product</th>\n",
       "      <th>product_category</th>\n",
       "      <th>product_text</th>\n",
       "      <th>hazard</th>\n",
       "      <th>hazard_category</th>\n",
       "      <th>hazard_text</th>\n",
       "      <th>supplier_title</th>\n",
       "      <th>supplier_text</th>\n",
       "      <th>language</th>\n",
       "      <th>country</th>\n",
       "      <th>product_title</th>\n",
       "      <th>hazard_title</th>\n",
       "    </tr>\n",
       "  </thead>\n",
       "  <tbody>\n",
       "    <tr>\n",
       "      <th>0</th>\n",
       "      <td>2015</td>\n",
       "      <td>5</td>\n",
       "      <td>26</td>\n",
       "      <td>https://www.fda.gov/Safety/Recalls/ArchiveReca...</td>\n",
       "      <td>2015 - House of Spices (India) Inc. Issues Ale...</td>\n",
       "      <td>April 23, 2015 – Flushing, NY – House of Spic...</td>\n",
       "      <td>dried apricots</td>\n",
       "      <td>fruits and vegetables</td>\n",
       "      <td>(98,139)|(429,475)|(744,786)</td>\n",
       "      <td>undeclared sulphite</td>\n",
       "      <td>allergens</td>\n",
       "      <td>(167,249)</td>\n",
       "      <td>(7,34)</td>\n",
       "      <td>(33,47)</td>\n",
       "      <td>en</td>\n",
       "      <td>us</td>\n",
       "      <td>(49,50)</td>\n",
       "      <td>(16,21)|(43,50)</td>\n",
       "    </tr>\n",
       "    <tr>\n",
       "      <th>1</th>\n",
       "      <td>2022</td>\n",
       "      <td>5</td>\n",
       "      <td>25</td>\n",
       "      <td>https://www.fda.gov/safety/recalls-market-with...</td>\n",
       "      <td>Supplier J.M. Smucker Co.’s Jif Recall Prompts...</td>\n",
       "      <td>(Miami, FL – May 24, 2022) - J.M. Smucker Co.’...</td>\n",
       "      <td>peanuts</td>\n",
       "      <td>nuts, nut products and seeds</td>\n",
       "      <td>(452,517)|(533,559)|(584,614)</td>\n",
       "      <td>salmonella</td>\n",
       "      <td>biological</td>\n",
       "      <td>(258,289)|(936,968)|(1117,1165)|(1252,1305)</td>\n",
       "      <td>(53,61)</td>\n",
       "      <td>(0,9)|(129,137)|(360,368)|(448,456)|(665,673)|...</td>\n",
       "      <td>en</td>\n",
       "      <td>us</td>\n",
       "      <td>(14,20)|(28,30)|(85,90)</td>\n",
       "      <td>(0,7)|(47,51)|(131,140)</td>\n",
       "    </tr>\n",
       "    <tr>\n",
       "      <th>2</th>\n",
       "      <td>2020</td>\n",
       "      <td>6</td>\n",
       "      <td>2</td>\n",
       "      <td>http://www.cfs.gov.hk/english/whatsnew/whatsne...</td>\n",
       "      <td>*(Updated on 2 June 2020) Not to consume a bat...</td>\n",
       "      <td>*(Updated on 2 June 2020) Not to consume a bat...</td>\n",
       "      <td>apple juice</td>\n",
       "      <td>non-alcoholic beverages</td>\n",
       "      <td>(212,260)|(1429,1465)</td>\n",
       "      <td>patulin</td>\n",
       "      <td>chemical</td>\n",
       "      <td>(49,113)|(827,862)|(1011,1056)|(1064,1094)|(14...</td>\n",
       "      <td></td>\n",
       "      <td>(354,365)|(581,592)|(1616,1620)</td>\n",
       "      <td>en</td>\n",
       "      <td>hk</td>\n",
       "      <td>(72,76)</td>\n",
       "      <td>(30,31)|(96,102)</td>\n",
       "    </tr>\n",
       "    <tr>\n",
       "      <th>3</th>\n",
       "      <td>2022</td>\n",
       "      <td>7</td>\n",
       "      <td>5</td>\n",
       "      <td>http://www.cfs.gov.hk/english/whatsnew/whatsne...</td>\n",
       "      <td>*(Updated on 5 July 2022) Not to consume smoke...</td>\n",
       "      <td>*(Updated on 5 July 2022) Not to consume smoke...</td>\n",
       "      <td>chilled smoked salmon</td>\n",
       "      <td>fish and fish products</td>\n",
       "      <td>(26,72)|(244,293)|(315,360)|(592,638)|(716,763...</td>\n",
       "      <td>listeria monocytogenes</td>\n",
       "      <td>biological</td>\n",
       "      <td>(74,133)|(859,908)|(1309,1358)|(1520,1561)|(20...</td>\n",
       "      <td></td>\n",
       "      <td>(484,491)|(1197,1217)</td>\n",
       "      <td>en</td>\n",
       "      <td>hk</td>\n",
       "      <td>(41,67)</td>\n",
       "      <td>(48,62)|(101,108)</td>\n",
       "    </tr>\n",
       "    <tr>\n",
       "      <th>4</th>\n",
       "      <td>2021</td>\n",
       "      <td>3</td>\n",
       "      <td>20</td>\n",
       "      <td>http://www.fsis.usda.gov/recalls-alerts/avanza...</td>\n",
       "      <td>Avanza Pasta, LLC Recalls Beef and Poultry Pro...</td>\n",
       "      <td>0009-2021\\r\\n\\r\\n  \\r\\n  High\\r\\n\\r\\n    Produ...</td>\n",
       "      <td>pasta products</td>\n",
       "      <td>other food product / mixed</td>\n",
       "      <td>(661,666)|(750,790)|(2273,2278)|(3354,3359)</td>\n",
       "      <td>inspection issues</td>\n",
       "      <td>fraud</td>\n",
       "      <td>(40,68)|(329,409)|(881,931)|(2087,2112)|(2119,...</td>\n",
       "      <td>(0,16)</td>\n",
       "      <td>(294,310)|(654,671)|(767,771)|(2266,2283)|(334...</td>\n",
       "      <td>en</td>\n",
       "      <td>us</td>\n",
       "      <td>NaN</td>\n",
       "      <td>(43,50)|(62,76)</td>\n",
       "    </tr>\n",
       "    <tr>\n",
       "      <th>...</th>\n",
       "      <td>...</td>\n",
       "      <td>...</td>\n",
       "      <td>...</td>\n",
       "      <td>...</td>\n",
       "      <td>...</td>\n",
       "      <td>...</td>\n",
       "      <td>...</td>\n",
       "      <td>...</td>\n",
       "      <td>...</td>\n",
       "      <td>...</td>\n",
       "      <td>...</td>\n",
       "      <td>...</td>\n",
       "      <td>...</td>\n",
       "      <td>...</td>\n",
       "      <td>...</td>\n",
       "      <td>...</td>\n",
       "      <td>...</td>\n",
       "      <td>...</td>\n",
       "    </tr>\n",
       "    <tr>\n",
       "      <th>7614</th>\n",
       "      <td>2015</td>\n",
       "      <td>10</td>\n",
       "      <td>30</td>\n",
       "      <td>http://www.foodstandards.gov.au/industry/foodr...</td>\n",
       "      <td>Mikko Ready Mix Coconut Milk Powder 150g</td>\n",
       "      <td>​Xiao Trading Pty Ltd has recalled Mikko Ready...</td>\n",
       "      <td>coconut milk powder</td>\n",
       "      <td>fruits and vegetables</td>\n",
       "      <td>(162,168)</td>\n",
       "      <td>milk and products thereof</td>\n",
       "      <td>allergens</td>\n",
       "      <td>(190,223)|(288,324)|(658,691)|(756,792)</td>\n",
       "      <td></td>\n",
       "      <td>(0,20)|(895,914)</td>\n",
       "      <td>en</td>\n",
       "      <td>au</td>\n",
       "      <td>NaN</td>\n",
       "      <td>(12,34)</td>\n",
       "    </tr>\n",
       "    <tr>\n",
       "      <th>7615</th>\n",
       "      <td>2016</td>\n",
       "      <td>11</td>\n",
       "      <td>23</td>\n",
       "      <td>https://www.fda.gov/Safety/Recalls/ucm530611.htm</td>\n",
       "      <td>Recall Announcement: Sabra Dipping Company’s R...</td>\n",
       "      <td>“Fresh to Go Mediterranean Chicken Hummus” san...</td>\n",
       "      <td>sandwich spread</td>\n",
       "      <td>soups, broths, sauces and condiments</td>\n",
       "      <td>(10,82)|(258,290)|(338,370)|(1245,1279)|(1303,...</td>\n",
       "      <td>listeria monocytogenes</td>\n",
       "      <td>biological</td>\n",
       "      <td>(371,440)|(511,590)</td>\n",
       "      <td></td>\n",
       "      <td>(212,225)|(499,508)|(981,989)|(1375,1383)|(170...</td>\n",
       "      <td>en</td>\n",
       "      <td>us</td>\n",
       "      <td>NaN</td>\n",
       "      <td>(21,25)</td>\n",
       "    </tr>\n",
       "    <tr>\n",
       "      <th>7616</th>\n",
       "      <td>2022</td>\n",
       "      <td>3</td>\n",
       "      <td>23</td>\n",
       "      <td>https://www.fda.gov/safety/recalls-market-with...</td>\n",
       "      <td>Consumer Alert: Undeclared Sulfites in \"Licori...</td>\n",
       "      <td>“When a Government Agency Partner announces a ...</td>\n",
       "      <td>olives</td>\n",
       "      <td>fruits and vegetables</td>\n",
       "      <td>(418,461)|(728,774)</td>\n",
       "      <td>sulphates/sulphites</td>\n",
       "      <td>fraud</td>\n",
       "      <td>(486,553)|(1182,1219)|(1263,1303)</td>\n",
       "      <td></td>\n",
       "      <td>(322,347)</td>\n",
       "      <td>en</td>\n",
       "      <td>us</td>\n",
       "      <td>NaN</td>\n",
       "      <td></td>\n",
       "    </tr>\n",
       "    <tr>\n",
       "      <th>7617</th>\n",
       "      <td>2022</td>\n",
       "      <td>3</td>\n",
       "      <td>24</td>\n",
       "      <td>https://www.fda.gov/safety/recalls-market-with...</td>\n",
       "      <td>Consumer Alert: Undeclared Sulfites in Dried \"...</td>\n",
       "      <td>“When a Government Agency Partner announces a ...</td>\n",
       "      <td>dried plums</td>\n",
       "      <td>fruits and vegetables</td>\n",
       "      <td>(415,449)|(735,773)</td>\n",
       "      <td>sulphates/sulphites</td>\n",
       "      <td>fraud</td>\n",
       "      <td>(451,499)|(523,564)|(1142,1179)|(1223,1263)|(1...</td>\n",
       "      <td></td>\n",
       "      <td>(322,347)</td>\n",
       "      <td>en</td>\n",
       "      <td>us</td>\n",
       "      <td>(51,55)</td>\n",
       "      <td></td>\n",
       "    </tr>\n",
       "    <tr>\n",
       "      <th>7618</th>\n",
       "      <td>2022</td>\n",
       "      <td>5</td>\n",
       "      <td>3</td>\n",
       "      <td>https://www.fda.gov/safety/recalls-market-with...</td>\n",
       "      <td>Queen Bee LLC Voluntary Recall</td>\n",
       "      <td>“When a Government Agency Partner announces a ...</td>\n",
       "      <td>chocolate candies</td>\n",
       "      <td>confectionery</td>\n",
       "      <td>(398,448)|(513,518)</td>\n",
       "      <td>nuts</td>\n",
       "      <td>allergens</td>\n",
       "      <td>(835,868)|(923,973)</td>\n",
       "      <td>(0,12)</td>\n",
       "      <td>(256,268)|(556,572)|(1445,1461)|(1696,1704)</td>\n",
       "      <td>en</td>\n",
       "      <td>us</td>\n",
       "      <td>(6,12)</td>\n",
       "      <td>(6,8)</td>\n",
       "    </tr>\n",
       "  </tbody>\n",
       "</table>\n",
       "<p>7619 rows × 18 columns</p>\n",
       "</div>"
      ],
      "text/plain": [
       "      year  month  day                                                url  \\\n",
       "0     2015      5   26  https://www.fda.gov/Safety/Recalls/ArchiveReca...   \n",
       "1     2022      5   25  https://www.fda.gov/safety/recalls-market-with...   \n",
       "2     2020      6    2  http://www.cfs.gov.hk/english/whatsnew/whatsne...   \n",
       "3     2022      7    5  http://www.cfs.gov.hk/english/whatsnew/whatsne...   \n",
       "4     2021      3   20  http://www.fsis.usda.gov/recalls-alerts/avanza...   \n",
       "...    ...    ...  ...                                                ...   \n",
       "7614  2015     10   30  http://www.foodstandards.gov.au/industry/foodr...   \n",
       "7615  2016     11   23   https://www.fda.gov/Safety/Recalls/ucm530611.htm   \n",
       "7616  2022      3   23  https://www.fda.gov/safety/recalls-market-with...   \n",
       "7617  2022      3   24  https://www.fda.gov/safety/recalls-market-with...   \n",
       "7618  2022      5    3  https://www.fda.gov/safety/recalls-market-with...   \n",
       "\n",
       "                                                  title  \\\n",
       "0     2015 - House of Spices (India) Inc. Issues Ale...   \n",
       "1     Supplier J.M. Smucker Co.’s Jif Recall Prompts...   \n",
       "2     *(Updated on 2 June 2020) Not to consume a bat...   \n",
       "3     *(Updated on 5 July 2022) Not to consume smoke...   \n",
       "4     Avanza Pasta, LLC Recalls Beef and Poultry Pro...   \n",
       "...                                                 ...   \n",
       "7614           Mikko Ready Mix Coconut Milk Powder 150g   \n",
       "7615  Recall Announcement: Sabra Dipping Company’s R...   \n",
       "7616  Consumer Alert: Undeclared Sulfites in \"Licori...   \n",
       "7617  Consumer Alert: Undeclared Sulfites in Dried \"...   \n",
       "7618                     Queen Bee LLC Voluntary Recall   \n",
       "\n",
       "                                                   text  \\\n",
       "0      April 23, 2015 – Flushing, NY – House of Spic...   \n",
       "1     (Miami, FL – May 24, 2022) - J.M. Smucker Co.’...   \n",
       "2     *(Updated on 2 June 2020) Not to consume a bat...   \n",
       "3     *(Updated on 5 July 2022) Not to consume smoke...   \n",
       "4     0009-2021\\r\\n\\r\\n  \\r\\n  High\\r\\n\\r\\n    Produ...   \n",
       "...                                                 ...   \n",
       "7614  ​Xiao Trading Pty Ltd has recalled Mikko Ready...   \n",
       "7615  “Fresh to Go Mediterranean Chicken Hummus” san...   \n",
       "7616  “When a Government Agency Partner announces a ...   \n",
       "7617  “When a Government Agency Partner announces a ...   \n",
       "7618  “When a Government Agency Partner announces a ...   \n",
       "\n",
       "                    product                      product_category  \\\n",
       "0            dried apricots                 fruits and vegetables   \n",
       "1                   peanuts          nuts, nut products and seeds   \n",
       "2               apple juice               non-alcoholic beverages   \n",
       "3     chilled smoked salmon                fish and fish products   \n",
       "4            pasta products            other food product / mixed   \n",
       "...                     ...                                   ...   \n",
       "7614    coconut milk powder                 fruits and vegetables   \n",
       "7615        sandwich spread  soups, broths, sauces and condiments   \n",
       "7616                 olives                 fruits and vegetables   \n",
       "7617            dried plums                 fruits and vegetables   \n",
       "7618      chocolate candies                         confectionery   \n",
       "\n",
       "                                           product_text  \\\n",
       "0                          (98,139)|(429,475)|(744,786)   \n",
       "1                         (452,517)|(533,559)|(584,614)   \n",
       "2                                 (212,260)|(1429,1465)   \n",
       "3     (26,72)|(244,293)|(315,360)|(592,638)|(716,763...   \n",
       "4           (661,666)|(750,790)|(2273,2278)|(3354,3359)   \n",
       "...                                                 ...   \n",
       "7614                                          (162,168)   \n",
       "7615  (10,82)|(258,290)|(338,370)|(1245,1279)|(1303,...   \n",
       "7616                                (418,461)|(728,774)   \n",
       "7617                                (415,449)|(735,773)   \n",
       "7618                                (398,448)|(513,518)   \n",
       "\n",
       "                         hazard hazard_category  \\\n",
       "0           undeclared sulphite       allergens   \n",
       "1                    salmonella      biological   \n",
       "2                       patulin        chemical   \n",
       "3        listeria monocytogenes      biological   \n",
       "4             inspection issues           fraud   \n",
       "...                         ...             ...   \n",
       "7614  milk and products thereof       allergens   \n",
       "7615     listeria monocytogenes      biological   \n",
       "7616        sulphates/sulphites           fraud   \n",
       "7617        sulphates/sulphites           fraud   \n",
       "7618                       nuts       allergens   \n",
       "\n",
       "                                            hazard_text supplier_title  \\\n",
       "0                                             (167,249)         (7,34)   \n",
       "1           (258,289)|(936,968)|(1117,1165)|(1252,1305)        (53,61)   \n",
       "2     (49,113)|(827,862)|(1011,1056)|(1064,1094)|(14...                  \n",
       "3     (74,133)|(859,908)|(1309,1358)|(1520,1561)|(20...                  \n",
       "4     (40,68)|(329,409)|(881,931)|(2087,2112)|(2119,...         (0,16)   \n",
       "...                                                 ...            ...   \n",
       "7614            (190,223)|(288,324)|(658,691)|(756,792)                  \n",
       "7615                                (371,440)|(511,590)                  \n",
       "7616                  (486,553)|(1182,1219)|(1263,1303)                  \n",
       "7617  (451,499)|(523,564)|(1142,1179)|(1223,1263)|(1...                  \n",
       "7618                                (835,868)|(923,973)         (0,12)   \n",
       "\n",
       "                                          supplier_text language country  \\\n",
       "0                                               (33,47)       en      us   \n",
       "1     (0,9)|(129,137)|(360,368)|(448,456)|(665,673)|...       en      us   \n",
       "2                       (354,365)|(581,592)|(1616,1620)       en      hk   \n",
       "3                                 (484,491)|(1197,1217)       en      hk   \n",
       "4     (294,310)|(654,671)|(767,771)|(2266,2283)|(334...       en      us   \n",
       "...                                                 ...      ...     ...   \n",
       "7614                                   (0,20)|(895,914)       en      au   \n",
       "7615  (212,225)|(499,508)|(981,989)|(1375,1383)|(170...       en      us   \n",
       "7616                                          (322,347)       en      us   \n",
       "7617                                          (322,347)       en      us   \n",
       "7618        (256,268)|(556,572)|(1445,1461)|(1696,1704)       en      us   \n",
       "\n",
       "                product_title             hazard_title  \n",
       "0                     (49,50)          (16,21)|(43,50)  \n",
       "1     (14,20)|(28,30)|(85,90)  (0,7)|(47,51)|(131,140)  \n",
       "2                     (72,76)         (30,31)|(96,102)  \n",
       "3                     (41,67)        (48,62)|(101,108)  \n",
       "4                         NaN          (43,50)|(62,76)  \n",
       "...                       ...                      ...  \n",
       "7614                      NaN                  (12,34)  \n",
       "7615                      NaN                  (21,25)  \n",
       "7616                      NaN                           \n",
       "7617                  (51,55)                           \n",
       "7618                   (6,12)                    (6,8)  \n",
       "\n",
       "[7619 rows x 18 columns]"
      ]
     },
     "execution_count": 19,
     "metadata": {},
     "output_type": "execute_result"
    }
   ],
   "source": [
    "# concat products:\n",
    "incidents['product']          = ['|'.join(p) for p in incidents['product']]\n",
    "incidents['product-category'] = ['|'.join(p) for p in incidents['product-category']]\n",
    "incidents['product-text']     = [str(p) for p in incidents['product-text']]\n",
    "\n",
    "# concat hazards:\n",
    "incidents['hazard']           = ['|'.join(h) for h in incidents['hazard']]\n",
    "incidents['hazard-category']  = ['|'.join(h) for h in incidents['hazard-category']]\n",
    "incidents['hazard-text']      = [str(h) for h in incidents['hazard-text']]\n",
    "\n",
    "# concat suppliers:\n",
    "incidents['supplier-title']   = [str(s) for s in incidents['supplier-title']]\n",
    "incidents['supplier-text']    = [str(s) for s in incidents['supplier-text']]\n",
    "\n",
    "incidents[COLUMN]             = [str(s) for s in incidents[COLUMN]]\n",
    "\n",
    "incidents"
   ]
  },
  {
   "cell_type": "code",
   "execution_count": 20,
   "metadata": {},
   "outputs": [],
   "source": [
    "incidents.to_csv('incidents/incidents_final.csv')"
   ]
  }
 ],
 "metadata": {
  "kernelspec": {
   "display_name": "Python 3",
   "language": "python",
   "name": "python3"
  },
  "language_info": {
   "codemirror_mode": {
    "name": "ipython",
    "version": 3
   },
   "file_extension": ".py",
   "mimetype": "text/x-python",
   "name": "python",
   "nbconvert_exporter": "python",
   "pygments_lexer": "ipython3",
   "version": "3.11.6"
  },
  "orig_nbformat": 4
 },
 "nbformat": 4,
 "nbformat_minor": 2
}
