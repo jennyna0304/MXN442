{
 "cells": [
  {
   "cell_type": "code",
   "execution_count": 15,
   "metadata": {},
   "outputs": [],
   "source": [
    "import _base_path\n",
    "import pickle\n",
    "import json\n",
    "import numpy as np\n",
    "import pandas as pd\n",
    "import matplotlib.pyplot as plt\n",
    "from resources.data_io import load_mappings\n",
    "from resources.metrics import ConfusionMatrix\n",
    "from sklearn.metrics import precision_score, recall_score, f1_score, accuracy_score"
   ]
  },
  {
   "cell_type": "code",
   "execution_count": 16,
   "metadata": {},
   "outputs": [],
   "source": [
    "DATA      = 'incidents'\n",
    "MODELS    = [\n",
    "    'bow-rnd',\n",
    "    'bow-sup',\n",
    "    'bow-knn',\n",
    "    'bow-lr',\n",
    "    'bow-svm',\n",
    "    'tfidf-knn',\n",
    "    'tfidf-lr',\n",
    "    'tfidf-svm',\n",
    "    'roberta-base',\n",
    "    'xlm-roberta-base'\n",
    "]\n",
    "METRICS    = {\n",
    "    'f1':           lambda y_true, y_pred: f1_score(y_true, y_pred, average='macro', zero_division=0.0),\n",
    "    'precision':    lambda y_true, y_pred: precision_score(y_true, y_pred, average='macro', zero_division=0.0),\n",
    "    'recall':       lambda y_true, y_pred: recall_score(y_true, y_pred, average='macro', zero_division=0.0),\n",
    "#    'accuracy':     lambda y_true, y_pred: accuracy_score(y_true, y_pred)\n",
    "}\n",
    "LABEL     = 'hazard-category'\n",
    "CV_SPLITS = [0, 1, 2, 3, 4]"
   ]
  },
  {
   "attachments": {},
   "cell_type": "markdown",
   "metadata": {},
   "source": [
    "# Load Class-Mappings:"
   ]
  },
  {
   "cell_type": "code",
   "execution_count": 17,
   "metadata": {},
   "outputs": [
    {
     "data": {
      "text/plain": [
       "array(['allergens', 'biological', 'chemical',\n",
       "       'food additives and flavourings', 'food contact materials',\n",
       "       'foreign bodies', 'fraud', 'migration', 'organoleptic aspects',\n",
       "       'other hazard', 'packaging defect'], dtype=object)"
      ]
     },
     "execution_count": 17,
     "metadata": {},
     "output_type": "execute_result"
    }
   ],
   "source": [
    "class_map = load_mappings(f\"../data/{DATA}/splits/\", LABEL)\n",
    "class_map"
   ]
  },
  {
   "cell_type": "code",
   "execution_count": 18,
   "metadata": {},
   "outputs": [],
   "source": [
    "with open(f'../data/{DATA}/support_zones.json', 'r') as file:\n",
    "    high_support, low_support = json.load(file)[LABEL]"
   ]
  },
  {
   "cell_type": "code",
   "execution_count": 19,
   "metadata": {},
   "outputs": [
    {
     "data": {
      "text/plain": [
       "['biological']"
      ]
     },
     "execution_count": 19,
     "metadata": {},
     "output_type": "execute_result"
    }
   ],
   "source": [
    "high_support"
   ]
  },
  {
   "cell_type": "code",
   "execution_count": 20,
   "metadata": {},
   "outputs": [
    {
     "data": {
      "text/plain": [
       "['foreign bodies',\n",
       " 'chemical',\n",
       " 'fraud',\n",
       " 'other hazard',\n",
       " 'packaging defect',\n",
       " 'organoleptic aspects',\n",
       " 'food additives and flavourings',\n",
       " 'migration',\n",
       " 'food contact materials']"
      ]
     },
     "execution_count": 20,
     "metadata": {},
     "output_type": "execute_result"
    }
   ],
   "source": [
    "low_support"
   ]
  },
  {
   "cell_type": "code",
   "execution_count": 21,
   "metadata": {},
   "outputs": [
    {
     "data": {
      "text/plain": [
       "[('biological', 1, 2558),\n",
       " ('allergens', 0, 2527),\n",
       " ('foreign bodies', 5, 943),\n",
       " ('chemical', 2, 578),\n",
       " ('fraud', 6, 527),\n",
       " ('other hazard', 9, 187),\n",
       " ('packaging defect', 10, 100),\n",
       " ('organoleptic aspects', 8, 81),\n",
       " ('food additives and flavourings', 3, 32),\n",
       " ('migration', 7, 14),\n",
       " ('food contact materials', 4, 1)]"
      ]
     },
     "execution_count": 21,
     "metadata": {},
     "output_type": "execute_result"
    }
   ],
   "source": [
    "counts = pd.read_csv(f'../data/{DATA}/{DATA}_final.csv')[LABEL].value_counts()\n",
    "\n",
    "class_map = list(zip(\n",
    "    class_map,\n",
    "    range(len(class_map)),\n",
    "    [counts[c] if c in counts else 0 for c in class_map]\n",
    "))\n",
    "class_map.sort(key=lambda row:row[2], reverse=True)\n",
    "class_map"
   ]
  },
  {
   "attachments": {},
   "cell_type": "markdown",
   "metadata": {},
   "source": [
    "# Load Results:"
   ]
  },
  {
   "cell_type": "code",
   "execution_count": 22,
   "metadata": {},
   "outputs": [],
   "source": [
    "results = {}\n",
    "\n",
    "for m in MODELS:\n",
    "    r = []\n",
    "    try:\n",
    "        for i in CV_SPLITS:\n",
    "            with open(f'{m}/{m}-{LABEL}-{i:d}.pickle', 'rb') as f:\n",
    "                r.append(pickle.load(f))\n",
    "    except FileNotFoundError: continue\n",
    "    results[m] = r"
   ]
  },
  {
   "cell_type": "code",
   "execution_count": 23,
   "metadata": {},
   "outputs": [],
   "source": [
    "def calculate_metrics(classes=[c for c, _, _ in class_map]):\n",
    "    classes = [i for c, i, _ in class_map if c in classes]\n",
    "    metrics = {}\n",
    "\n",
    "    for model in results:\n",
    "        metrics[model] = {metric: np.empty(5, dtype=float) for metric in METRICS}\n",
    "\n",
    "        for i, r in enumerate(results[model]):\n",
    "            mask = np.vectorize(lambda c: c in classes)(r['labels'])\n",
    "            y_true = r['labels'][mask]\n",
    "            y_pred = r['predictions'][mask]\n",
    "\n",
    "            for metric in METRICS:\n",
    "                metrics[model][metric][i] = METRICS[metric](y_true, y_pred)\n",
    "\n",
    "    return metrics"
   ]
  },
  {
   "cell_type": "code",
   "execution_count": 24,
   "metadata": {},
   "outputs": [],
   "source": [
    "metrics_all = calculate_metrics()\n",
    "metrics_high_support = calculate_metrics(high_support)\n",
    "metrics_low_support = calculate_metrics(low_support)"
   ]
  },
  {
   "cell_type": "code",
   "execution_count": 25,
   "metadata": {},
   "outputs": [],
   "source": [
    "def metric2latex(metrics_dict): \n",
    "    metrics = np.array([[metrics_dict[model][metric] for metric in METRICS] for model in metrics_dict], dtype=float)\n",
    "    avg     = metrics.mean(axis=-1)\n",
    "    err     = np.abs(metrics - avg.reshape(avg.shape + (1,))).mean(axis=-1)\n",
    "\n",
    "    best    = np.round(avg, 2) == np.round(np.max(avg, axis=0), 2)\n",
    "\n",
    "    return np.vectorize(\n",
    "        lambda a, e, b: f'\\\\cellcolor\\u007Bblue!15\\u007D\\\\footnotesize $\\\\bf {a:.2f}$ \\\\tiny $\\\\bf\\\\pm {e:.2f}$' if b else  f'\\\\footnotesize ${a:.2f}$ \\\\tiny $\\\\pm {e:.2f}$'\n",
    "    )(avg, err, best)"
   ]
  },
  {
   "cell_type": "code",
   "execution_count": 26,
   "metadata": {},
   "outputs": [
    {
     "name": "stdout",
     "output_type": "stream",
     "text": [
      "BOW-RND &\n",
      "\\footnotesize $0.08$ \\tiny $\\pm 0.00$ & \\footnotesize $0.07$ \\tiny $\\pm 0.00$ & \\footnotesize $0.10$ \\tiny $\\pm 0.00$ &\n",
      "\\footnotesize $0.33$ \\tiny $\\pm 0.00$ & \\footnotesize $0.50$ \\tiny $\\pm 0.00$ & \\footnotesize $0.25$ \\tiny $\\pm 0.00$ &\n",
      "\\footnotesize $0.00$ \\tiny $\\pm 0.00$ & \\footnotesize $0.00$ \\tiny $\\pm 0.00$ & \\footnotesize $0.00$ \\tiny $\\pm 0.00$ \\\\\n",
      "\n",
      "BOW-SUP &\n",
      "\\footnotesize $0.05$ \\tiny $\\pm 0.00$ & \\footnotesize $0.03$ \\tiny $\\pm 0.00$ & \\footnotesize $0.10$ \\tiny $\\pm 0.00$ &\n",
      "\\cellcolor{blue!15}\\footnotesize $\\bf 1.00$ \\tiny $\\bf\\pm 0.00$ & \\cellcolor{blue!15}\\footnotesize $\\bf 1.00$ \\tiny $\\bf\\pm 0.00$ & \\cellcolor{blue!15}\\footnotesize $\\bf 1.00$ \\tiny $\\bf\\pm 0.00$ &\n",
      "\\footnotesize $0.00$ \\tiny $\\pm 0.00$ & \\footnotesize $0.00$ \\tiny $\\pm 0.00$ & \\footnotesize $0.00$ \\tiny $\\pm 0.00$ \\\\\n",
      "\n",
      "BOW-KNN &\n",
      "\\footnotesize $0.45$ \\tiny $\\pm 0.01$ & \\footnotesize $0.64$ \\tiny $\\pm 0.04$ & \\footnotesize $0.40$ \\tiny $\\pm 0.01$ &\n",
      "\\footnotesize $0.16$ \\tiny $\\pm 0.01$ & \\footnotesize $0.17$ \\tiny $\\pm 0.01$ & \\footnotesize $0.15$ \\tiny $\\pm 0.01$ &\n",
      "\\footnotesize $0.30$ \\tiny $\\pm 0.01$ & \\footnotesize $0.55$ \\tiny $\\pm 0.02$ & \\footnotesize $0.23$ \\tiny $\\pm 0.01$ \\\\\n",
      "\n",
      "BOW-LR &\n",
      "\\footnotesize $0.52$ \\tiny $\\pm 0.02$ & \\cellcolor{blue!15}\\footnotesize $\\bf 0.67$ \\tiny $\\bf\\pm 0.01$ & \\footnotesize $0.47$ \\tiny $\\pm 0.02$ &\n",
      "\\footnotesize $0.16$ \\tiny $\\pm 0.01$ & \\footnotesize $0.17$ \\tiny $\\pm 0.01$ & \\footnotesize $0.15$ \\tiny $\\pm 0.01$ &\n",
      "\\footnotesize $0.37$ \\tiny $\\pm 0.03$ & \\cellcolor{blue!15}\\footnotesize $\\bf 0.57$ \\tiny $\\bf\\pm 0.01$ & \\footnotesize $0.29$ \\tiny $\\pm 0.02$ \\\\\n",
      "\n",
      "BOW-SVM &\n",
      "\\footnotesize $0.57$ \\tiny $\\pm 0.03$ & \\footnotesize $0.66$ \\tiny $\\pm 0.02$ & \\footnotesize $0.53$ \\tiny $\\pm 0.03$ &\n",
      "\\footnotesize $0.14$ \\tiny $\\pm 0.01$ & \\footnotesize $0.15$ \\tiny $\\pm 0.01$ & \\footnotesize $0.13$ \\tiny $\\pm 0.01$ &\n",
      "\\footnotesize $0.42$ \\tiny $\\pm 0.03$ & \\footnotesize $0.56$ \\tiny $\\pm 0.03$ & \\footnotesize $0.35$ \\tiny $\\pm 0.03$ \\\\\n",
      "\n",
      "TFIDF-KNN &\n",
      "\\footnotesize $0.46$ \\tiny $\\pm 0.02$ & \\footnotesize $0.64$ \\tiny $\\pm 0.04$ & \\footnotesize $0.41$ \\tiny $\\pm 0.03$ &\n",
      "\\footnotesize $0.15$ \\tiny $\\pm 0.01$ & \\footnotesize $0.17$ \\tiny $\\pm 0.01$ & \\footnotesize $0.14$ \\tiny $\\pm 0.01$ &\n",
      "\\footnotesize $0.33$ \\tiny $\\pm 0.02$ & \\cellcolor{blue!15}\\footnotesize $\\bf 0.57$ \\tiny $\\bf\\pm 0.02$ & \\footnotesize $0.24$ \\tiny $\\pm 0.03$ \\\\\n",
      "\n",
      "TFIDF-LR &\n",
      "\\footnotesize $0.55$ \\tiny $\\pm 0.01$ & \\cellcolor{blue!15}\\footnotesize $\\bf 0.67$ \\tiny $\\bf\\pm 0.02$ & \\footnotesize $0.49$ \\tiny $\\pm 0.02$ &\n",
      "\\footnotesize $0.17$ \\tiny $\\pm 0.02$ & \\footnotesize $0.18$ \\tiny $\\pm 0.02$ & \\footnotesize $0.16$ \\tiny $\\pm 0.01$ &\n",
      "\\footnotesize $0.40$ \\tiny $\\pm 0.01$ & \\cellcolor{blue!15}\\footnotesize $\\bf 0.57$ \\tiny $\\bf\\pm 0.02$ & \\footnotesize $0.31$ \\tiny $\\pm 0.02$ \\\\\n",
      "\n",
      "TFIDF-SVM &\n",
      "\\cellcolor{blue!15}\\footnotesize $\\bf 0.58$ \\tiny $\\bf\\pm 0.01$ & \\footnotesize $0.64$ \\tiny $\\pm 0.03$ & \\cellcolor{blue!15}\\footnotesize $\\bf 0.55$ \\tiny $\\bf\\pm 0.01$ &\n",
      "\\footnotesize $0.13$ \\tiny $\\pm 0.01$ & \\footnotesize $0.14$ \\tiny $\\pm 0.01$ & \\footnotesize $0.12$ \\tiny $\\pm 0.01$ &\n",
      "\\cellcolor{blue!15}\\footnotesize $\\bf 0.44$ \\tiny $\\bf\\pm 0.01$ & \\cellcolor{blue!15}\\footnotesize $\\bf 0.57$ \\tiny $\\bf\\pm 0.03$ & \\cellcolor{blue!15}\\footnotesize $\\bf 0.38$ \\tiny $\\bf\\pm 0.01$ \\\\\n",
      "\n",
      "ROBERTA-BASE &\n",
      "\\footnotesize $0.56$ \\tiny $\\pm 0.02$ & \\footnotesize $0.60$ \\tiny $\\pm 0.04$ & \\footnotesize $0.54$ \\tiny $\\pm 0.03$ &\n",
      "\\footnotesize $0.13$ \\tiny $\\pm 0.02$ & \\footnotesize $0.14$ \\tiny $\\pm 0.02$ & \\footnotesize $0.12$ \\tiny $\\pm 0.02$ &\n",
      "\\footnotesize $0.42$ \\tiny $\\pm 0.03$ & \\footnotesize $0.51$ \\tiny $\\pm 0.04$ & \\footnotesize $0.36$ \\tiny $\\pm 0.03$ \\\\\n",
      "\n",
      "XLM-ROBERTA-BASE &\n",
      "\\footnotesize $0.55$ \\tiny $\\pm 0.02$ & \\footnotesize $0.63$ \\tiny $\\pm 0.04$ & \\footnotesize $0.53$ \\tiny $\\pm 0.03$ &\n",
      "\\footnotesize $0.13$ \\tiny $\\pm 0.01$ & \\footnotesize $0.14$ \\tiny $\\pm 0.01$ & \\footnotesize $0.13$ \\tiny $\\pm 0.01$ &\n",
      "\\footnotesize $0.41$ \\tiny $\\pm 0.02$ & \\footnotesize $0.53$ \\tiny $\\pm 0.03$ & \\footnotesize $0.35$ \\tiny $\\pm 0.03$ \\\\\n",
      "\n"
     ]
    }
   ],
   "source": [
    "ltx_all = metric2latex(metrics_all)\n",
    "ltx_hs  = metric2latex(metrics_high_support)\n",
    "ltx_ls  = metric2latex(metrics_low_support)\n",
    "\n",
    "for i, model in enumerate(MODELS):\n",
    "    row =  f'{model.upper()} &\\n'\n",
    "\n",
    "    if model in metrics_all:            row += ' & '.join(ltx_all[i])\n",
    "    else:                               row += ' &'*(len(METRICS)-1)\n",
    "    row += ' &\\n'\n",
    "\n",
    "    if model in metrics_high_support:   row += ' & '.join(ltx_hs[i])\n",
    "    else:                               row += ' &'*(len(METRICS)-1)\n",
    "    row += ' &\\n'\n",
    "\n",
    "    if model in metrics_low_support:    row += ' & '.join(ltx_ls[i])\n",
    "    else:                               row += ' &'*(len(METRICS)-1)\n",
    "    row += ' \\\\\\\\\\n'\n",
    "\n",
    "    print(row)"
   ]
  },
  {
   "cell_type": "markdown",
   "metadata": {},
   "source": [
    "# Plot confusion matrix"
   ]
  },
  {
   "cell_type": "code",
   "execution_count": 27,
   "metadata": {},
   "outputs": [],
   "source": [
    "MODEL = 'tfidf-svm'\n",
    "\n",
    "hs_mask = np.zeros(len(class_map), dtype=bool)\n",
    "ls_mask = np.zeros(len(class_map), dtype=bool)\n",
    "ms_mask = np.zeros(len(class_map), dtype=bool)\n",
    "\n",
    "for c, i, _ in class_map:\n",
    "    hs_mask[i] = c in high_support\n",
    "    ls_mask[i] = c in low_support\n",
    "    ms_mask[i] = not(hs_mask[i] or ls_mask[i])\n",
    "        \n",
    "y_pred = np.array([\n",
    "    np.argmax([hs_mask[e], ms_mask[e], ls_mask[e]])\n",
    "    for e in results[MODEL][0]['predictions']\n",
    "])\n",
    "y_true = np.array([\n",
    "    np.argmax([hs_mask[e], ms_mask[e], ls_mask[e]])\n",
    "    for e in results[MODEL][0]['labels']\n",
    "])\n",
    "\n",
    "cm = ConfusionMatrix(y_true, y_pred, classes=[\"High\", \"Medium\", \"Low\"])"
   ]
  },
  {
   "cell_type": "code",
   "execution_count": 28,
   "metadata": {},
   "outputs": [
    {
     "data": {
      "image/png": "[encoded data removed]",
      "text/plain": [
       "<Figure size 300x300 with 1 Axes>"
      ]
     },
     "metadata": {},
     "output_type": "display_data"
    }
   ],
   "source": [
    "fig, axs = plt.subplots(1, 1, figsize=(3, 3))\n",
    "cm.plot(axs)\n",
    "fig.savefig(f'../pictures/plots/cm_{MODEL}_{LABEL}.pdf')"
   ]
  }
 ],
 "metadata": {
  "kernelspec": {
   "display_name": "Python 3.9.13 ('semeval': venv)",
   "language": "python",
   "name": "python3"
  },
  "language_info": {
   "codemirror_mode": {
    "name": "ipython",
    "version": 3
   },
   "file_extension": ".py",
   "mimetype": "text/x-python",
   "name": "python",
   "nbconvert_exporter": "python",
   "pygments_lexer": "ipython3",
   "version": "3.11.7"
  },
  "orig_nbformat": 4,
  "vscode": {
   "interpreter": {
    "hash": "b666b6ffdea20fd94a09543e671feb1173b4f04c4549159b4e01bb8315246c89"
   }
  }
 },
 "nbformat": 4,
 "nbformat_minor": 2
}
